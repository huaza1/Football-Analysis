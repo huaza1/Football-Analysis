{
 "cells": [
  {
   "cell_type": "code",
   "execution_count": 1,
   "metadata": {},
   "outputs": [],
   "source": [
    "%matplotlib inline"
   ]
  },
  {
   "cell_type": "markdown",
   "metadata": {},
   "source": [
    "\n",
    "# Using Wyscout \n",
    "\n",
    "Getting familiar with Wyscout data\n"
   ]
  },
  {
   "cell_type": "code",
   "execution_count": 2,
   "metadata": {},
   "outputs": [],
   "source": [
    "#importing necessary libraries\n",
    "import pathlib\n",
    "import os\n",
    "import pandas as pd\n",
    "import json"
   ]
  },
  {
   "cell_type": "markdown",
   "metadata": {},
   "source": [
    "## Competition data\n",
    "In this dataframe you will find information about the id of a competition and available competitions.\n",
    "If you are trying it locally, comment  ..... active lines (put # in front lines path = ...) and comment out (delete #).\n",
    "\n"
   ]
  },
  {
   "cell_type": "code",
   "execution_count": 3,
   "metadata": {},
   "outputs": [
    {
     "name": "stdout",
     "output_type": "stream",
     "text": [
      "<class 'pandas.core.frame.DataFrame'>\n",
      "RangeIndex: 7 entries, 0 to 6\n",
      "Data columns (total 6 columns):\n",
      " #   Column   Non-Null Count  Dtype \n",
      "---  ------   --------------  ----- \n",
      " 0   name     7 non-null      object\n",
      " 1   wyId     7 non-null      int64 \n",
      " 2   format   7 non-null      object\n",
      " 3   area     7 non-null      object\n",
      " 4   type     7 non-null      object\n",
      " 5   Country  7 non-null      object\n",
      "dtypes: int64(1), object(5)\n",
      "memory usage: 464.0+ bytes\n"
     ]
    }
   ],
   "source": [
    "path = os.path.join(str(pathlib.Path().resolve()), 'data', 'Wyscout', 'competitions.json')\n",
    "with open(path) as f:\n",
    "    data = json.load(f)\n",
    "df_competitions = pd.DataFrame(data)\n",
    "df_competitions['Country'] = df_competitions['area'].apply(lambda x: x['name'] if 'name' in x else None)\n",
    "df_competitions.info()"
   ]
  },
  {
   "cell_type": "markdown",
   "metadata": {},
   "source": [
    "## Match data\n",
    "In this dataframe you can find information about all games that were played in Premier League 2017/18 season.\n",
    "*wyId* is the unique id in the Wyscout database. \n",
    "\n"
   ]
  },
  {
   "cell_type": "code",
   "execution_count": 4,
   "metadata": {},
   "outputs": [
    {
     "name": "stdout",
     "output_type": "stream",
     "text": [
      "England Data Count: 380\n",
      "Spain Data Count: 380\n",
      "Italy Data Count: 380\n",
      "Germany Data Count: 306\n",
      "France Data Count: 380\n"
     ]
    }
   ],
   "source": [
    "# 计算每个联赛数据的行数\n",
    "def count_data_rows(league_name):\n",
    "    path = os.path.join(str(pathlib.Path().resolve()), 'data', 'Wyscout', f'matches_{league_name}.json')\n",
    "    with open(path) as f:\n",
    "        data = json.load(f)\n",
    "    df_league = pd.DataFrame(data)\n",
    "    data_count = df_league.shape[0]\n",
    "    return data_count\n",
    "\n",
    "# 计算英超联赛数据的行数\n",
    "england_data_count = count_data_rows('England')\n",
    "print(f'England Data Count: {england_data_count}')\n",
    "\n",
    "# 计算其他四个联赛数据的行数（假设它们分别为 \"Spain\", \"Italy\", \"Germany\", \"France\"）\n",
    "spain_data_count = count_data_rows('Spain')\n",
    "italy_data_count = count_data_rows('Italy')\n",
    "germany_data_count = count_data_rows('Germany')\n",
    "france_data_count = count_data_rows('France')\n",
    "\n",
    "# 打印每个联赛数据的行数\n",
    "print(f'Spain Data Count: {spain_data_count}')\n",
    "print(f'Italy Data Count: {italy_data_count}')\n",
    "print(f'Germany Data Count: {germany_data_count}')\n",
    "print(f'France Data Count: {france_data_count}')\n"
   ]
  },
  {
   "cell_type": "code",
   "execution_count": 6,
   "metadata": {},
   "outputs": [
    {
     "name": "stdout",
     "output_type": "stream",
     "text": [
      "<class 'pandas.core.frame.DataFrame'>\n",
      "RangeIndex: 1826 entries, 0 to 1825\n",
      "Data columns (total 14 columns):\n",
      " #   Column         Non-Null Count  Dtype \n",
      "---  ------         --------------  ----- \n",
      " 0   status         1826 non-null   object\n",
      " 1   roundId        1826 non-null   int64 \n",
      " 2   gameweek       1826 non-null   int64 \n",
      " 3   teamsData      1826 non-null   object\n",
      " 4   seasonId       1826 non-null   int64 \n",
      " 5   dateutc        1826 non-null   object\n",
      " 6   winner         1826 non-null   int64 \n",
      " 7   venue          1826 non-null   object\n",
      " 8   wyId           1826 non-null   int64 \n",
      " 9   label          1826 non-null   object\n",
      " 10  date           1826 non-null   object\n",
      " 11  referees       1826 non-null   object\n",
      " 12  duration       1826 non-null   object\n",
      " 13  competitionId  1826 non-null   int64 \n",
      "dtypes: int64(6), object(8)\n",
      "memory usage: 199.8+ KB\n"
     ]
    }
   ],
   "source": [
    "def load_and_merge_league_data(league_name, df_matches):\n",
    "    path = os.path.join(str(pathlib.Path().resolve()), 'data', 'Wyscout', f'matches_{league_name}.json')\n",
    "    with open(path) as f:\n",
    "        data = json.load(f)\n",
    "    df_league = pd.DataFrame(data)\n",
    "    df_matches = pd.concat([df_matches, df_league], ignore_index=True)\n",
    "    return df_matches\n",
    "df_matches = pd.DataFrame()\n",
    "df_matches = load_and_merge_league_data('England', df_matches)\n",
    "df_matches = load_and_merge_league_data('Spain', df_matches)\n",
    "df_matches = load_and_merge_league_data('Italy', df_matches)\n",
    "df_matches = load_and_merge_league_data('Germany', df_matches)\n",
    "df_matches = load_and_merge_league_data('France', df_matches)\n",
    "df_matches.info()"
   ]
  },
  {
   "cell_type": "code",
   "execution_count": 7,
   "metadata": {},
   "outputs": [
    {
     "name": "stdout",
     "output_type": "stream",
     "text": [
      "      status  roundId  gameweek  \\\n",
      "0     Played  4405654        38   \n",
      "1     Played  4405654        38   \n",
      "2     Played  4405654        38   \n",
      "3     Played  4405654        38   \n",
      "4     Played  4405654        38   \n",
      "...      ...      ...       ...   \n",
      "1821  Played  4405655         1   \n",
      "1822  Played  4405655         1   \n",
      "1823  Played  4405655         1   \n",
      "1824  Played  4405655         1   \n",
      "1825  Played  4405655         1   \n",
      "\n",
      "                                              teamsData  seasonId  \\\n",
      "0     {'1646': {'scoreET': 0, 'coachId': 8880, 'side...    181150   \n",
      "1     {'1628': {'scoreET': 0, 'coachId': 8357, 'side...    181150   \n",
      "2     {'1609': {'scoreET': 0, 'coachId': 7845, 'side...    181150   \n",
      "3     {'1651': {'scoreET': 0, 'coachId': 8093, 'side...    181150   \n",
      "4     {'1644': {'scoreET': 0, 'coachId': 93112, 'sid...    181150   \n",
      "...                                                 ...       ...   \n",
      "1821  {'3783': {'scoreET': 0, 'coachId': 210513, 'si...    181189   \n",
      "1822  {'3782': {'scoreET': 0, 'coachId': 218066, 'si...    181189   \n",
      "1823  {'3795': {'scoreET': 0, 'coachId': 25606, 'sid...    181189   \n",
      "1824  {'3789': {'scoreET': 0, 'coachId': 26812, 'sid...    181189   \n",
      "1825  {'3780': {'scoreET': 0, 'coachId': 228969, 'si...    181189   \n",
      "\n",
      "                  dateutc  winner                     venue     wyId  \\\n",
      "0     2018-05-13 14:00:00    1659                 Turf Moor  2500089   \n",
      "1     2018-05-13 14:00:00    1628             Selhurst Park  2500090   \n",
      "2     2018-05-13 14:00:00    1609  The John Smith's Stadium  2500091   \n",
      "3     2018-05-13 14:00:00    1612                   Anfield  2500092   \n",
      "4     2018-05-13 14:00:00    1611              Old Trafford  2500093   \n",
      "...                   ...     ...                       ...      ...   \n",
      "1821  2017-08-05 18:00:00    3787        Stade de la Mosson  2500692   \n",
      "1822  2017-08-05 18:00:00    3782   Stade Geoffroy-Guichard  2500694   \n",
      "1823  2017-08-05 18:00:00       0           Stade de l'Aube  2500695   \n",
      "1824  2017-08-05 15:15:00    3767          Parc des Princes  2500693   \n",
      "1825  2017-08-04 18:45:00   19830           Stade Louis II.  2500691   \n",
      "\n",
      "                                             label  \\\n",
      "0                 Burnley - AFC Bournemouth, 1 - 2   \n",
      "1     Crystal Palace - West Bromwich Albion, 2 - 0   \n",
      "2               Huddersfield Town - Arsenal, 0 - 1   \n",
      "3        Liverpool - Brighton & Hove Albion, 4 - 0   \n",
      "4               Manchester United - Watford, 1 - 0   \n",
      "...                                            ...   \n",
      "1821                     Montpellier - Caen, 1 - 0   \n",
      "1822              Saint-\\u00c9tienne - Nice, 1 - 0   \n",
      "1823                        Troyes - Rennes, 1 - 1   \n",
      "1824                        PSG - Amiens SC, 2 - 0   \n",
      "1825                      Monaco - Toulouse, 3 - 2   \n",
      "\n",
      "                                    date  \\\n",
      "0       May 13, 2018 at 4:00:00 PM GMT+2   \n",
      "1       May 13, 2018 at 4:00:00 PM GMT+2   \n",
      "2       May 13, 2018 at 4:00:00 PM GMT+2   \n",
      "3       May 13, 2018 at 4:00:00 PM GMT+2   \n",
      "4       May 13, 2018 at 4:00:00 PM GMT+2   \n",
      "...                                  ...   \n",
      "1821  August 5, 2017 at 8:00:00 PM GMT+2   \n",
      "1822  August 5, 2017 at 8:00:00 PM GMT+2   \n",
      "1823  August 5, 2017 at 8:00:00 PM GMT+2   \n",
      "1824  August 5, 2017 at 5:15:00 PM GMT+2   \n",
      "1825  August 4, 2017 at 8:45:00 PM GMT+2   \n",
      "\n",
      "                                               referees duration  \\\n",
      "0     [{'refereeId': 385705, 'role': 'referee'}, {'r...  Regular   \n",
      "1     [{'refereeId': 381851, 'role': 'referee'}, {'r...  Regular   \n",
      "2     [{'refereeId': 384965, 'role': 'referee'}, {'r...  Regular   \n",
      "3     [{'refereeId': 385704, 'role': 'referee'}, {'r...  Regular   \n",
      "4     [{'refereeId': 381853, 'role': 'referee'}, {'r...  Regular   \n",
      "...                                                 ...      ...   \n",
      "1821  [{'refereeId': 385496, 'role': 'referee'}, {'r...  Regular   \n",
      "1822  [{'refereeId': 385528, 'role': 'referee'}, {'r...  Regular   \n",
      "1823  [{'refereeId': 386325, 'role': 'referee'}, {'r...  Regular   \n",
      "1824  [{'refereeId': 381847, 'role': 'referee'}, {'r...  Regular   \n",
      "1825  [{'refereeId': 384931, 'role': 'referee'}, {'r...  Regular   \n",
      "\n",
      "      competitionId  \n",
      "0               364  \n",
      "1               364  \n",
      "2               364  \n",
      "3               364  \n",
      "4               364  \n",
      "...             ...  \n",
      "1821            412  \n",
      "1822            412  \n",
      "1823            412  \n",
      "1824            412  \n",
      "1825            412  \n",
      "\n",
      "[1826 rows x 14 columns]\n"
     ]
    }
   ],
   "source": [
    "df_matches = df_matches.drop_duplicates(subset=['wyId'])\n",
    "print(df_matches)\n"
   ]
  },
  {
   "cell_type": "code",
   "execution_count": 8,
   "metadata": {},
   "outputs": [
    {
     "name": "stdout",
     "output_type": "stream",
     "text": [
      "      home_team_ids  away_team_ids\n",
      "0              1646           1659\n",
      "1              1628           1627\n",
      "2              1673           1609\n",
      "3              1612           1651\n",
      "4              1611           1644\n",
      "...             ...            ...\n",
      "1821           3787           3783\n",
      "1822           3782           3775\n",
      "1823           3795           3774\n",
      "1824           3767           3789\n",
      "1825          19830           3780\n",
      "\n",
      "[1826 rows x 2 columns]\n"
     ]
    }
   ],
   "source": [
    "df_matches1 = df_matches.copy()\n",
    "def extract_team_ids(teams_data, side):\n",
    "    for team_data in teams_data.values():\n",
    "        if team_data['side'] == side:\n",
    "            return team_data['teamId']\n",
    "    return None\n",
    "df_matches1['home_team_ids'] = df_matches1['teamsData'].apply(lambda x: extract_team_ids(x, 'home'))\n",
    "df_matches1['away_team_ids'] = df_matches1['teamsData'].apply(lambda x: extract_team_ids(x, 'away'))\n",
    "print(df_matches1[['home_team_ids', 'away_team_ids']])\n"
   ]
  },
  {
   "cell_type": "code",
   "execution_count": 13,
   "metadata": {},
   "outputs": [
    {
     "name": "stdout",
     "output_type": "stream",
     "text": [
      "{'1646': {'scoreET': 0, 'coachId': 8880, 'side': 'home', 'teamId': 1646, 'score': 1, 'scoreP': 0, 'hasFormation': 1, 'formation': {'bench': [{'playerId': 77502, 'ownGoals': '0', 'redCards': '0', 'goals': 'null', 'yellowCards': '0'}, {'playerId': 270828, 'ownGoals': '0', 'redCards': '0', 'goals': 'null', 'yellowCards': '0'}, {'playerId': 9164, 'ownGoals': '0', 'redCards': '0', 'goals': 'null', 'yellowCards': '0'}, {'playerId': 8516, 'ownGoals': '0', 'redCards': '0', 'goals': 'null', 'yellowCards': '0'}, {'playerId': 9179, 'ownGoals': '0', 'redCards': '0', 'goals': 'null', 'yellowCards': '0'}, {'playerId': 532949, 'ownGoals': '0', 'redCards': '0', 'goals': 'null', 'yellowCards': '0'}, {'playerId': 9127, 'ownGoals': '0', 'redCards': '0', 'goals': 'null', 'yellowCards': '0'}], 'lineup': [{'playerId': 9206, 'ownGoals': '0', 'redCards': '0', 'goals': '1', 'yellowCards': '0'}, {'playerId': 93, 'ownGoals': '0', 'redCards': '0', 'goals': 'null', 'yellowCards': '0'}, {'playerId': 10108, 'ownGoals': '0', 'redCards': '0', 'goals': 'null', 'yellowCards': '0'}, {'playerId': 8433, 'ownGoals': '0', 'redCards': '0', 'goals': 'null', 'yellowCards': '0'}, {'playerId': 8125, 'ownGoals': '0', 'redCards': '0', 'goals': 'null', 'yellowCards': '0'}, {'playerId': 9433, 'ownGoals': '0', 'redCards': '0', 'goals': 'null', 'yellowCards': '0'}, {'playerId': 8980, 'ownGoals': '0', 'redCards': '0', 'goals': 'null', 'yellowCards': '0'}, {'playerId': 8643, 'ownGoals': '0', 'redCards': '0', 'goals': 'null', 'yellowCards': '0'}, {'playerId': 12242, 'ownGoals': '0', 'redCards': '0', 'goals': 'null', 'yellowCards': '0'}, {'playerId': 8925, 'ownGoals': '0', 'redCards': '0', 'goals': 'null', 'yellowCards': '0'}, {'playerId': 8284, 'ownGoals': '2', 'redCards': '0', 'goals': '0', 'yellowCards': '0'}], 'substitutions': [{'playerIn': 9127, 'playerOut': 9206, 'minute': 61}, {'playerIn': 9179, 'playerOut': 93, 'minute': 80}, {'playerIn': 532949, 'playerOut': 8284, 'minute': 94}]}, 'scoreHT': 1}, '1659': {'scoreET': 0, 'coachId': 8934, 'side': 'away', 'teamId': 1659, 'score': 2, 'scoreP': 0, 'hasFormation': 1, 'formation': {'bench': [{'playerId': 11061, 'ownGoals': '0', 'redCards': '0', 'goals': 'null', 'yellowCards': '0'}, {'playerId': 9293, 'ownGoals': '0', 'redCards': '0', 'goals': 'null', 'yellowCards': '0'}, {'playerId': 20921, 'ownGoals': '0', 'redCards': '0', 'goals': 'null', 'yellowCards': '0'}, {'playerId': 515791, 'ownGoals': '0', 'redCards': '0', 'goals': 'null', 'yellowCards': '0'}, {'playerId': 7989, 'ownGoals': '0', 'redCards': '0', 'goals': 'null', 'yellowCards': '0'}, {'playerId': 8296, 'ownGoals': '0', 'redCards': '0', 'goals': 'null', 'yellowCards': '0'}, {'playerId': 11669, 'ownGoals': '0', 'redCards': '0', 'goals': '1', 'yellowCards': '0'}], 'lineup': [{'playerId': 259531, 'ownGoals': '0', 'redCards': '0', 'goals': 'null', 'yellowCards': '0'}, {'playerId': 245813, 'ownGoals': '0', 'redCards': '0', 'goals': 'null', 'yellowCards': '0'}, {'playerId': 239411, 'ownGoals': '0', 'redCards': '0', 'goals': 'null', 'yellowCards': '0'}, {'playerId': 9277, 'ownGoals': '0', 'redCards': '0', 'goals': 'null', 'yellowCards': '0'}, {'playerId': 9285, 'ownGoals': '0', 'redCards': '0', 'goals': 'null', 'yellowCards': '0'}, {'playerId': 62224, 'ownGoals': '0', 'redCards': '0', 'goals': 'null', 'yellowCards': '0'}, {'playerId': 9739, 'ownGoals': '0', 'redCards': '0', 'goals': 'null', 'yellowCards': '0'}, {'playerId': 8351, 'ownGoals': '0', 'redCards': '0', 'goals': 'null', 'yellowCards': '0'}, {'playerId': 8726, 'ownGoals': '0', 'redCards': '0', 'goals': 'null', 'yellowCards': '0'}, {'playerId': 134102, 'ownGoals': '0', 'redCards': '0', 'goals': 'null', 'yellowCards': '0'}, {'playerId': 9637, 'ownGoals': '0', 'redCards': '0', 'goals': '1', 'yellowCards': '0'}], 'substitutions': [{'playerIn': 7989, 'playerOut': 259531, 'minute': 59}, {'playerIn': 11669, 'playerOut': 245813, 'minute': 59}, {'playerIn': 8296, 'playerOut': 239411, 'minute': 65}]}, 'scoreHT': 0}}\n"
     ]
    }
   ],
   "source": [
    "print(df_matches['teamsData'][0])\n",
    "\n"
   ]
  },
  {
   "cell_type": "markdown",
   "metadata": {},
   "source": [
    "## Player data\n",
    "In this dataframe you can find information about all players available for Wyscout public dataset. *wyId* is \n",
    "the player id in the Wyscout database. In the *currentTeamId* you can find the id of a team that the player plays form.\n",
    "*shortName* is an important column for vizualisations and rankings since player's name is written in a shorter way.\n",
    "\n"
   ]
  },
  {
   "cell_type": "code",
   "execution_count": 9,
   "metadata": {},
   "outputs": [
    {
     "name": "stdout",
     "output_type": "stream",
     "text": [
      "<class 'pandas.core.frame.DataFrame'>\n",
      "RangeIndex: 3603 entries, 0 to 3602\n",
      "Data columns (total 14 columns):\n",
      " #   Column                 Non-Null Count  Dtype \n",
      "---  ------                 --------------  ----- \n",
      " 0   passportArea           3603 non-null   object\n",
      " 1   weight                 3603 non-null   int64 \n",
      " 2   firstName              3603 non-null   object\n",
      " 3   middleName             3603 non-null   object\n",
      " 4   lastName               3603 non-null   object\n",
      " 5   currentTeamId          3512 non-null   object\n",
      " 6   birthDate              3603 non-null   object\n",
      " 7   height                 3603 non-null   int64 \n",
      " 8   role                   3603 non-null   object\n",
      " 9   birthArea              3603 non-null   object\n",
      " 10  wyId                   3603 non-null   int64 \n",
      " 11  foot                   3603 non-null   object\n",
      " 12  shortName              3603 non-null   object\n",
      " 13  currentNationalTeamId  3603 non-null   object\n",
      "dtypes: int64(3), object(11)\n",
      "memory usage: 394.2+ KB\n"
     ]
    }
   ],
   "source": [
    "\n",
    "path = os.path.join(str(pathlib.Path().resolve()), 'data', 'Wyscout', 'players.json')\n",
    "with open(path) as f:\n",
    "    data = json.load(f)\n",
    "df_players = pd.DataFrame(data)\n",
    "df_players.info()"
   ]
  },
  {
   "cell_type": "code",
   "execution_count": 10,
   "metadata": {},
   "outputs": [
    {
     "name": "stdout",
     "output_type": "stream",
     "text": [
      "      age\n",
      "0      28\n",
      "1      18\n",
      "2      18\n",
      "3      27\n",
      "4      18\n",
      "...   ...\n",
      "3598   27\n",
      "3599   25\n",
      "3600   22\n",
      "3601   21\n",
      "3602   20\n",
      "\n",
      "[3603 rows x 1 columns]\n"
     ]
    }
   ],
   "source": [
    "from datetime import datetime\n",
    "def calculate_age(birth_date):\n",
    "    reference_date = datetime(2017, 8, 1)\n",
    "    birth_date = datetime.strptime(birth_date, '%Y-%m-%d')\n",
    "    age = reference_date.year - birth_date.year - ((reference_date.month, reference_date.day) < (birth_date.month, birth_date.day))\n",
    "    return age\n",
    "df_players1 = df_players.copy()\n",
    "df_players1['age'] = df_players1['birthDate'].apply(calculate_age)\n",
    "print(df_players1[['age']])\n"
   ]
  },
  {
   "cell_type": "code",
   "execution_count": 11,
   "metadata": {},
   "outputs": [
    {
     "name": "stdout",
     "output_type": "stream",
     "text": [
      "            role\n",
      "0     Goalkeeper\n",
      "1       Defender\n",
      "2     Goalkeeper\n",
      "3     Midfielder\n",
      "4       Defender\n",
      "...          ...\n",
      "3598    Defender\n",
      "3599  Goalkeeper\n",
      "3600    Defender\n",
      "3601  Goalkeeper\n",
      "3602  Midfielder\n",
      "\n",
      "[3603 rows x 1 columns]\n",
      "<bound method DataFrame.info of                                            passportArea  weight  \\\n",
      "0     {'name': 'Turkey', 'id': '792', 'alpha3code': ...      78   \n",
      "1     {'name': 'Senegal', 'id': '686', 'alpha3code':...      73   \n",
      "2     {'name': 'France', 'id': '250', 'alpha3code': ...      72   \n",
      "3     {'name': 'Senegal', 'id': '686', 'alpha3code':...      82   \n",
      "4     {'name': 'France', 'id': '250', 'alpha3code': ...      84   \n",
      "...                                                 ...     ...   \n",
      "3598  {'name': 'Tunisia', 'id': 788, 'alpha3code': '...      72   \n",
      "3599  {'name': 'Peru', 'id': 604, 'alpha3code': 'PER...      76   \n",
      "3600  {'name': 'Peru', 'id': 604, 'alpha3code': 'PER...      78   \n",
      "3601  {'name': 'Morocco', 'id': 504, 'alpha3code': '...      70   \n",
      "3602  {'name': 'Panama', 'id': 591, 'alpha3code': 'P...       0   \n",
      "\n",
      "              firstName middleName             lastName currentTeamId  \\\n",
      "0                 Harun                           Tekin          4502   \n",
      "1                Malang                            Sarr          3775   \n",
      "2                  Over                        Mandanda          3772   \n",
      "3     Alfred John Momar                         N'Diaye           683   \n",
      "4              Ibrahima                     Konat\\u00e9          2975   \n",
      "...                 ...        ...                  ...           ...   \n",
      "3598                Ali                    Ma\\u00e2loul         16041   \n",
      "3599     Carlos Alberto             C\\u00e1ceda Oyaguez         15591   \n",
      "3600  Miguel Gianpierre                   Araujo Blanco         12072   \n",
      "3601         Ahmed Reda                       Tagnaouti         16183   \n",
      "3602            Ricardo                   Guardia Avila         62943   \n",
      "\n",
      "       birthDate  height        role  \\\n",
      "0     1989-06-17     187  Goalkeeper   \n",
      "1     1999-01-23     182    Defender   \n",
      "2     1998-10-26     176  Goalkeeper   \n",
      "3     1990-03-06     187  Midfielder   \n",
      "4     1999-05-25     192    Defender   \n",
      "...          ...     ...         ...   \n",
      "3598  1990-01-01     175    Defender   \n",
      "3599  1991-09-27     183  Goalkeeper   \n",
      "3600  1994-10-24     179    Defender   \n",
      "3601  1996-04-05     182  Goalkeeper   \n",
      "3602  1997-02-04       0  Midfielder   \n",
      "\n",
      "                                              birthArea    wyId   foot  \\\n",
      "0     {'name': 'Turkey', 'id': '792', 'alpha3code': ...   32777  right   \n",
      "1     {'name': 'France', 'id': '250', 'alpha3code': ...  393228   left   \n",
      "2     {'name': 'France', 'id': '250', 'alpha3code': ...  393230          \n",
      "3     {'name': 'France', 'id': '250', 'alpha3code': ...   32793  right   \n",
      "4     {'name': 'France', 'id': '250', 'alpha3code': ...  393247  right   \n",
      "...                                                 ...     ...    ...   \n",
      "3598  {'name': 'Tunisia', 'id': 788, 'alpha3code': '...  120839   left   \n",
      "3599  {'name': 'Peru', 'id': 604, 'alpha3code': 'PER...  114736  right   \n",
      "3600  {'name': 'Peru', 'id': 604, 'alpha3code': 'PER...  114908  right   \n",
      "3601  {'name': 'Morocco', 'id': 504, 'alpha3code': '...  285583  right   \n",
      "3602  {'name': 'Panama', 'id': 591, 'alpha3code': 'P...  361536   left   \n",
      "\n",
      "            shortName currentNationalTeamId  age  \n",
      "0            H. Tekin                  4687   28  \n",
      "1             M. Sarr                  4423   18  \n",
      "2         O. Mandanda                  null   18  \n",
      "3          A. N'Diaye                 19314   27  \n",
      "4      I. Konat\\u00e9                  null   18  \n",
      "...               ...                   ...  ...  \n",
      "3598  A. Ma\\u00e2loul                  null   27  \n",
      "3599   C. C\\u00e1ceda                  null   25  \n",
      "3600        M. Araujo                  null   22  \n",
      "3601     A. Tagnaouti                  null   21  \n",
      "3602         R. Avila                  null   20  \n",
      "\n",
      "[3603 rows x 15 columns]>\n"
     ]
    }
   ],
   "source": [
    "df_players1['role'] = df_players1['role'].apply(lambda role_info: role_info['name'])\n",
    "print(df_players1[['role']])\n",
    "print(df_players1.info)"
   ]
  },
  {
   "cell_type": "markdown",
   "metadata": {},
   "source": [
    "## Event data\n",
    "In this dataframe you can find information about all events that occured in all the games during 2017/18 Premier League\n",
    "season. *matchId* matches the wyId from *df_matches*, *playerId* matches *wyId* from *df_players*.*tags* provide information on additional characteristics of an event, for example\n",
    "if the pass was accurate. The location on the pass can be found in *positions*, but remeber, that the data are collected\n",
    "on 100x100 square with reverted y-axis. In the *eventName* you will find the basic name of an event, whereas *subEventName*\n",
    "provide more information. *eventSec* is the time of an event.\n",
    "\n",
    "If you want to learn more about Wyscout data, you can explore \n",
    "[WyScout API](https://apidocs.wyscout.com/), but remember to switch the version to 2.0 at the top of the page.\n",
    "\n",
    "This code is adjusted to the webpage with file size limit. If you want to open the data that is stored in the working\n",
    "directory, comment (put '#') before the following code and comment out the lines below them (delete '#').\n",
    "\n"
   ]
  },
  {
   "cell_type": "code",
   "execution_count": 12,
   "metadata": {
    "scrolled": true
   },
   "outputs": [
    {
     "name": "stdout",
     "output_type": "stream",
     "text": [
      "<class 'pandas.core.frame.DataFrame'>\n",
      "RangeIndex: 3071395 entries, 0 to 3071394\n",
      "Data columns (total 12 columns):\n",
      " #   Column        Dtype  \n",
      "---  ------        -----  \n",
      " 0   eventId       int64  \n",
      " 1   subEventName  object \n",
      " 2   tags          object \n",
      " 3   playerId      int64  \n",
      " 4   positions     object \n",
      " 5   matchId       int64  \n",
      " 6   eventName     object \n",
      " 7   teamId        int64  \n",
      " 8   matchPeriod   object \n",
      " 9   eventSec      float64\n",
      " 10  subEventId    object \n",
      " 11  id            int64  \n",
      "dtypes: float64(1), int64(5), object(6)\n",
      "memory usage: 281.2+ MB\n"
     ]
    }
   ],
   "source": [
    "def load_and_merge_event_data(league_name, df_events):\n",
    "    path = os.path.join(str(pathlib.Path().resolve()), 'data', 'Wyscout', f'events_{league_name}.json')\n",
    "    with open(path) as f:\n",
    "        data = json.load(f)\n",
    "    df_event_league = pd.DataFrame(data)\n",
    "    df_events = pd.concat([df_events, df_event_league], ignore_index=True)\n",
    "    return df_events\n",
    "df_events = pd.DataFrame()\n",
    "df_events = load_and_merge_event_data('England', df_events)\n",
    "df_events = load_and_merge_event_data('Spain', df_events)\n",
    "df_events = load_and_merge_event_data('Italy', df_events)\n",
    "df_events = load_and_merge_event_data('Germany', df_events)\n",
    "df_events = load_and_merge_event_data('France', df_events)\n",
    "df_events.info()\n"
   ]
  },
  {
   "cell_type": "code",
   "execution_count": 18,
   "metadata": {},
   "outputs": [
    {
     "name": "stdout",
     "output_type": "stream",
     "text": [
      "         eventId  subEventName  \\\n",
      "0              8   Simple pass   \n",
      "1              8     High pass   \n",
      "2              8     Head pass   \n",
      "3              8     Head pass   \n",
      "4              8   Simple pass   \n",
      "...          ...           ...   \n",
      "3071390       10          Shot   \n",
      "3071391        9  Save attempt   \n",
      "3071392        8   Simple pass   \n",
      "3071393        8   Simple pass   \n",
      "3071394        8   Simple pass   \n",
      "\n",
      "                                                      tags  playerId  \\\n",
      "0                                           [{'id': 1801}]     25413   \n",
      "1                                           [{'id': 1801}]    370224   \n",
      "2                                           [{'id': 1801}]      3319   \n",
      "3                                           [{'id': 1801}]    120339   \n",
      "4                                           [{'id': 1801}]    167145   \n",
      "...                                                    ...       ...   \n",
      "3071390  [{'id': 101}, {'id': 401}, {'id': 201}, {'id':...    405977   \n",
      "3071391          [{'id': 101}, {'id': 1208}, {'id': 1802}]     25521   \n",
      "3071392                                     [{'id': 1801}]    295761   \n",
      "3071393                                     [{'id': 1801}]    249926   \n",
      "3071394                                     [{'id': 1802}]    393284   \n",
      "\n",
      "                                          positions  matchId     eventName  \\\n",
      "0          [{'y': 49, 'x': 49}, {'y': 78, 'x': 31}]  2499719          Pass   \n",
      "1          [{'y': 78, 'x': 31}, {'y': 75, 'x': 51}]  2499719          Pass   \n",
      "2          [{'y': 75, 'x': 51}, {'y': 71, 'x': 35}]  2499719          Pass   \n",
      "3          [{'y': 71, 'x': 35}, {'y': 95, 'x': 41}]  2499719          Pass   \n",
      "4          [{'y': 95, 'x': 41}, {'y': 88, 'x': 72}]  2499719          Pass   \n",
      "...                                             ...      ...           ...   \n",
      "3071390  [{'y': 65, 'x': 87}, {'y': 100, 'x': 100}]  2501065          Shot   \n",
      "3071391      [{'y': 0, 'x': 0}, {'y': 35, 'x': 13}]  2501065  Save attempt   \n",
      "3071392    [{'y': 52, 'x': 50}, {'y': 47, 'x': 44}]  2501065          Pass   \n",
      "3071393     [{'y': 47, 'x': 44}, {'y': 8, 'x': 41}]  2501065          Pass   \n",
      "3071394       [{'y': 8, 'x': 41}, {'y': 0, 'x': 0}]  2501065          Pass   \n",
      "\n",
      "         teamId matchPeriod     eventSec subEventId         id  \n",
      "0          1609          1H     2.758649         85  177959171  \n",
      "1          1609          1H     4.946850         83  177959172  \n",
      "2          1609          1H     6.542188         82  177959173  \n",
      "3          1609          1H     8.143395         82  177959174  \n",
      "4          1609          1H    10.302366         85  177959175  \n",
      "...         ...         ...          ...        ...        ...  \n",
      "3071390   19830          2H  2821.203869        100  253316980  \n",
      "3071391    3795          2H  2824.817116         91  253316978  \n",
      "3071392    3795          2H  2888.383858         85  253316981  \n",
      "3071393    3795          2H  2889.654402         85  253316982  \n",
      "3071394    3795          2H  2891.153313         85  253316983  \n",
      "\n",
      "[3071395 rows x 12 columns]\n"
     ]
    }
   ],
   "source": [
    "print(df_events)"
   ]
  },
  {
   "cell_type": "markdown",
   "metadata": {},
   "source": [
    "## Before you start\n",
    "Run these lines in Spyder/Jupyter notebook and explore dataframes \n",
    "to get more familiar before you start working on the course.\n"
   ]
  },
  {
   "cell_type": "markdown",
   "metadata": {},
   "source": [
    "## Player rank"
   ]
  },
  {
   "cell_type": "code",
   "execution_count": 16,
   "metadata": {},
   "outputs": [
    {
     "name": "stdout",
     "output_type": "stream",
     "text": [
      "<class 'pandas.core.frame.DataFrame'>\n",
      "RangeIndex: 46897 entries, 0 to 46896\n",
      "Data columns (total 6 columns):\n",
      " #   Column          Non-Null Count  Dtype  \n",
      "---  ------          --------------  -----  \n",
      " 0   goalScored      46897 non-null  int64  \n",
      " 1   playerankScore  46897 non-null  float64\n",
      " 2   matchId         46897 non-null  int64  \n",
      " 3   playerId        46897 non-null  int64  \n",
      " 4   roleCluster     46897 non-null  object \n",
      " 5   minutesPlayed   46897 non-null  int64  \n",
      "dtypes: float64(1), int64(4), object(1)\n",
      "memory usage: 2.1+ MB\n"
     ]
    }
   ],
   "source": [
    "#path to data\n",
    "path = os.path.join(str(pathlib.Path().resolve()), 'data', 'Wyscout', 'playerank.json')\n",
    "#open data\n",
    "with open(path) as f:\n",
    "    data = json.load(f)\n",
    "#save it in a dataframe  \n",
    "df_playerank = pd.DataFrame(data)\n",
    "#structure of data\n",
    "df_playerank.info()"
   ]
  },
  {
   "cell_type": "markdown",
   "metadata": {},
   "source": [
    "## Teams"
   ]
  },
  {
   "cell_type": "code",
   "execution_count": 13,
   "metadata": {},
   "outputs": [
    {
     "name": "stdout",
     "output_type": "stream",
     "text": [
      "<class 'pandas.core.frame.DataFrame'>\n",
      "RangeIndex: 142 entries, 0 to 141\n",
      "Data columns (total 6 columns):\n",
      " #   Column        Non-Null Count  Dtype \n",
      "---  ------        --------------  ----- \n",
      " 0   city          142 non-null    object\n",
      " 1   name          142 non-null    object\n",
      " 2   wyId          142 non-null    int64 \n",
      " 3   officialName  142 non-null    object\n",
      " 4   area          142 non-null    object\n",
      " 5   type          142 non-null    object\n",
      "dtypes: int64(1), object(5)\n",
      "memory usage: 6.8+ KB\n"
     ]
    }
   ],
   "source": [
    "path = os.path.join(str(pathlib.Path().resolve()), 'data', 'Wyscout', 'teams.json')\n",
    "with open(path) as f:\n",
    "    data = json.load(f)\n",
    "df_teams = pd.DataFrame(data)\n",
    "df_teams.info()"
   ]
  },
  {
   "cell_type": "code",
   "execution_count": 14,
   "metadata": {},
   "outputs": [
    {
     "name": "stdout",
     "output_type": "stream",
     "text": [
      "Missing values count for each column:\n",
      "eventId         0\n",
      "subEventName    0\n",
      "tags            0\n",
      "playerId        0\n",
      "positions       0\n",
      "matchId         0\n",
      "eventName       0\n",
      "teamId          0\n",
      "matchPeriod     0\n",
      "eventSec        0\n",
      "subEventId      0\n",
      "id              0\n",
      "dtype: int64\n"
     ]
    }
   ],
   "source": [
    "missing_values = df_events.isnull().sum()\n",
    "print(\"Missing values count for each column:\")\n",
    "print(missing_values)\n"
   ]
  },
  {
   "cell_type": "code",
   "execution_count": 17,
   "metadata": {},
   "outputs": [
    {
     "name": "stdout",
     "output_type": "stream",
     "text": [
      "Missing values count for df_playerank:\n",
      "goalScored        0\n",
      "playerankScore    0\n",
      "matchId           0\n",
      "playerId          0\n",
      "roleCluster       0\n",
      "minutesPlayed     0\n",
      "dtype: int64\n",
      "Missing values count for df_matches:\n",
      "status           0\n",
      "roundId          0\n",
      "gameweek         0\n",
      "teamsData        0\n",
      "seasonId         0\n",
      "dateutc          0\n",
      "winner           0\n",
      "venue            0\n",
      "wyId             0\n",
      "label            0\n",
      "date             0\n",
      "referees         0\n",
      "duration         0\n",
      "competitionId    0\n",
      "dtype: int64\n",
      "Missing values count for df_competitions:\n",
      "name       0\n",
      "wyId       0\n",
      "format     0\n",
      "area       0\n",
      "type       0\n",
      "Country    0\n",
      "dtype: int64\n",
      "Missing values count for df_players:\n",
      "passportArea              0\n",
      "weight                    0\n",
      "firstName                 0\n",
      "middleName                0\n",
      "lastName                  0\n",
      "currentTeamId            91\n",
      "birthDate                 0\n",
      "height                    0\n",
      "role                      0\n",
      "birthArea                 0\n",
      "wyId                      0\n",
      "foot                      0\n",
      "shortName                 0\n",
      "currentNationalTeamId     0\n",
      "dtype: int64\n"
     ]
    }
   ],
   "source": [
    "missing_values_playerank = df_playerank.isnull().sum()\n",
    "print(\"Missing values count for df_playerank:\")\n",
    "print(missing_values_playerank)\n",
    "missing_values_matches = df_matches.isnull().sum()\n",
    "print(\"Missing values count for df_matches:\")\n",
    "print(missing_values_matches)\n",
    "missing_values_competitions = df_competitions.isnull().sum()\n",
    "print(\"Missing values count for df_competitions:\")\n",
    "print(missing_values_competitions)\n",
    "missing_values_players = df_players.isnull().sum()\n",
    "print(\"Missing values count for df_players:\")\n",
    "print(missing_values_players)\n"
   ]
  },
  {
   "cell_type": "code",
   "execution_count": 18,
   "metadata": {},
   "outputs": [
    {
     "name": "stdout",
     "output_type": "stream",
     "text": [
      "DataFrame after dropping rows with missing currentTeamId:\n",
      "<class 'pandas.core.frame.DataFrame'>\n",
      "Int64Index: 3512 entries, 0 to 3602\n",
      "Data columns (total 14 columns):\n",
      " #   Column                 Non-Null Count  Dtype \n",
      "---  ------                 --------------  ----- \n",
      " 0   passportArea           3512 non-null   object\n",
      " 1   weight                 3512 non-null   int64 \n",
      " 2   firstName              3512 non-null   object\n",
      " 3   middleName             3512 non-null   object\n",
      " 4   lastName               3512 non-null   object\n",
      " 5   currentTeamId          3512 non-null   object\n",
      " 6   birthDate              3512 non-null   object\n",
      " 7   height                 3512 non-null   int64 \n",
      " 8   role                   3512 non-null   object\n",
      " 9   birthArea              3512 non-null   object\n",
      " 10  wyId                   3512 non-null   int64 \n",
      " 11  foot                   3512 non-null   object\n",
      " 12  shortName              3512 non-null   object\n",
      " 13  currentNationalTeamId  3512 non-null   object\n",
      "dtypes: int64(3), object(11)\n",
      "memory usage: 411.6+ KB\n"
     ]
    }
   ],
   "source": [
    "df_players_cleaned = df_players.dropna(subset=['currentTeamId'])\n",
    "print(\"DataFrame after dropping rows with missing currentTeamId:\")\n",
    "df_players_cleaned.info()\n"
   ]
  },
  {
   "cell_type": "code",
   "execution_count": 19,
   "metadata": {},
   "outputs": [
    {
     "name": "stdout",
     "output_type": "stream",
     "text": [
      "Rows with eventName equal to 'Shot':\n",
      "         eventId subEventName  \\\n",
      "46            10         Shot   \n",
      "62            10         Shot   \n",
      "91            10         Shot   \n",
      "128           10         Shot   \n",
      "249           10         Shot   \n",
      "...          ...          ...   \n",
      "3071282       10         Shot   \n",
      "3071293       10         Shot   \n",
      "3071309       10         Shot   \n",
      "3071311       10         Shot   \n",
      "3071390       10         Shot   \n",
      "\n",
      "                                                      tags  playerId  \\\n",
      "46       [{'id': 101}, {'id': 402}, {'id': 201}, {'id':...     25413   \n",
      "62       [{'id': 401}, {'id': 201}, {'id': 1211}, {'id'...     26150   \n",
      "91       [{'id': 101}, {'id': 403}, {'id': 201}, {'id':...     14763   \n",
      "128      [{'id': 401}, {'id': 201}, {'id': 1215}, {'id'...      7868   \n",
      "249      [{'id': 402}, {'id': 201}, {'id': 1205}, {'id'...      7868   \n",
      "...                                                    ...       ...   \n",
      "3071282  [{'id': 401}, {'id': 201}, {'id': 1205}, {'id'...    454388   \n",
      "3071293  [{'id': 402}, {'id': 201}, {'id': 1214}, {'id'...    219350   \n",
      "3071309  [{'id': 401}, {'id': 2101}, {'id': 201}, {'id'...      3450   \n",
      "3071311  [{'id': 401}, {'id': 201}, {'id': 1201}, {'id'...     28922   \n",
      "3071390  [{'id': 101}, {'id': 401}, {'id': 201}, {'id':...    405977   \n",
      "\n",
      "                                          positions  matchId eventName  \\\n",
      "46           [{'y': 41, 'x': 88}, {'y': 0, 'x': 0}]  2499719      Shot   \n",
      "62       [{'y': 52, 'x': 85}, {'y': 100, 'x': 100}]  2499719      Shot   \n",
      "91       [{'y': 52, 'x': 96}, {'y': 100, 'x': 100}]  2499719      Shot   \n",
      "128          [{'y': 33, 'x': 81}, {'y': 0, 'x': 0}]  2499719      Shot   \n",
      "249          [{'y': 30, 'x': 75}, {'y': 0, 'x': 0}]  2499719      Shot   \n",
      "...                                             ...      ...       ...   \n",
      "3071282      [{'y': 26, 'x': 87}, {'y': 0, 'x': 0}]  2501065      Shot   \n",
      "3071293      [{'y': 50, 'x': 89}, {'y': 0, 'x': 0}]  2501065      Shot   \n",
      "3071309  [{'y': 59, 'x': 91}, {'y': 100, 'x': 100}]  2501065      Shot   \n",
      "3071311  [{'y': 50, 'x': 95}, {'y': 100, 'x': 100}]  2501065      Shot   \n",
      "3071390  [{'y': 65, 'x': 87}, {'y': 100, 'x': 100}]  2501065      Shot   \n",
      "\n",
      "         teamId matchPeriod     eventSec subEventId         id  \n",
      "46         1609          1H    94.595788        100  177959212  \n",
      "62         1631          1H   179.854785        100  177959247  \n",
      "91         1631          1H   254.745027        100  177959280  \n",
      "128        1609          1H   425.824035        100  177959289  \n",
      "249        1609          1H   815.462015        100  177959429  \n",
      "...         ...         ...          ...        ...        ...  \n",
      "3071282    3795          2H  2369.402969        100  253316844  \n",
      "3071293    3795          2H  2411.702771        100  253316856  \n",
      "3071309   19830          2H  2506.631437        100  253316896  \n",
      "3071311   19830          2H  2508.341627        100  253316898  \n",
      "3071390   19830          2H  2821.203869        100  253316980  \n",
      "\n",
      "[40461 rows x 12 columns]\n"
     ]
    }
   ],
   "source": [
    "df_shots = df_events[df_events['eventName'] == 'Shot'\n",
    "print(\"Rows with eventName equal to 'Shot':\")\n",
    "print(df_shots)"
   ]
  },
  {
   "cell_type": "code",
   "execution_count": 20,
   "metadata": {},
   "outputs": [
    {
     "name": "stdout",
     "output_type": "stream",
     "text": [
      "        start_position end_position\n",
      "46               41,88          0,0\n",
      "62               52,85      100,100\n",
      "91               52,96      100,100\n",
      "128              33,81          0,0\n",
      "249              30,75          0,0\n",
      "...                ...          ...\n",
      "3071282          26,87          0,0\n",
      "3071293          50,89          0,0\n",
      "3071309          59,91      100,100\n",
      "3071311          50,95      100,100\n",
      "3071390          65,87      100,100\n",
      "\n",
      "[40461 rows x 2 columns]\n"
     ]
    }
   ],
   "source": [
    "df_shots1 = df_shots.copy()\n",
    "df_shots1['start_position'] = df_shots1['positions'].apply(lambda pos: f\"{pos[0]['y']},{pos[0]['x']}\")\n",
    "df_shots1['end_position'] = df_shots1['positions'].apply(lambda pos: f\"{pos[1]['y']},{pos[1]['x']}\")\n",
    "df_shots1['tags'] = df_shots1['tags'].apply(lambda tags: ','.join(str(tag['id']) for tag in tags))\n",
    "print(df_shots1[['start_position', 'end_position']])\n"
   ]
  },
  {
   "cell_type": "code",
   "execution_count": 21,
   "metadata": {},
   "outputs": [
    {
     "name": "stdout",
     "output_type": "stream",
     "text": [
      "        start_x start_y\n",
      "46           88      41\n",
      "62           85      52\n",
      "91           96      52\n",
      "128          81      33\n",
      "249          75      30\n",
      "...         ...     ...\n",
      "3071282      87      26\n",
      "3071293      89      50\n",
      "3071309      91      59\n",
      "3071311      95      50\n",
      "3071390      87      65\n",
      "\n",
      "[40461 rows x 2 columns]\n"
     ]
    }
   ],
   "source": [
    "df_shots1[['start_y', 'start_x']] = df_shots1['start_position'].str.split(',', expand=True)\n",
    "print(df_shots1[['start_x', 'start_y']])"
   ]
  },
  {
   "cell_type": "code",
   "execution_count": 24,
   "metadata": {
    "scrolled": false
   },
   "outputs": [
    {
     "name": "stdout",
     "output_type": "stream",
     "text": [
      "46         14.007655\n",
      "62         15.808608\n",
      "91          4.414703\n",
      "128        23.057235\n",
      "249        29.563872\n",
      "             ...    \n",
      "3071282    21.275923\n",
      "3071293    11.550000\n",
      "3071309    11.258637\n",
      "3071311     5.250000\n",
      "3071390    17.040026\n",
      "Name: distance, Length: 40461, dtype: float64\n"
     ]
    }
   ],
   "source": [
    "import math\n",
    "def calculate_distance(x, y):\n",
    "    field_width = 105\n",
    "    field_height = 68\n",
    "    goal_center_x = 100\n",
    "    goal_center_y = 50\n",
    "    x_percentage = float(x)\n",
    "    y_percentage = float(y)\n",
    "    \n",
    "    x_distance_percentage = abs(x_percentage - goal_center_x)\n",
    "    y_distance_percentage = abs(y_percentage - goal_center_y)\n",
    "    \n",
    "    x_distance_meter = (x_distance_percentage / 100) * field_width\n",
    "    y_distance_meter = (y_distance_percentage / 100) * field_height\n",
    "    \n",
    "    distance_meter = math.sqrt(x_distance_meter**2 + y_distance_meter**2)\n",
    "    return distance_meter\n",
    "\n",
    "df_shots1['distance'] = df_shots1.apply(lambda row: calculate_distance(row['start_x'], row['start_y']), axis=1)\n",
    "\n",
    "# Display the modified DataFrame df_shots1\n",
    "print(df_shots1['distance'])"
   ]
  },
  {
   "cell_type": "code",
   "execution_count": 25,
   "metadata": {},
   "outputs": [
    {
     "name": "stdout",
     "output_type": "stream",
     "text": [
      "              angle\n",
      "46        33.383357\n",
      "62        38.911535\n",
      "91       101.767186\n",
      "128       18.228723\n",
      "249       15.119733\n",
      "...             ...\n",
      "3071282   11.058511\n",
      "3071293   52.145452\n",
      "3071309   36.064839\n",
      "3071311   94.218179\n",
      "3071390   20.975259\n",
      "\n",
      "[40461 rows x 1 columns]\n"
     ]
    }
   ],
   "source": [
    "\n",
    "# Calculate the y-coordinate of the left goalpost\n",
    "left_goalpost_y = 50 - (7.32 / 2) / 68 * 100\n",
    "\n",
    "# Calculate the y-coordinate of the right goalpost\n",
    "right_goalpost_y = 50 + (7.32 / 2) / 68 * 100\n",
    "\n",
    "# Calculate the angle between player's position (C) and goalposts (A, B)\n",
    "def calculate_angle(x_player, y_player, x_goalpost_a, y_goalpost_a, x_goalpost_b, y_goalpost_b):\n",
    "    vector_ca = [x_goalpost_a - x_player, y_goalpost_a - y_player]\n",
    "    vector_cb = [x_goalpost_b - x_player, y_goalpost_b - y_player]\n",
    "    dot_product = vector_ca[0] * vector_cb[0] + vector_ca[1] * vector_cb[1]\n",
    "    magnitude_ca = math.sqrt(vector_ca[0]**2 + vector_ca[1]**2)\n",
    "    magnitude_cb = math.sqrt(vector_cb[0]**2 + vector_cb[1]**2)\n",
    "    angle_rad = math.acos(dot_product / (magnitude_ca * magnitude_cb))\n",
    "    angle_deg = math.degrees(angle_rad)\n",
    "    return angle_deg\n",
    "\n",
    "# Calculate angles for each row\n",
    "df_shots1['angle'] = df_shots1.apply(\n",
    "    lambda row: calculate_angle(\n",
    "        float(row['start_x']), float(row['start_y']),\n",
    "        100, left_goalpost_y,\n",
    "        100, right_goalpost_y\n",
    "    ),\n",
    "    axis=1\n",
    ")\n",
    "\n",
    "# Display the modified DataFrame df_shots1 with angles\n",
    "print(df_shots1[['angle']])\n"
   ]
  },
  {
   "cell_type": "code",
   "execution_count": 26,
   "metadata": {},
   "outputs": [
    {
     "name": "stdout",
     "output_type": "stream",
     "text": [
      "                          tags\n",
      "46       101,402,201,1205,1801\n",
      "62           401,201,1211,1802\n",
      "91       101,403,201,1207,1801\n",
      "128          401,201,1215,1802\n",
      "249          402,201,1205,1801\n",
      "...                        ...\n",
      "3071282      401,201,1205,1801\n",
      "3071293      402,201,1214,1802\n",
      "3071309      401,2101,201,1802\n",
      "3071311      401,201,1201,1801\n",
      "3071390  101,401,201,1208,1801\n",
      "\n",
      "[40461 rows x 1 columns]\n"
     ]
    }
   ],
   "source": [
    "print(df_shots1[['tags']])\n",
    "\n"
   ]
  },
  {
   "cell_type": "code",
   "execution_count": 27,
   "metadata": {},
   "outputs": [
    {
     "name": "stdout",
     "output_type": "stream",
     "text": [
      "Does 'tags' contain tag value 102? False\n"
     ]
    }
   ],
   "source": [
    "# Check if any row contains tag value 102 in 'tags' column\n",
    "has_tag_102 = any('102' in tags for tags in df_shots1['tags'])\n",
    "\n",
    "# Print the result\n",
    "print(\"Does 'tags' contain tag value 102?\", has_tag_102)\n"
   ]
  },
  {
   "cell_type": "code",
   "execution_count": 28,
   "metadata": {},
   "outputs": [
    {
     "name": "stdout",
     "output_type": "stream",
     "text": [
      "         is_Goal\n",
      "46             1\n",
      "62             0\n",
      "91             1\n",
      "128            0\n",
      "249            0\n",
      "...          ...\n",
      "3071282        0\n",
      "3071293        0\n",
      "3071309        0\n",
      "3071311        0\n",
      "3071390        1\n",
      "\n",
      "[40461 rows x 1 columns]\n"
     ]
    }
   ],
   "source": [
    "# Create a new variable 'is_Goal'\n",
    "df_shots1['is_Goal'] = df_shots1['tags'].apply(lambda tags: 1 if '101' in tags.split(',') else 0)\n",
    "\n",
    "# Display the modified DataFrame with the new variable\n",
    "print(df_shots1[['is_Goal']])\n"
   ]
  },
  {
   "cell_type": "code",
   "execution_count": 29,
   "metadata": {},
   "outputs": [
    {
     "name": "stdout",
     "output_type": "stream",
     "text": [
      "               Part\n",
      "46       Right foot\n",
      "62        Left foot\n",
      "91        Head/body\n",
      "128       Left foot\n",
      "249      Right foot\n",
      "...             ...\n",
      "3071282   Left foot\n",
      "3071293  Right foot\n",
      "3071309   Left foot\n",
      "3071311   Left foot\n",
      "3071390   Left foot\n",
      "\n",
      "[40461 rows x 1 columns]\n"
     ]
    }
   ],
   "source": [
    "# Mapping of tag values to body parts\n",
    "tag_to_part = {\n",
    "    401: 'Left foot',\n",
    "    402: 'Right foot',\n",
    "    403: 'Head/body'\n",
    "}\n",
    "\n",
    "# Create a new variable 'Part'\n",
    "df_shots1['Part'] = df_shots1['tags'].apply(lambda tags: ', '.join(tag_to_part[int(tag)] for tag in tags.split(',') if int(tag) in tag_to_part))\n",
    "\n",
    "# Display the modified DataFrame with the new variable\n",
    "print(df_shots1[['Part']])\n"
   ]
  },
  {
   "cell_type": "code",
   "execution_count": 30,
   "metadata": {},
   "outputs": [
    {
     "name": "stdout",
     "output_type": "stream",
     "text": [
      "       playerId   age        role   foot\n",
      "0         25413  26.0     Forward  right\n",
      "1         26150  26.0  Midfielder   left\n",
      "2         14763  31.0     Forward  right\n",
      "3          7868  23.0  Midfielder  right\n",
      "4          7868  23.0  Midfielder  right\n",
      "...         ...   ...         ...    ...\n",
      "40456    454388  17.0     Forward   left\n",
      "40457    219350  24.0     Forward  right\n",
      "40458      3450  31.0     Forward  right\n",
      "40459     28922  21.0  Midfielder   left\n",
      "40460    405977  18.0     Forward  right\n",
      "\n",
      "[40461 rows x 4 columns]\n"
     ]
    }
   ],
   "source": [
    "# Merge df_shots1 with df_players1 using 'playerId' and 'wyId'\n",
    "df_shots_players = df_shots1.merge(df_players1[['wyId', 'age', 'role', 'foot']], left_on='playerId', right_on='wyId', how='left')\n",
    "\n",
    "# Display the merged DataFrame df_shots_players with additional player information\n",
    "print(df_shots_players[['playerId', 'age', 'role', 'foot']])"
   ]
  },
  {
   "cell_type": "code",
   "execution_count": 31,
   "metadata": {},
   "outputs": [
    {
     "name": "stdout",
     "output_type": "stream",
     "text": [
      "eventId           0\n",
      "subEventName      0\n",
      "tags              0\n",
      "playerId          0\n",
      "positions         0\n",
      "matchId           0\n",
      "eventName         0\n",
      "teamId            0\n",
      "matchPeriod       0\n",
      "eventSec          0\n",
      "subEventId        0\n",
      "id                0\n",
      "start_position    0\n",
      "end_position      0\n",
      "start_y           0\n",
      "start_x           0\n",
      "distance          0\n",
      "angle             0\n",
      "is_Goal           0\n",
      "Part              0\n",
      "wyId              3\n",
      "age               3\n",
      "role              3\n",
      "foot              3\n",
      "dtype: int64\n"
     ]
    }
   ],
   "source": [
    "# 使用 isna() 或 isnull() 方法检查缺失值，并使用 sum() 方法获取每列的缺失值数量\n",
    "missing_values = df_shots_players.isna().sum()\n",
    "\n",
    "# 打印包含缺失值数量的 Series\n",
    "print(missing_values)\n"
   ]
  },
  {
   "cell_type": "code",
   "execution_count": 32,
   "metadata": {},
   "outputs": [
    {
     "name": "stdout",
     "output_type": "stream",
     "text": [
      "       eventId subEventName                   tags  playerId  \\\n",
      "0           10         Shot  101,402,201,1205,1801     25413   \n",
      "1           10         Shot      401,201,1211,1802     26150   \n",
      "2           10         Shot  101,403,201,1207,1801     14763   \n",
      "3           10         Shot      401,201,1215,1802      7868   \n",
      "4           10         Shot      402,201,1205,1801      7868   \n",
      "...        ...          ...                    ...       ...   \n",
      "40456       10         Shot      401,201,1205,1801    454388   \n",
      "40457       10         Shot      402,201,1214,1802    219350   \n",
      "40458       10         Shot      401,2101,201,1802      3450   \n",
      "40459       10         Shot      401,201,1201,1801     28922   \n",
      "40460       10         Shot  101,401,201,1208,1801    405977   \n",
      "\n",
      "                                        positions  matchId eventName  teamId  \\\n",
      "0          [{'y': 41, 'x': 88}, {'y': 0, 'x': 0}]  2499719      Shot    1609   \n",
      "1      [{'y': 52, 'x': 85}, {'y': 100, 'x': 100}]  2499719      Shot    1631   \n",
      "2      [{'y': 52, 'x': 96}, {'y': 100, 'x': 100}]  2499719      Shot    1631   \n",
      "3          [{'y': 33, 'x': 81}, {'y': 0, 'x': 0}]  2499719      Shot    1609   \n",
      "4          [{'y': 30, 'x': 75}, {'y': 0, 'x': 0}]  2499719      Shot    1609   \n",
      "...                                           ...      ...       ...     ...   \n",
      "40456      [{'y': 26, 'x': 87}, {'y': 0, 'x': 0}]  2501065      Shot    3795   \n",
      "40457      [{'y': 50, 'x': 89}, {'y': 0, 'x': 0}]  2501065      Shot    3795   \n",
      "40458  [{'y': 59, 'x': 91}, {'y': 100, 'x': 100}]  2501065      Shot   19830   \n",
      "40459  [{'y': 50, 'x': 95}, {'y': 100, 'x': 100}]  2501065      Shot   19830   \n",
      "40460  [{'y': 65, 'x': 87}, {'y': 100, 'x': 100}]  2501065      Shot   19830   \n",
      "\n",
      "      matchPeriod     eventSec  ... start_y  start_x   distance       angle  \\\n",
      "0              1H    94.595788  ...      41       88  14.007655   33.383357   \n",
      "1              1H   179.854785  ...      52       85  15.808608   38.911535   \n",
      "2              1H   254.745027  ...      52       96   4.414703  101.767186   \n",
      "3              1H   425.824035  ...      33       81  23.057235   18.228723   \n",
      "4              1H   815.462015  ...      30       75  29.563872   15.119733   \n",
      "...           ...          ...  ...     ...      ...        ...         ...   \n",
      "40456          2H  2369.402969  ...      26       87  21.275923   11.058511   \n",
      "40457          2H  2411.702771  ...      50       89  11.550000   52.145452   \n",
      "40458          2H  2506.631437  ...      59       91  11.258637   36.064839   \n",
      "40459          2H  2508.341627  ...      50       95   5.250000   94.218179   \n",
      "40460          2H  2821.203869  ...      65       87  17.040026   20.975259   \n",
      "\n",
      "      is_Goal        Part      wyId   age        role   foot  \n",
      "0           1  Right foot   25413.0  26.0     Forward  right  \n",
      "1           0   Left foot   26150.0  26.0  Midfielder   left  \n",
      "2           1   Head/body   14763.0  31.0     Forward  right  \n",
      "3           0   Left foot    7868.0  23.0  Midfielder  right  \n",
      "4           0  Right foot    7868.0  23.0  Midfielder  right  \n",
      "...       ...         ...       ...   ...         ...    ...  \n",
      "40456       0   Left foot  454388.0  17.0     Forward   left  \n",
      "40457       0  Right foot  219350.0  24.0     Forward  right  \n",
      "40458       0   Left foot    3450.0  31.0     Forward  right  \n",
      "40459       0   Left foot   28922.0  21.0  Midfielder   left  \n",
      "40460       1   Left foot  405977.0  18.0     Forward  right  \n",
      "\n",
      "[40458 rows x 24 columns]\n"
     ]
    }
   ],
   "source": [
    "# 使用 dropna() 方法删除包含缺失值的行\n",
    "df_shots_players = df_shots_players.dropna()\n",
    "\n",
    "# 打印删除缺失值后的数据集\n",
    "print(df_shots_players)\n"
   ]
  },
  {
   "cell_type": "code",
   "execution_count": 33,
   "metadata": {},
   "outputs": [
    {
     "name": "stdout",
     "output_type": "stream",
     "text": [
      "       teamId       team_name\n",
      "0        1609         Arsenal\n",
      "1        1631  Leicester City\n",
      "2        1631  Leicester City\n",
      "3        1609         Arsenal\n",
      "4        1609         Arsenal\n",
      "...       ...             ...\n",
      "40453    3795          Troyes\n",
      "40454    3795          Troyes\n",
      "40455   19830          Monaco\n",
      "40456   19830          Monaco\n",
      "40457   19830          Monaco\n",
      "\n",
      "[40458 rows x 2 columns]\n"
     ]
    }
   ],
   "source": [
    "# Merge df_shots_players with df_teams using 'teamId' and 'wyId'\n",
    "df_shots_players_teams = df_shots_players.merge(df_teams[['wyId', 'name']], left_on='teamId', right_on='wyId', how='left')\n",
    "\n",
    "# Rename the 'name' column to 'team_name'\n",
    "df_shots_players_teams.rename(columns={'name': 'team_name'}, inplace=True)\n",
    "\n",
    "# Display the merged DataFrame df_shots_players_teams with added team information\n",
    "print(df_shots_players_teams[['teamId', 'team_name']])\n"
   ]
  },
  {
   "cell_type": "code",
   "execution_count": 34,
   "metadata": {},
   "outputs": [
    {
     "name": "stdout",
     "output_type": "stream",
     "text": [
      "<bound method DataFrame.info of        eventId subEventName                   tags  playerId  \\\n",
      "0           10         Shot  101,402,201,1205,1801     25413   \n",
      "1           10         Shot      401,201,1211,1802     26150   \n",
      "2           10         Shot  101,403,201,1207,1801     14763   \n",
      "3           10         Shot      401,201,1215,1802      7868   \n",
      "4           10         Shot      402,201,1205,1801      7868   \n",
      "...        ...          ...                    ...       ...   \n",
      "40456       10         Shot      401,201,1205,1801    454388   \n",
      "40457       10         Shot      402,201,1214,1802    219350   \n",
      "40458       10         Shot      401,2101,201,1802      3450   \n",
      "40459       10         Shot      401,201,1201,1801     28922   \n",
      "40460       10         Shot  101,401,201,1208,1801    405977   \n",
      "\n",
      "                                        positions  matchId eventName  teamId  \\\n",
      "0          [{'y': 41, 'x': 88}, {'y': 0, 'x': 0}]  2499719      Shot    1609   \n",
      "1      [{'y': 52, 'x': 85}, {'y': 100, 'x': 100}]  2499719      Shot    1631   \n",
      "2      [{'y': 52, 'x': 96}, {'y': 100, 'x': 100}]  2499719      Shot    1631   \n",
      "3          [{'y': 33, 'x': 81}, {'y': 0, 'x': 0}]  2499719      Shot    1609   \n",
      "4          [{'y': 30, 'x': 75}, {'y': 0, 'x': 0}]  2499719      Shot    1609   \n",
      "...                                           ...      ...       ...     ...   \n",
      "40456      [{'y': 26, 'x': 87}, {'y': 0, 'x': 0}]  2501065      Shot    3795   \n",
      "40457      [{'y': 50, 'x': 89}, {'y': 0, 'x': 0}]  2501065      Shot    3795   \n",
      "40458  [{'y': 59, 'x': 91}, {'y': 100, 'x': 100}]  2501065      Shot   19830   \n",
      "40459  [{'y': 50, 'x': 95}, {'y': 100, 'x': 100}]  2501065      Shot   19830   \n",
      "40460  [{'y': 65, 'x': 87}, {'y': 100, 'x': 100}]  2501065      Shot   19830   \n",
      "\n",
      "      matchPeriod     eventSec  ... start_y  start_x   distance       angle  \\\n",
      "0              1H    94.595788  ...      41       88  14.007655   33.383357   \n",
      "1              1H   179.854785  ...      52       85  15.808608   38.911535   \n",
      "2              1H   254.745027  ...      52       96   4.414703  101.767186   \n",
      "3              1H   425.824035  ...      33       81  23.057235   18.228723   \n",
      "4              1H   815.462015  ...      30       75  29.563872   15.119733   \n",
      "...           ...          ...  ...     ...      ...        ...         ...   \n",
      "40456          2H  2369.402969  ...      26       87  21.275923   11.058511   \n",
      "40457          2H  2411.702771  ...      50       89  11.550000   52.145452   \n",
      "40458          2H  2506.631437  ...      59       91  11.258637   36.064839   \n",
      "40459          2H  2508.341627  ...      50       95   5.250000   94.218179   \n",
      "40460          2H  2821.203869  ...      65       87  17.040026   20.975259   \n",
      "\n",
      "      is_Goal        Part      wyId   age        role   foot  \n",
      "0           1  Right foot   25413.0  26.0     Forward  right  \n",
      "1           0   Left foot   26150.0  26.0  Midfielder   left  \n",
      "2           1   Head/body   14763.0  31.0     Forward  right  \n",
      "3           0   Left foot    7868.0  23.0  Midfielder  right  \n",
      "4           0  Right foot    7868.0  23.0  Midfielder  right  \n",
      "...       ...         ...       ...   ...         ...    ...  \n",
      "40456       0   Left foot  454388.0  17.0     Forward   left  \n",
      "40457       0  Right foot  219350.0  24.0     Forward  right  \n",
      "40458       0   Left foot    3450.0  31.0     Forward  right  \n",
      "40459       0   Left foot   28922.0  21.0  Midfielder   left  \n",
      "40460       1   Left foot  405977.0  18.0     Forward  right  \n",
      "\n",
      "[40458 rows x 24 columns]>\n"
     ]
    }
   ],
   "source": [
    "print(df_shots_players.info)\n"
   ]
  },
  {
   "cell_type": "code",
   "execution_count": 35,
   "metadata": {},
   "outputs": [
    {
     "name": "stdout",
     "output_type": "stream",
     "text": [
      "       gameweek  side\n",
      "0             1  Home\n",
      "1             1  Away\n",
      "2             1  Away\n",
      "3             1  Home\n",
      "4             1  Home\n",
      "...         ...   ...\n",
      "40453        38  Home\n",
      "40454        38  Home\n",
      "40455        38  Away\n",
      "40456        38  Away\n",
      "40457        38  Away\n",
      "\n",
      "[40458 rows x 2 columns]\n",
      "       eventId subEventName                   tags  playerId  \\\n",
      "0           10         Shot  101,402,201,1205,1801     25413   \n",
      "1           10         Shot      401,201,1211,1802     26150   \n",
      "2           10         Shot  101,403,201,1207,1801     14763   \n",
      "3           10         Shot      401,201,1215,1802      7868   \n",
      "4           10         Shot      402,201,1205,1801      7868   \n",
      "...        ...          ...                    ...       ...   \n",
      "40453       10         Shot      401,201,1205,1801    454388   \n",
      "40454       10         Shot      402,201,1214,1802    219350   \n",
      "40455       10         Shot      401,2101,201,1802      3450   \n",
      "40456       10         Shot      401,201,1201,1801     28922   \n",
      "40457       10         Shot  101,401,201,1208,1801    405977   \n",
      "\n",
      "                                        positions  matchId eventName  teamId  \\\n",
      "0          [{'y': 41, 'x': 88}, {'y': 0, 'x': 0}]  2499719      Shot    1609   \n",
      "1      [{'y': 52, 'x': 85}, {'y': 100, 'x': 100}]  2499719      Shot    1631   \n",
      "2      [{'y': 52, 'x': 96}, {'y': 100, 'x': 100}]  2499719      Shot    1631   \n",
      "3          [{'y': 33, 'x': 81}, {'y': 0, 'x': 0}]  2499719      Shot    1609   \n",
      "4          [{'y': 30, 'x': 75}, {'y': 0, 'x': 0}]  2499719      Shot    1609   \n",
      "...                                           ...      ...       ...     ...   \n",
      "40453      [{'y': 26, 'x': 87}, {'y': 0, 'x': 0}]  2501065      Shot    3795   \n",
      "40454      [{'y': 50, 'x': 89}, {'y': 0, 'x': 0}]  2501065      Shot    3795   \n",
      "40455  [{'y': 59, 'x': 91}, {'y': 100, 'x': 100}]  2501065      Shot   19830   \n",
      "40456  [{'y': 50, 'x': 95}, {'y': 100, 'x': 100}]  2501065      Shot   19830   \n",
      "40457  [{'y': 65, 'x': 87}, {'y': 100, 'x': 100}]  2501065      Shot   19830   \n",
      "\n",
      "      matchPeriod     eventSec  ...   distance       angle is_Goal  \\\n",
      "0              1H    94.595788  ...  14.007655   33.383357       1   \n",
      "1              1H   179.854785  ...  15.808608   38.911535       0   \n",
      "2              1H   254.745027  ...   4.414703  101.767186       1   \n",
      "3              1H   425.824035  ...  23.057235   18.228723       0   \n",
      "4              1H   815.462015  ...  29.563872   15.119733       0   \n",
      "...           ...          ...  ...        ...         ...     ...   \n",
      "40453          2H  2369.402969  ...  21.275923   11.058511       0   \n",
      "40454          2H  2411.702771  ...  11.550000   52.145452       0   \n",
      "40455          2H  2506.631437  ...  11.258637   36.064839       0   \n",
      "40456          2H  2508.341627  ...   5.250000   94.218179       0   \n",
      "40457          2H  2821.203869  ...  17.040026   20.975259       1   \n",
      "\n",
      "             Part   age        role   foot       team_name  gameweek  side  \n",
      "0      Right foot  26.0     Forward  right         Arsenal         1  Home  \n",
      "1       Left foot  26.0  Midfielder   left  Leicester City         1  Away  \n",
      "2       Head/body  31.0     Forward  right  Leicester City         1  Away  \n",
      "3       Left foot  23.0  Midfielder  right         Arsenal         1  Home  \n",
      "4      Right foot  23.0  Midfielder  right         Arsenal         1  Home  \n",
      "...           ...   ...         ...    ...             ...       ...   ...  \n",
      "40453   Left foot  17.0     Forward   left          Troyes        38  Home  \n",
      "40454  Right foot  24.0     Forward  right          Troyes        38  Home  \n",
      "40455   Left foot  31.0     Forward  right          Monaco        38  Away  \n",
      "40456   Left foot  21.0  Midfielder   left          Monaco        38  Away  \n",
      "40457   Left foot  18.0     Forward  right          Monaco        38  Away  \n",
      "\n",
      "[40458 rows x 26 columns]\n"
     ]
    }
   ],
   "source": [
    "Shots_df = df_shots_players_teams.copy()\n",
    "\n",
    "# Merge Shots_df with df_matches1 based on matchId and wyId\n",
    "Shots_df = Shots_df.merge(df_matches1[['wyId', 'gameweek', 'home_team_ids']], left_on='matchId', right_on='wyId', how='left')\n",
    "\n",
    "# Add the 'side' variable based on teamId and home_team_ids\n",
    "Shots_df['side'] = Shots_df.apply(lambda row: 'Home' if row['teamId'] == row['home_team_ids'] else 'Away', axis=1)\n",
    "\n",
    "# Drop the unnecessary columns\n",
    "Shots_df.drop(['wyId', 'home_team_ids','wyId_x','wyId_y'], axis=1, inplace=True)\n",
    "\n",
    "# Display the modified DataFrame\n",
    "print(Shots_df[['gameweek', 'side']])\n",
    "print(Shots_df)"
   ]
  },
  {
   "cell_type": "code",
   "execution_count": 36,
   "metadata": {},
   "outputs": [
    {
     "name": "stdout",
     "output_type": "stream",
     "text": [
      "         Shot_Part\n",
      "0      Strong Foot\n",
      "1      Strong Foot\n",
      "2        Head/body\n",
      "3        Weak Foot\n",
      "4      Strong Foot\n",
      "...            ...\n",
      "40453  Strong Foot\n",
      "40454  Strong Foot\n",
      "40455    Weak Foot\n",
      "40456  Strong Foot\n",
      "40457    Weak Foot\n",
      "\n",
      "[40458 rows x 1 columns]\n"
     ]
    }
   ],
   "source": [
    "# Function to determine Shot_Part based on Part and foot\n",
    "def determine_shot_part(part, foot):\n",
    "    if part == 'Head/body':\n",
    "        return 'Head/body'\n",
    "    elif part == 'Left foot' and foot == 'left':\n",
    "        return 'Strong Foot'\n",
    "    elif part == 'Right foot' and foot == 'right':\n",
    "        return 'Strong Foot'\n",
    "    else:\n",
    "        return 'Weak Foot'\n",
    "\n",
    "# Add the 'Shot_Part' variable based on 'Part' and 'foot' columns\n",
    "Shots_df['Shot_Part'] = Shots_df.apply(lambda row: determine_shot_part(row['Part'], row['foot']), axis=1)\n",
    "\n",
    "# Display the modified DataFrame\n",
    "print(Shots_df[['Shot_Part']])\n"
   ]
  },
  {
   "cell_type": "code",
   "execution_count": 37,
   "metadata": {},
   "outputs": [
    {
     "name": "stdout",
     "output_type": "stream",
     "text": [
      "<class 'pandas.core.frame.DataFrame'>\n",
      "Int64Index: 40458 entries, 0 to 40457\n",
      "Data columns (total 29 columns):\n",
      " #   Column              Non-Null Count  Dtype  \n",
      "---  ------              --------------  -----  \n",
      " 0   eventId             40458 non-null  int64  \n",
      " 1   subEventName        40458 non-null  object \n",
      " 2   tags                40458 non-null  object \n",
      " 3   playerId            40458 non-null  int64  \n",
      " 4   positions           40458 non-null  object \n",
      " 5   matchId             40458 non-null  int64  \n",
      " 6   eventName           40458 non-null  object \n",
      " 7   teamId              40458 non-null  int64  \n",
      " 8   matchPeriod         40458 non-null  object \n",
      " 9   eventSec            40458 non-null  float64\n",
      " 10  subEventId          40458 non-null  object \n",
      " 11  id                  40458 non-null  int64  \n",
      " 12  start_position      40458 non-null  object \n",
      " 13  end_position        40458 non-null  object \n",
      " 14  start_y             40458 non-null  int64  \n",
      " 15  start_x             40458 non-null  int64  \n",
      " 16  distance            40458 non-null  float64\n",
      " 17  angle               40458 non-null  float64\n",
      " 18  is_Goal             40458 non-null  int64  \n",
      " 19  Part                40458 non-null  object \n",
      " 20  age                 40458 non-null  float64\n",
      " 21  role                40458 non-null  object \n",
      " 22  foot                40458 non-null  object \n",
      " 23  team_name           40458 non-null  object \n",
      " 24  gameweek            40458 non-null  int64  \n",
      " 25  side                40458 non-null  object \n",
      " 26  Shot_Part           40458 non-null  object \n",
      " 27  Y_position_centred  40458 non-null  float64\n",
      " 28  X_position          40458 non-null  float64\n",
      "dtypes: float64(6), int64(9), object(14)\n",
      "memory usage: 9.3+ MB\n"
     ]
    }
   ],
   "source": [
    "Shots_df['start_y'] = pd.to_numeric(Shots_df['start_y'], errors='coerce')  # 将字符串转换为数字，非法值转换为 NaN\n",
    "Shots_df['start_x'] = pd.to_numeric(Shots_df['start_x'], errors='coerce')\n",
    "Shots_df['Y_position_centred'] = abs((50 - Shots_df['start_y']) / 100 * 68)\n",
    "Shots_df['X_position'] = Shots_df['start_x'] / 100 * 105\n",
    "\n",
    "# 打印添加新变量后的数据集\n",
    "\n",
    "\n",
    "Shots_df.info()"
   ]
  },
  {
   "cell_type": "code",
   "execution_count": 38,
   "metadata": {},
   "outputs": [],
   "source": [
    "columns_to_keep = [\n",
    "    'matchPeriod', 'eventSec', 'distance', \n",
    "    'angle', 'is_Goal', 'Shot_Part', 'age', 'role', \n",
    "    'gameweek', 'side',\"Y_position_centred\",\"X_position\",\"Part\",\"start_x\",\"start_y\"\n",
    "]\n",
    "\n",
    "Shots_model = Shots_df[columns_to_keep].copy()\n"
   ]
  },
  {
   "cell_type": "code",
   "execution_count": 39,
   "metadata": {},
   "outputs": [],
   "source": [
    "import matplotlib.pyplot as plt\n",
    "import seaborn as sns\n",
    "import pandas as pd\n"
   ]
  },
  {
   "cell_type": "markdown",
   "metadata": {},
   "source": [
    "## Shot Part"
   ]
  },
  {
   "cell_type": "code",
   "execution_count": 40,
   "metadata": {},
   "outputs": [
    {
     "data": {
      "image/png": "[encoded data removed]",
      "text/plain": [
       "<Figure size 1200x600 with 1 Axes>"
      ]
     },
     "metadata": {},
     "output_type": "display_data"
    },
    {
     "data": {
      "image/png": "[encoded data removed]",
      "text/plain": [
       "<Figure size 1200x600 with 1 Axes>"
      ]
     },
     "metadata": {},
     "output_type": "display_data"
    },
    {
     "name": "stdout",
     "output_type": "stream",
     "text": [
      "         Part  Shot_Count  Goal_Count  Goal_Percentage\n",
      "0  Right foot       20619        2070        10.039284\n",
      "1   Left foot       13322        1383        10.381324\n",
      "2   Head/body        6517         818        12.551788\n"
     ]
    }
   ],
   "source": [
    "shot_part_counts = Shots_model['Part'].value_counts().reset_index()\n",
    "shot_part_counts.columns = ['Part', 'Shot_Count']\n",
    "\n",
    "goal_counts = Shots_model[Shots_model['is_Goal'] == 1]['Part'].value_counts().reset_index()\n",
    "goal_counts.columns = ['Part', 'Goal_Count']\n",
    "\n",
    "result = pd.merge(shot_part_counts, goal_counts, on='Part', how='left').fillna(0)\n",
    "\n",
    "\n",
    "result['Goal_Percentage'] = (result['Goal_Count'] / result['Shot_Count']) * 100\n",
    "\n",
    "\n",
    "plt.figure(figsize=(12, 6))\n",
    "sns.barplot(data=result, x='Part', y='Shot_Count')\n",
    "plt.xlabel('Part')\n",
    "plt.ylabel('Shot_Count')\n",
    "plt.title('Part vs. Shot_Count')\n",
    "plt.xticks(rotation=45)\n",
    "plt.show()\n",
    "\n",
    "plt.figure(figsize=(12, 6))\n",
    "sns.barplot(data=result, x='Part', y='Goal_Percentage')\n",
    "plt.xlabel('Part')\n",
    "plt.ylabel('Goal_Percentage')\n",
    "plt.title('Part vs. Goal_Percentage')\n",
    "plt.xticks(rotation=45)\n",
    "plt.show()\n",
    "\n",
    "print(result)\n",
    "\n"
   ]
  },
  {
   "cell_type": "code",
   "execution_count": 41,
   "metadata": {},
   "outputs": [
    {
     "name": "stdout",
     "output_type": "stream",
     "text": [
      "     Shot_Part  Shot_Count  Goal_Count  Goal_Percentage\n",
      "0  Strong Foot       26212        2580         9.842820\n",
      "1    Weak Foot        7729         873        11.295122\n",
      "2    Head/body        6517         818        12.551788\n"
     ]
    }
   ],
   "source": [
    "shot_part_counts = Shots_model['Shot_Part'].value_counts().reset_index()\n",
    "shot_part_counts.columns = ['Shot_Part', 'Shot_Count']\n",
    "\n",
    "\n",
    "goal_counts = Shots_model[Shots_model['is_Goal'] == 1]['Shot_Part'].value_counts().reset_index()\n",
    "goal_counts.columns = ['Shot_Part', 'Goal_Count']\n",
    "\n",
    "result = pd.merge(shot_part_counts, goal_counts, on='Shot_Part', how='left').fillna(0)\n",
    "\n",
    "result['Goal_Percentage'] = (result['Goal_Count'] / result['Shot_Count']) * 100\n",
    "\n",
    "print(result)\n"
   ]
  },
  {
   "cell_type": "code",
   "execution_count": 42,
   "metadata": {},
   "outputs": [],
   "source": [
    "import matplotlib.pyplot as plt\n",
    "import numpy as np\n",
    "from mplsoccer import Pitch, Sbopen, VerticalPitch"
   ]
  },
  {
   "cell_type": "markdown",
   "metadata": {},
   "source": [
    "## Age"
   ]
  },
  {
   "cell_type": "code",
   "execution_count": 43,
   "metadata": {},
   "outputs": [
    {
     "data": {
      "image/png": "[encoded data removed]",
      "text/plain": [
       "<Figure size 1000x600 with 1 Axes>"
      ]
     },
     "metadata": {},
     "output_type": "display_data"
    }
   ],
   "source": [
    "plt.figure(figsize=(10,6))\n",
    "sns.boxplot(x='is_Goal', y='age', data=Shots_model)\n",
    "plt.title('Distribution of Goals by Age')\n",
    "plt.show()\n"
   ]
  },
  {
   "cell_type": "code",
   "execution_count": 44,
   "metadata": {},
   "outputs": [],
   "source": [
    "age_goal_rate = Shots_model.groupby('age')['is_Goal'].mean().reset_index()"
   ]
  },
  {
   "cell_type": "code",
   "execution_count": 49,
   "metadata": {},
   "outputs": [
    {
     "data": {
      "image/png": "[encoded data removed]",
      "text/plain": [
       "<Figure size 1000x600 with 2 Axes>"
      ]
     },
     "metadata": {},
     "output_type": "display_data"
    }
   ],
   "source": [
    "import matplotlib.pyplot as plt\n",
    "import seaborn as sns\n",
    "\n",
    "\n",
    "fig, ax1 = plt.subplots(figsize=(10, 6))\n",
    "sns.lineplot(x='age', y='is_Goal', data=age_goal_rate, marker=\"o\", ax=ax1, label='Goal Success Rate')\n",
    "plt.title('Goal Success Rate and Shot Count by Age')\n",
    "plt.ylabel('Goal Success Rate')\n",
    "ax2 = ax1.twinx()\n",
    "age_shot_count = Shots_df.groupby('age')['eventSec'].count().reset_index()\n",
    "sns.lineplot(x='age', y='eventSec', data=age_shot_count, marker=\"o\", ax=ax2, color='red', label='Shot Count')\n",
    "ax2.set_ylabel('Shot Count')\n",
    "ax1.legend(loc='upper left')\n",
    "ax2.legend(loc='upper right')\n",
    "plt.show()\n"
   ]
  },
  {
   "cell_type": "code",
   "execution_count": 50,
   "metadata": {},
   "outputs": [
    {
     "name": "stdout",
     "output_type": "stream",
     "text": [
      "       eventId subEventName                   tags  playerId  \\\n",
      "5497        10         Shot          402,2101,1802    450826   \n",
      "5498        10         Shot      402,201,1201,1801    450826   \n",
      "17236       10         Shot  101,402,201,1202,1801    481329   \n",
      "17242       10         Shot  101,402,201,1201,1801    481329   \n",
      "17504       10         Shot     1901,402,2101,1802    481329   \n",
      "17511       10         Shot     1901,402,2101,1802    481329   \n",
      "17516       10         Shot          401,1215,1802    481329   \n",
      "17736       10         Shot      402,201,1210,1802    481329   \n",
      "17739       10         Shot      403,201,1212,1802    481329   \n",
      "\n",
      "                                        positions  matchId eventName  teamId  \\\n",
      "5497       [{'y': 45, 'x': 79}, {'y': 0, 'x': 0}]  2499962      Shot    1610   \n",
      "5498       [{'y': 34, 'x': 84}, {'y': 0, 'x': 0}]  2499962      Shot    1610   \n",
      "17236      [{'y': 69, 'x': 88}, {'y': 0, 'x': 0}]  2575992      Shot    3193   \n",
      "17242      [{'y': 52, 'x': 91}, {'y': 0, 'x': 0}]  2575992      Shot    3193   \n",
      "17504      [{'y': 43, 'x': 87}, {'y': 0, 'x': 0}]  2576003      Shot    3193   \n",
      "17511      [{'y': 46, 'x': 82}, {'y': 0, 'x': 0}]  2576003      Shot    3193   \n",
      "17516      [{'y': 63, 'x': 90}, {'y': 0, 'x': 0}]  2576003      Shot    3193   \n",
      "17736  [{'y': 52, 'x': 90}, {'y': 100, 'x': 100}]  2576013      Shot    3193   \n",
      "17739  [{'y': 46, 'x': 96}, {'y': 100, 'x': 100}]  2576013      Shot    3193   \n",
      "\n",
      "      matchPeriod     eventSec subEventId         id start_position  \\\n",
      "5497           2H  2524.597088        100  225249157          45,79   \n",
      "5498           2H  2595.961206        100  225249179          34,84   \n",
      "17236          2H   666.857397        100  188328928          69,88   \n",
      "17242          2H  1628.130477        100  188329133          52,91   \n",
      "17504          1H  1794.338456        100  189328316          43,87   \n",
      "17511          2H   719.936259        100  189328891          46,82   \n",
      "17516          2H  1458.090470        100  189328998          63,90   \n",
      "17736          1H  1285.629260        100  190361346          52,90   \n",
      "17739          1H  2335.582802        100  190361700          46,96   \n",
      "\n",
      "      end_position  start_y  start_x   distance      angle  is_Goal  \\\n",
      "5497           0,0       45       79  22.310592  27.350774        0   \n",
      "5498           0,0       34       84  20.015354  19.624834        0   \n",
      "17236          0,0       69       88  18.046784  15.182278        1   \n",
      "17242          0,0       52       91   9.547361  59.957782        1   \n",
      "17504          0,0       43       87  14.456144  36.512950        0   \n",
      "17511          0,0       46       82  19.094722  31.921956        0   \n",
      "17516          0,0       63       90  13.725728  24.154939        0   \n",
      "17736      100,100       52       90  10.587710  55.123404        0   \n",
      "17739      100,100       46       96   5.003839  85.974430        0   \n",
      "\n",
      "             Part   age        role   foot team_name  gameweek  side  \\\n",
      "5497   Right foot  16.0  Midfielder  right   Chelsea        25  Home   \n",
      "5498   Right foot  16.0  Midfielder  right   Chelsea        25  Home   \n",
      "17236  Right foot  16.0     Forward  right     Genoa         4  Home   \n",
      "17242  Right foot  16.0     Forward  right     Genoa         4  Home   \n",
      "17504  Right foot  16.0     Forward  right     Genoa         5  Home   \n",
      "17511  Right foot  16.0     Forward  right     Genoa         5  Home   \n",
      "17516   Left foot  16.0     Forward  right     Genoa         5  Home   \n",
      "17736  Right foot  16.0     Forward  right     Genoa         6  Away   \n",
      "17739   Head/body  16.0     Forward  right     Genoa         6  Away   \n",
      "\n",
      "         Shot_Part  Y_position_centred  X_position  \n",
      "5497   Strong Foot                3.40       82.95  \n",
      "5498   Strong Foot               10.88       88.20  \n",
      "17236  Strong Foot               12.92       92.40  \n",
      "17242  Strong Foot                1.36       95.55  \n",
      "17504  Strong Foot                4.76       91.35  \n",
      "17511  Strong Foot                2.72       86.10  \n",
      "17516    Weak Foot                8.84       94.50  \n",
      "17736  Strong Foot                1.36       94.50  \n",
      "17739    Head/body                2.72      100.80  \n"
     ]
    }
   ],
   "source": [
    "# 使用条件过滤，获取年龄为16的所有数据\n",
    "age_16_data = Shots_df[Shots_df['age'] == 16]\n",
    "pd.set_option('display.max_rows', None)\n",
    "pd.set_option('display.max_columns', None)\n",
    "\n",
    "# 查看完整的表格内容\n",
    "print(age_16_data)\n"
   ]
  },
  {
   "cell_type": "code",
   "execution_count": 51,
   "metadata": {},
   "outputs": [
    {
     "name": "stdout",
     "output_type": "stream",
     "text": [
      "     age  shot_count\n",
      "0   15.0           3\n",
      "1   16.0           9\n",
      "2   17.0         121\n",
      "3   18.0         398\n",
      "4   19.0        1088\n",
      "5   20.0        2108\n",
      "6   21.0        2774\n",
      "7   22.0        2818\n",
      "8   23.0        3649\n",
      "9   24.0        4014\n",
      "10  25.0        3911\n",
      "11  26.0        4248\n",
      "12  27.0        3103\n",
      "13  28.0        3177\n",
      "14  29.0        2463\n",
      "15  30.0        2878\n",
      "16  31.0        1410\n",
      "17  32.0         931\n",
      "18  33.0         516\n",
      "19  34.0         455\n",
      "20  35.0         162\n",
      "21  36.0         147\n",
      "22  37.0          15\n",
      "23  38.0          26\n",
      "24  39.0          18\n",
      "25  40.0          16\n"
     ]
    }
   ],
   "source": [
    "# 使用 groupby() 方法按年龄分组，并使用 count() 方法计算射门数量\n",
    "age_shot_count = Shots_df.groupby('age')['eventSec'].count().reset_index()\n",
    "\n",
    "# 重命名列名为 'age' 和 'shot_count'\n",
    "age_shot_count.columns = ['age', 'shot_count']\n",
    "\n",
    "# 打印结果\n",
    "print(age_shot_count)\n"
   ]
  },
  {
   "cell_type": "markdown",
   "metadata": {},
   "source": [
    "## Role"
   ]
  },
  {
   "cell_type": "code",
   "execution_count": 45,
   "metadata": {},
   "outputs": [
    {
     "data": {
      "image/png": "[encoded data removed]",
      "text/plain": [
       "<Figure size 1000x600 with 1 Axes>"
      ]
     },
     "metadata": {},
     "output_type": "display_data"
    }
   ],
   "source": [
    "plt.figure(figsize=(10,6))\n",
    "sns.countplot(x='role', hue='is_Goal', data=Shots_model)\n",
    "plt.title('Count of Goals by Role')\n",
    "plt.show()\n"
   ]
  },
  {
   "cell_type": "code",
   "execution_count": 46,
   "metadata": {
    "scrolled": false
   },
   "outputs": [
    {
     "data": {
      "image/png": "[encoded data removed]",
      "text/plain": [
       "<Figure size 1000x600 with 1 Axes>"
      ]
     },
     "metadata": {},
     "output_type": "display_data"
    }
   ],
   "source": [
    "role_goal_rate = Shots_model.groupby('role')['is_Goal'].mean().reset_index()\n",
    "plt.figure(figsize=(10,6))\n",
    "sns.barplot(x='role', y='is_Goal', data=role_goal_rate)\n",
    "plt.title('Goal Success Rate by Role')\n",
    "plt.ylabel('Success Rate')\n",
    "plt.show()\n"
   ]
  },
  {
   "cell_type": "code",
   "execution_count": 47,
   "metadata": {
    "scrolled": true
   },
   "outputs": [
    {
     "name": "stdout",
     "output_type": "stream",
     "text": [
      "         role  Shot_Count  Goal_Count  Goal_Percentage\n",
      "0     Forward       17370        2405        13.845711\n",
      "1  Midfielder       16629        1351         8.124361\n",
      "2    Defender        6452         514         7.966522\n",
      "3  Goalkeeper           7           1        14.285714\n"
     ]
    }
   ],
   "source": [
    "role_shot_counts = Shots_model['role'].value_counts().reset_index()\n",
    "role_shot_counts.columns = ['role', 'Shot_Count']\n",
    "goal_counts_by_role = Shots_model[Shots_model['is_Goal'] == 1]['role'].value_counts().reset_index()\n",
    "goal_counts_by_role.columns = ['role', 'Goal_Count']\n",
    "result_by_role = pd.merge(role_shot_counts, goal_counts_by_role, on='role', how='left').fillna(0)\n",
    "result_by_role['Goal_Percentage'] = (result_by_role['Goal_Count'] / result_by_role['Shot_Count']) * 100\n",
    "print(result_by_role)\n"
   ]
  },
  {
   "cell_type": "code",
   "execution_count": 48,
   "metadata": {},
   "outputs": [
    {
     "name": "stdout",
     "output_type": "stream",
     "text": [
      "       eventId subEventName                   tags  playerId  \\\n",
      "11910       10         Shot      402,201,1216,1802     20922   \n",
      "13372       10         Shot      403,201,1210,1802      3719   \n",
      "19782       10         Shot  101,403,201,1202,1801     21415   \n",
      "25394       10         Shot      401,2101,201,1802     14914   \n",
      "26595       10         Shot      403,201,1211,1802     16010   \n",
      "31043       10         Shot      402,201,1213,1802     54579   \n",
      "31481       10         Shot      402,201,1215,1802     19525   \n",
      "\n",
      "                                        positions  matchId eventName  teamId  \\\n",
      "11910      [{'y': 54, 'x': 91}, {'y': 0, 'x': 0}]  2565710      Shot     674   \n",
      "13372      [{'y': 44, 'x': 94}, {'y': 0, 'x': 0}]  2565782      Shot     683   \n",
      "19782      [{'y': 49, 'x': 92}, {'y': 0, 'x': 0}]  2576099      Shot    3219   \n",
      "25394  [{'y': 46, 'x': 91}, {'y': 100, 'x': 100}]  2516745      Shot    2481   \n",
      "26595  [{'y': 49, 'x': 86}, {'y': 100, 'x': 100}]  2516796      Shot    2455   \n",
      "31043  [{'y': 55, 'x': 92}, {'y': 100, 'x': 100}]  2516995      Shot    2457   \n",
      "31481  [{'y': 48, 'x': 87}, {'y': 100, 'x': 100}]  2517015      Shot    2453   \n",
      "\n",
      "      matchPeriod     eventSec  ...        Part   age        role   foot  \\\n",
      "11910          2H  2951.516159  ...  Right foot  28.0  Goalkeeper  right   \n",
      "13372          2H  3015.277978  ...   Head/body  31.0  Goalkeeper  right   \n",
      "19782          2H  2943.231042  ...   Head/body  25.0  Goalkeeper   left   \n",
      "25394          2H  2910.316186  ...   Left foot  29.0  Goalkeeper  right   \n",
      "26595          2H  3014.269611  ...   Head/body  31.0  Goalkeeper  right   \n",
      "31043          2H  2787.739175  ...  Right foot  32.0  Goalkeeper  right   \n",
      "31481          2H  2923.387730  ...  Right foot  25.0  Goalkeeper  right   \n",
      "\n",
      "         team_name  gameweek  side    Shot_Part  Y_position_centred X_position  \n",
      "11910     Valencia        17  Home  Strong Foot                2.72      95.55  \n",
      "13372  M\\u00e1laga        24  Home    Head/body                4.08      98.70  \n",
      "19782    Benevento        15  Home    Head/body                0.68      96.60  \n",
      "25394     Augsburg         1  Away    Weak Foot                2.72      95.55  \n",
      "26595  Hannover 96         7  Away    Head/body                0.68      90.30  \n",
      "31043   Hertha BSC        29  Away  Strong Foot                3.40      96.60  \n",
      "31481     Freiburg        31  Away  Strong Foot                1.36      91.35  \n",
      "\n",
      "[7 rows x 29 columns]\n"
     ]
    }
   ],
   "source": [
    "Goalkeeper_data = Shots_df[Shots_df['role'] == 'Goalkeeper']\n",
    "print(Goalkeeper_data)\n",
    "\n"
   ]
  },
  {
   "cell_type": "code",
   "execution_count": 56,
   "metadata": {},
   "outputs": [
    {
     "data": {
      "image/png": "[encoded data removed]",
      "text/plain": [
       "<Figure size 1000x600 with 1 Axes>"
      ]
     },
     "metadata": {},
     "output_type": "display_data"
    }
   ],
   "source": [
    "# 筛选出 \"role\" 为后卫的射门事件\n",
    "defender_shots = Shots_model[Shots_model['role'] == 'Defender']\n",
    "\n",
    "# 创建一个直方图来查看后卫的射门时间分布\n",
    "plt.figure(figsize=(10, 6))\n",
    "plt.hist(defender_shots['eventSec'], bins=20, color='blue', alpha=0.7)\n",
    "plt.title('Shooting Time Distribution for Defenders')\n",
    "plt.xlabel('Time (eventSec)')\n",
    "plt.ylabel('Number of Shots')\n",
    "plt.grid(axis='y', linestyle='--', alpha=0.7)\n",
    "plt.show()"
   ]
  },
  {
   "cell_type": "markdown",
   "metadata": {},
   "source": [
    "## Gameweek"
   ]
  },
  {
   "cell_type": "code",
   "execution_count": 57,
   "metadata": {},
   "outputs": [
    {
     "data": {
      "image/png": "[encoded data removed]",
      "text/plain": [
       "<Figure size 1400x600 with 1 Axes>"
      ]
     },
     "metadata": {},
     "output_type": "display_data"
    }
   ],
   "source": [
    "plt.figure(figsize=(14,6))\n",
    "sns.countplot(x='gameweek', hue='is_Goal', data=Shots_model)\n",
    "plt.title('Count of Goals by Gameweek')\n",
    "plt.xticks(rotation=45)\n",
    "plt.show()\n"
   ]
  },
  {
   "cell_type": "markdown",
   "metadata": {},
   "source": [
    "## Side"
   ]
  },
  {
   "cell_type": "code",
   "execution_count": 49,
   "metadata": {},
   "outputs": [
    {
     "data": {
      "image/png": "[encoded data removed]",
      "text/plain": [
       "<Figure size 800x600 with 1 Axes>"
      ]
     },
     "metadata": {},
     "output_type": "display_data"
    }
   ],
   "source": [
    "plt.figure(figsize=(8,6))\n",
    "sns.countplot(x='side', hue='is_Goal', data=Shots_model)\n",
    "plt.title('Count of Goals by Side')\n",
    "plt.show()\n"
   ]
  },
  {
   "cell_type": "code",
   "execution_count": 50,
   "metadata": {},
   "outputs": [
    {
     "data": {
      "image/png": "[encoded data removed]",
      "text/plain": [
       "<Figure size 800x600 with 1 Axes>"
      ]
     },
     "metadata": {},
     "output_type": "display_data"
    }
   ],
   "source": [
    "total_shots = Shots_model.groupby('side')['is_Goal'].count().reset_index()\n",
    "successful_shots = Shots_model[Shots_model['is_Goal'] == 1].groupby('side')['is_Goal'].count().reset_index()\n",
    "successful_shots['percentage'] = (successful_shots['is_Goal'] / total_shots['is_Goal']) * 100\n",
    "plt.figure(figsize=(8,6))\n",
    "sns.barplot(x='side', y='percentage', data=successful_shots)\n",
    "plt.ylabel('Goal Conversion Percentage')\n",
    "plt.title('Goal Conversion Percentage by Side')\n",
    "plt.show()\n"
   ]
  },
  {
   "cell_type": "code",
   "execution_count": 51,
   "metadata": {},
   "outputs": [
    {
     "name": "stdout",
     "output_type": "stream",
     "text": [
      "   side  Shot_Count  Goal_Count  Goal_Percentage\n",
      "0  Home       22445        2412        10.746269\n",
      "1  Away       18013        1859        10.320324\n"
     ]
    }
   ],
   "source": [
    "side_shot_counts = Shots_model['side'].value_counts().reset_index()\n",
    "side_shot_counts.columns = ['side', 'Shot_Count']\n",
    "goal_counts_by_side = Shots_model[Shots_model['is_Goal'] == 1]['side'].value_counts().reset_index()\n",
    "goal_counts_by_side.columns = ['side', 'Goal_Count']\n",
    "result_by_side = pd.merge(side_shot_counts, goal_counts_by_side, on='side', how='left').fillna(0)\n",
    "result_by_side['Goal_Percentage'] = (result_by_side['Goal_Count'] / result_by_side['Shot_Count']) * 100\n",
    "print(result_by_side)\n"
   ]
  },
  {
   "cell_type": "markdown",
   "metadata": {},
   "source": [
    "## Logistic"
   ]
  },
  {
   "cell_type": "code",
   "execution_count": 61,
   "metadata": {},
   "outputs": [],
   "source": [
    "import pandas as pd\n",
    "import numpy as np\n",
    "from sklearn.linear_model import LogisticRegression\n",
    "from sklearn.model_selection import train_test_split\n",
    "from sklearn.metrics import classification_report, accuracy_score"
   ]
  },
  {
   "cell_type": "code",
   "execution_count": 149,
   "metadata": {},
   "outputs": [],
   "source": [
    "Shots_model1 = Shots_df[columns_to_keep].copy()\n",
    "Shots_model1 = Shots_model1.drop(['Part', 'start_x', 'start_y'], axis=1)\n"
   ]
  },
  {
   "cell_type": "code",
   "execution_count": 150,
   "metadata": {},
   "outputs": [],
   "source": [
    "Shots_model1.to_csv('Shots_model11.csv', index=False)\n"
   ]
  },
  {
   "cell_type": "code",
   "execution_count": 135,
   "metadata": {},
   "outputs": [
    {
     "name": "stdout",
     "output_type": "stream",
     "text": [
      "Index(['matchPeriod', 'eventSec', 'distance', 'angle', 'is_Goal', 'Shot_Part',\n",
      "       'age', 'role', 'gameweek', 'side', 'Y_position_centred', 'X_position'],\n",
      "      dtype='object')\n"
     ]
    }
   ],
   "source": [
    "print(Shots_model1.columns)\n"
   ]
  },
  {
   "cell_type": "code",
   "execution_count": 140,
   "metadata": {},
   "outputs": [],
   "source": [
    "Shots_model1 = pd.get_dummies(Shots_model1, columns=['Shot_Part','matchPeriod','role','side'])"
   ]
  },
  {
   "cell_type": "code",
   "execution_count": 147,
   "metadata": {},
   "outputs": [
    {
     "name": "stdout",
     "output_type": "stream",
     "text": [
      "Coefficients: [[-3.16584282e-06 -1.26837770e-01  2.58473585e-02 -2.08133951e-02\n",
      "   3.00518315e-03  7.62575782e-02 -1.32463393e-02 -1.68938323e-01\n",
      "   1.37479752e-01  2.97845244e-02 -3.44924631e-02  3.28184160e-02\n",
      "  -8.00955309e-02  7.56135123e-02 -1.30145619e-04  2.93811704e-03\n",
      "   2.41666524e-03 -4.09071238e-03]]\n",
      "Intercept: [-0.00167447]\n"
     ]
    }
   ],
   "source": [
    "X = Shots_model1.drop('is_Goal', axis=1)  # 特征\n",
    "y = Shots_model1['is_Goal']  # 标签\n",
    "\n",
    "log_reg = LogisticRegression()\n",
    "log_reg.fit(X, y)\n",
    "\n",
    "# 打印模型的参数\n",
    "print(\"Coefficients:\", log_reg.coef_)\n",
    "print(\"Intercept:\", log_reg.intercept_)\n"
   ]
  },
  {
   "cell_type": "code",
   "execution_count": 145,
   "metadata": {},
   "outputs": [
    {
     "name": "stdout",
     "output_type": "stream",
     "text": [
      "Warning: Maximum number of iterations has been exceeded.\n",
      "         Current function value: 0.284488\n",
      "         Iterations: 35\n",
      "                           Logit Regression Results                           \n",
      "==============================================================================\n",
      "Dep. Variable:                is_Goal   No. Observations:                40458\n",
      "Model:                          Logit   Df Residuals:                    40442\n",
      "Method:                           MLE   Df Model:                           15\n",
      "Date:                Thu, 16 Nov 2023   Pseudo R-squ.:                  0.1562\n",
      "Time:                        18:51:59   Log-Likelihood:                -11510.\n",
      "converged:                      False   LL-Null:                       -13640.\n",
      "Covariance Type:            nonrobust   LLR p-value:                     0.000\n",
      "=========================================================================================\n",
      "                            coef    std err          z      P>|z|      [0.025      0.975]\n",
      "-----------------------------------------------------------------------------------------\n",
      "const                     1.7043    4.4e+06   3.88e-07      1.000   -8.62e+06    8.62e+06\n",
      "eventSec              -2.161e-05   2.12e-05     -1.020      0.308   -6.31e-05    1.99e-05\n",
      "distance                 -0.1822      0.025     -7.359      0.000      -0.231      -0.134\n",
      "angle                     0.0175      0.001     12.594      0.000       0.015       0.020\n",
      "age                      -0.0032      0.005     -0.679      0.497      -0.012       0.006\n",
      "gameweek                  0.0014      0.002      0.850      0.395      -0.002       0.005\n",
      "Y_position_centred        0.0368      0.012      2.950      0.003       0.012       0.061\n",
      "X_position               -0.0527      0.021     -2.474      0.013      -0.094      -0.011\n",
      "Shot_Part_Head/body      -0.0450   7.37e+06   -6.1e-09      1.000   -1.45e+07    1.45e+07\n",
      "Shot_Part_Strong Foot     0.9397   6.79e+06   1.38e-07      1.000   -1.33e+07    1.33e+07\n",
      "Shot_Part_Weak Foot       0.8096   6.54e+06   1.24e-07      1.000   -1.28e+07    1.28e+07\n",
      "matchPeriod_1H            0.7931    3.7e+06   2.14e-07      1.000   -7.26e+06    7.26e+06\n",
      "matchPeriod_2H            0.9113    3.7e+06   2.46e-07      1.000   -7.26e+06    7.26e+06\n",
      "role_Defender             0.2920   8.52e+06   3.43e-08      1.000   -1.67e+07    1.67e+07\n",
      "role_Forward              0.7071   8.44e+06   8.38e-08      1.000   -1.65e+07    1.65e+07\n",
      "role_Goalkeeper           0.1273   8.44e+06   1.51e-08      1.000   -1.65e+07    1.65e+07\n",
      "role_Midfielder           0.5779   8.44e+06   6.85e-08      1.000   -1.65e+07    1.65e+07\n",
      "side_Away                 0.8554        nan        nan        nan         nan         nan\n",
      "side_Home                 0.8489        nan        nan        nan         nan         nan\n",
      "=========================================================================================\n"
     ]
    },
    {
     "name": "stderr",
     "output_type": "stream",
     "text": [
      "/Users/huaweimacpro/opt/anaconda3/lib/python3.9/site-packages/statsmodels/base/model.py:604: ConvergenceWarning: Maximum Likelihood optimization failed to converge. Check mle_retvals\n",
      "  warnings.warn(\"Maximum Likelihood optimization failed to \"\n"
     ]
    }
   ],
   "source": [
    "import statsmodels.api as sm\n",
    "\n",
    "# 添加常数项，因为 statsmodels 不会自动添加\n",
    "X = sm.add_constant(Shots_model1.drop('is_Goal', axis=1))\n",
    "\n",
    "# 构建模型\n",
    "logit_model = sm.Logit(y, X)\n",
    "\n",
    "# 拟合模型\n",
    "result = logit_model.fit()\n",
    "\n",
    "# 显示统计摘要\n",
    "print(result.summary())\n"
   ]
  },
  {
   "cell_type": "markdown",
   "metadata": {},
   "source": [
    "## Model"
   ]
  },
  {
   "cell_type": "code",
   "execution_count": 52,
   "metadata": {},
   "outputs": [
    {
     "name": "stdout",
     "output_type": "stream",
     "text": [
      "['matchPeriod', 'eventSec', 'distance', 'angle', 'is_Goal', 'Shot_Part', 'age', 'role', 'gameweek', 'side', 'Y_position_centred', 'X_position', 'Part', 'start_x', 'start_y']\n"
     ]
    }
   ],
   "source": [
    "print(list(Shots_model.columns))\n"
   ]
  },
  {
   "cell_type": "code",
   "execution_count": 53,
   "metadata": {},
   "outputs": [
    {
     "name": "stdout",
     "output_type": "stream",
     "text": [
      "Requirement already satisfied: scikit-learn in /Users/huaweimacpro/opt/anaconda3/lib/python3.9/site-packages (1.0.2)\r\n",
      "Requirement already satisfied: numpy>=1.14.6 in /Users/huaweimacpro/opt/anaconda3/lib/python3.9/site-packages (from scikit-learn) (1.21.0)\r\n",
      "Requirement already satisfied: scipy>=1.1.0 in /Users/huaweimacpro/opt/anaconda3/lib/python3.9/site-packages (from scikit-learn) (1.9.1)\r\n",
      "Requirement already satisfied: joblib>=0.11 in /Users/huaweimacpro/opt/anaconda3/lib/python3.9/site-packages (from scikit-learn) (1.1.0)\r\n",
      "Requirement already satisfied: threadpoolctl>=2.0.0 in /Users/huaweimacpro/opt/anaconda3/lib/python3.9/site-packages (from scikit-learn) (2.2.0)\r\n"
     ]
    }
   ],
   "source": [
    "!pip install scikit-learn\n"
   ]
  },
  {
   "cell_type": "code",
   "execution_count": 54,
   "metadata": {},
   "outputs": [],
   "source": [
    "from sklearn.model_selection import cross_val_score\n",
    "from sklearn.linear_model import LogisticRegression\n",
    "from sklearn.preprocessing import OneHotEncoder\n",
    "from sklearn.compose import ColumnTransformer\n",
    "from sklearn.pipeline import Pipeline\n",
    "\n",
    "\n"
   ]
  },
  {
   "cell_type": "code",
   "execution_count": 156,
   "metadata": {},
   "outputs": [],
   "source": [
    "Shots_model['age'].fillna(Shots_model['age'].mean(), inplace=True)\n",
    "Shots_model['role'].fillna(Shots_model['role'].mode()[0], inplace=True)\n"
   ]
  },
  {
   "cell_type": "code",
   "execution_count": 76,
   "metadata": {},
   "outputs": [
    {
     "name": "stdout",
     "output_type": "stream",
     "text": [
      "matchPeriod           0\n",
      "eventSec              0\n",
      "distance              0\n",
      "angle                 0\n",
      "is_Goal               0\n",
      "Shot_Part             0\n",
      "age                   0\n",
      "role                  0\n",
      "gameweek              0\n",
      "side                  0\n",
      "Y_position_centred    0\n",
      "X_position            0\n",
      "dtype: int64\n"
     ]
    }
   ],
   "source": [
    "Shots_model = Shots_model.drop(['Part', 'start_x', 'start_y'], axis=1)\n",
    "\n",
    "\n",
    "print(Shots_model.isnull().sum())"
   ]
  },
  {
   "cell_type": "markdown",
   "metadata": {},
   "source": [
    "## Logistic Regression"
   ]
  },
  {
   "cell_type": "code",
   "execution_count": 56,
   "metadata": {},
   "outputs": [
    {
     "name": "stdout",
     "output_type": "stream",
     "text": [
      "Logistic Regression Cross-validation accuracy scores: [0.8978003  0.89854177 0.89742956 0.89852923 0.89630454]\n",
      "Logistic Regression Mean accuracy: 0.897721078442064\n",
      "Logistic Regression Train log loss scores: [0.29254294566919803, 0.29211440367514846, 0.29264728947827445, 0.29193220124535413, 0.290838126508165]\n",
      "Logistic Regression Mean Train log loss: 0.292014993315228\n",
      "Logistic Regression Test log loss scores: [0.2900007206271338, 0.29170022461415845, 0.2895631829377788, 0.2924302608091946, 0.296878520689576]\n",
      "Logistic Regression Mean Test log loss: 0.2921145819355683\n"
     ]
    }
   ],
   "source": [
    "import pandas as pd\n",
    "from sklearn.model_selection import cross_val_predict, cross_val_score, StratifiedKFold\n",
    "from sklearn.preprocessing import OneHotEncoder\n",
    "from sklearn.linear_model import LogisticRegression\n",
    "from sklearn.metrics import log_loss\n",
    "X = Shots_model[['Y_position_centred', 'X_position', 'distance', 'angle']]  # 特征\n",
    "y = Shots_model['is_Goal']  # 标签\n",
    "model = LogisticRegression(max_iter=1000)\n",
    "cv_scores = cross_val_score(model, X, y, cv=5, scoring='accuracy')\n",
    "y_pred_probabilities = cross_val_predict(model, X, y, cv=5, method='predict_proba')\n",
    "train_logloss_scores = []\n",
    "test_logloss_scores = []\n",
    "for train_idx, test_idx in StratifiedKFold(n_splits=5, shuffle=True, random_state=42).split(X, y):\n",
    "    X_train, X_test = X.iloc[train_idx], X.iloc[test_idx]\n",
    "    y_train, y_test = y.iloc[train_idx], y.iloc[test_idx]\n",
    "    model.fit(X_train, y_train)\n",
    "    y_train_pred_prob = model.predict_proba(X_train)\n",
    "    y_test_pred_prob = model.predict_proba(X_test)\n",
    "    \n",
    "    train_logloss = log_loss(y_train, y_train_pred_prob)\n",
    "    test_logloss = log_loss(y_test, y_test_pred_prob)\n",
    "    \n",
    "    train_logloss_scores.append(train_logloss)\n",
    "    test_logloss_scores.append(test_logloss)\n",
    "\n",
    "print(\"Logistic Regression Cross-validation accuracy scores:\", cv_scores)\n",
    "print(\"Logistic Regression Mean accuracy:\", cv_scores.mean())\n",
    "\n",
    "print(\"Logistic Regression Train log loss scores:\", train_logloss_scores)\n",
    "print(\"Logistic Regression Mean Train log loss:\", sum(train_logloss_scores) / len(train_logloss_scores))\n",
    "\n",
    "print(\"Logistic Regression Test log loss scores:\", test_logloss_scores)\n",
    "print(\"Logistic Regression Mean Test log loss:\", sum(test_logloss_scores) / len(test_logloss_scores))\n"
   ]
  },
  {
   "cell_type": "code",
   "execution_count": 70,
   "metadata": {},
   "outputs": [
    {
     "name": "stdout",
     "output_type": "stream",
     "text": [
      "Logistic Regression Cross-validation accuracy scores: [0.8978003  0.89841819 0.90076619 0.90025955 0.89840564]\n",
      "Logistic Regression Mean accuracy: 0.8991299719521388\n",
      "Logistic Regression Train log loss scores: [0.285265925515202, 0.2848101573353299, 0.2851855731987522, 0.2844636488476473, 0.2835853371866839]\n",
      "Logistic Regression Mean Train log loss: 0.28466212841672306\n",
      "Logistic Regression Test log loss scores: [0.28246806409534764, 0.2842566898529455, 0.282719779072525, 0.28564913523334795, 0.2892050113451632]\n",
      "Logistic Regression Mean Test log loss: 0.28485973591986585\n"
     ]
    }
   ],
   "source": [
    "import pandas as pd\n",
    "from sklearn.model_selection import cross_val_predict, cross_val_score, StratifiedKFold\n",
    "from sklearn.preprocessing import OneHotEncoder\n",
    "from sklearn.linear_model import LogisticRegression\n",
    "from sklearn.metrics import log_loss\n",
    "\n",
    "\n",
    "categorical_features = [ 'Shot_Part', 'role']\n",
    "Shots_model[categorical_features] = Shots_model[categorical_features].astype('category')\n",
    "X = Shots_model[['Y_position_centred', 'X_position', 'distance', 'angle','Shot_Part', 'age', 'role']]  # 特征\n",
    "y = Shots_model['is_Goal']  \n",
    "encoder = OneHotEncoder(drop='first', sparse=False, handle_unknown='ignore')\n",
    "X_encoded = encoder.fit_transform(X[categorical_features])\n",
    "encoded_feature_names = encoder.get_feature_names_out(input_features=categorical_features)\n",
    "X_encoded_df = pd.DataFrame(X_encoded, columns=encoded_feature_names)\n",
    "X_final = pd.concat([X.drop(columns=categorical_features), X_encoded_df], axis=1)\n",
    "model = LogisticRegression(max_iter=1000)\n",
    "cv_scores = cross_val_score(model, X_final, y, cv=5, scoring='accuracy')\n",
    "y_pred_probabilities = cross_val_predict(model, X_final, y, cv=5, method='predict_proba')\n",
    "\n",
    "train_logloss_scores = []\n",
    "test_logloss_scores = []\n",
    "for train_idx, test_idx in StratifiedKFold(n_splits=5, shuffle=True, random_state=42).split(X_final, y):\n",
    "    X_train, X_test = X_final.iloc[train_idx], X_final.iloc[test_idx]\n",
    "    y_train, y_test = y.iloc[train_idx], y.iloc[test_idx]\n",
    "    model.fit(X_train, y_train)\n",
    "    y_train_pred_prob = model.predict_proba(X_train)\n",
    "    y_test_pred_prob = model.predict_proba(X_test)\n",
    "    \n",
    "    train_logloss = log_loss(y_train, y_train_pred_prob)\n",
    "    test_logloss = log_loss(y_test, y_test_pred_prob)\n",
    "    \n",
    "    train_logloss_scores.append(train_logloss)\n",
    "    test_logloss_scores.append(test_logloss)\n",
    "\n",
    "print(\"Logistic Regression Cross-validation accuracy scores:\", cv_scores)\n",
    "print(\"Logistic Regression Mean accuracy:\", cv_scores.mean())\n",
    "\n",
    "print(\"Logistic Regression Train log loss scores:\", train_logloss_scores)\n",
    "print(\"Logistic Regression Mean Train log loss:\", sum(train_logloss_scores) / len(train_logloss_scores))\n",
    "\n",
    "print(\"Logistic Regression Test log loss scores:\", test_logloss_scores)\n",
    "print(\"Logistic Regression Mean Test log loss:\", sum(test_logloss_scores) / len(test_logloss_scores))\n",
    "\n"
   ]
  },
  {
   "cell_type": "code",
   "execution_count": 72,
   "metadata": {},
   "outputs": [
    {
     "name": "stdout",
     "output_type": "stream",
     "text": [
      "<class 'pandas.core.frame.DataFrame'>\n",
      "Int64Index: 40458 entries, 0 to 40457\n",
      "Data columns (total 15 columns):\n",
      " #   Column              Non-Null Count  Dtype   \n",
      "---  ------              --------------  -----   \n",
      " 0   matchPeriod         40458 non-null  category\n",
      " 1   eventSec            40458 non-null  float64 \n",
      " 2   distance            40458 non-null  float64 \n",
      " 3   angle               40458 non-null  float64 \n",
      " 4   is_Goal             40458 non-null  int64   \n",
      " 5   Shot_Part           40458 non-null  category\n",
      " 6   age                 40458 non-null  float64 \n",
      " 7   role                40458 non-null  category\n",
      " 8   gameweek            40458 non-null  int64   \n",
      " 9   side                40458 non-null  category\n",
      " 10  Y_position_centred  40458 non-null  float64 \n",
      " 11  X_position          40458 non-null  float64 \n",
      " 12  Part                40458 non-null  category\n",
      " 13  start_x             40458 non-null  int64   \n",
      " 14  start_y             40458 non-null  int64   \n",
      "dtypes: category(5), float64(6), int64(4)\n",
      "memory usage: 3.6 MB\n"
     ]
    }
   ],
   "source": [
    "Shots_model.info()"
   ]
  },
  {
   "cell_type": "code",
   "execution_count": 81,
   "metadata": {},
   "outputs": [
    {
     "name": "stdout",
     "output_type": "stream",
     "text": [
      "Logistic Regression Cross-validation accuracy scores: [0.89792388 0.89792388 0.90014829 0.90075392 0.89877642]\n",
      "Logistic Regression Mean accuracy: 0.8991052775665436\n",
      "Logistic Regression Train log loss scores: [0.28524153684301745, 0.2846326841689489, 0.2850793565329838, 0.2845409290856012, 0.28342588565948806]\n",
      "Logistic Regression Mean Train log loss: 0.28458407845800787\n",
      "Logistic Regression Test log loss scores: [0.2834657762245702, 0.2843264132138228, 0.28238252760378124, 0.2854334925773356, 0.28917316862719933]\n",
      "Logistic Regression Mean Test log loss: 0.2849562756493419\n"
     ]
    }
   ],
   "source": [
    "import pandas as pd\n",
    "from sklearn.model_selection import cross_val_predict, cross_val_score, StratifiedKFold\n",
    "from sklearn.preprocessing import OneHotEncoder\n",
    "from sklearn.linear_model import LogisticRegression\n",
    "from sklearn.metrics import log_loss\n",
    "\n",
    "categorical_features = ['matchPeriod', 'Shot_Part', 'role', 'side']\n",
    "Shots_model[categorical_features] = Shots_model[categorical_features].astype('category')\n",
    "X = Shots_model.drop('is_Goal', axis=1)  # 特征\n",
    "y = Shots_model['is_Goal']  # 标签\n",
    "encoder = OneHotEncoder(drop='first', sparse=False, handle_unknown='ignore')\n",
    "X_encoded = encoder.fit_transform(X[categorical_features])\n",
    "encoded_feature_names = encoder.get_feature_names_out(input_features=categorical_features)\n",
    "X_encoded_df = pd.DataFrame(X_encoded, columns=encoded_feature_names)\n",
    "X_final = pd.concat([X.drop(columns=categorical_features), X_encoded_df], axis=1)\n",
    "model = LogisticRegression(max_iter=1000)\n",
    "cv_scores = cross_val_score(model, X_final, y, cv=5, scoring='accuracy')\n",
    "y_pred_probabilities = cross_val_predict(model, X_final, y, cv=5, method='predict_proba')\n",
    "train_logloss_scores = []\n",
    "test_logloss_scores = []\n",
    "for train_idx, test_idx in StratifiedKFold(n_splits=5, shuffle=True, random_state=42).split(X_final, y):\n",
    "    X_train, X_test = X_final.iloc[train_idx], X_final.iloc[test_idx]\n",
    "    y_train, y_test = y.iloc[train_idx], y.iloc[test_idx]\n",
    "    model.fit(X_train, y_train)\n",
    "    y_train_pred_prob = model.predict_proba(X_train)\n",
    "    y_test_pred_prob = model.predict_proba(X_test)\n",
    "    \n",
    "    train_logloss = log_loss(y_train, y_train_pred_prob)\n",
    "    test_logloss = log_loss(y_test, y_test_pred_prob)\n",
    "    \n",
    "    train_logloss_scores.append(train_logloss)\n",
    "    test_logloss_scores.append(test_logloss)\n",
    "\n",
    "print(\"Logistic Regression Cross-validation accuracy scores:\", cv_scores)\n",
    "print(\"Logistic Regression Mean accuracy:\", cv_scores.mean())\n",
    "\n",
    "print(\"Logistic Regression Train log loss scores:\", train_logloss_scores)\n",
    "print(\"Logistic Regression Mean Train log loss:\", sum(train_logloss_scores) / len(train_logloss_scores))\n",
    "\n",
    "print(\"Logistic Regression Test log loss scores:\", test_logloss_scores)\n",
    "print(\"Logistic Regression Mean Test log loss:\", sum(test_logloss_scores) / len(test_logloss_scores))\n"
   ]
  },
  {
   "cell_type": "code",
   "execution_count": 78,
   "metadata": {},
   "outputs": [
    {
     "ename": "NameError",
     "evalue": "name 'pipeline' is not defined",
     "output_type": "error",
     "traceback": [
      "\u001b[0;31m---------------------------------------------------------------------------\u001b[0m",
      "\u001b[0;31mNameError\u001b[0m                                 Traceback (most recent call last)",
      "\u001b[0;32m/var/folders/pr/kgbxztp54bqfjc18cw0q_wdc0000gn/T/ipykernel_59617/3789427971.py\u001b[0m in \u001b[0;36m<module>\u001b[0;34m\u001b[0m\n\u001b[1;32m      1\u001b[0m \u001b[0;32mfrom\u001b[0m \u001b[0msklearn\u001b[0m\u001b[0;34m.\u001b[0m\u001b[0mpipeline\u001b[0m \u001b[0;32mimport\u001b[0m \u001b[0mPipeline\u001b[0m\u001b[0;34m\u001b[0m\u001b[0;34m\u001b[0m\u001b[0m\n\u001b[1;32m      2\u001b[0m \u001b[0;31m# Perform cross-validation\u001b[0m\u001b[0;34m\u001b[0m\u001b[0;34m\u001b[0m\u001b[0m\n\u001b[0;32m----> 3\u001b[0;31m \u001b[0mcv_scores\u001b[0m \u001b[0;34m=\u001b[0m \u001b[0mcross_val_score\u001b[0m\u001b[0;34m(\u001b[0m\u001b[0mpipeline\u001b[0m\u001b[0;34m,\u001b[0m \u001b[0mX\u001b[0m\u001b[0;34m,\u001b[0m \u001b[0my\u001b[0m\u001b[0;34m,\u001b[0m \u001b[0mcv\u001b[0m\u001b[0;34m=\u001b[0m\u001b[0;36m5\u001b[0m\u001b[0;34m,\u001b[0m \u001b[0mscoring\u001b[0m\u001b[0;34m=\u001b[0m\u001b[0;34m'accuracy'\u001b[0m\u001b[0;34m)\u001b[0m\u001b[0;34m\u001b[0m\u001b[0;34m\u001b[0m\u001b[0m\n\u001b[0m\u001b[1;32m      4\u001b[0m \u001b[0;31m# Print the cross-validation scores\u001b[0m\u001b[0;34m\u001b[0m\u001b[0;34m\u001b[0m\u001b[0m\n\u001b[1;32m      5\u001b[0m \u001b[0mprint\u001b[0m\u001b[0;34m(\u001b[0m\u001b[0;34m\"Cross-validation scores:\"\u001b[0m\u001b[0;34m,\u001b[0m \u001b[0mcv_scores\u001b[0m\u001b[0;34m)\u001b[0m\u001b[0;34m\u001b[0m\u001b[0;34m\u001b[0m\u001b[0m\n",
      "\u001b[0;31mNameError\u001b[0m: name 'pipeline' is not defined"
     ]
    }
   ],
   "source": [
    "from sklearn.pipeline import Pipeline\n",
    "# Perform cross-validation\n",
    "cv_scores = cross_val_score(pipeline, X, y, cv=5, scoring='accuracy')\n",
    "# Print the cross-validation scores\n",
    "print(\"Cross-validation scores:\", cv_scores)\n",
    "print(\"Average accuracy:\", cv_scores.mean())\n"
   ]
  },
  {
   "cell_type": "code",
   "execution_count": 60,
   "metadata": {},
   "outputs": [
    {
     "name": "stdout",
     "output_type": "stream",
     "text": [
      "Requirement already satisfied: xgboost in /Users/huaweimacpro/opt/anaconda3/lib/python3.9/site-packages (1.7.6)\n",
      "Requirement already satisfied: scipy in /Users/huaweimacpro/opt/anaconda3/lib/python3.9/site-packages (from xgboost) (1.9.1)\n",
      "Requirement already satisfied: numpy in /Users/huaweimacpro/opt/anaconda3/lib/python3.9/site-packages (from xgboost) (1.21.0)\n",
      "Requirement already satisfied: shap in /Users/huaweimacpro/opt/anaconda3/lib/python3.9/site-packages (0.42.1)\n",
      "Requirement already satisfied: numpy in /Users/huaweimacpro/opt/anaconda3/lib/python3.9/site-packages (from shap) (1.21.0)\n",
      "Requirement already satisfied: numba in /Users/huaweimacpro/opt/anaconda3/lib/python3.9/site-packages (from shap) (0.55.1)\n",
      "Requirement already satisfied: pandas in /Users/huaweimacpro/opt/anaconda3/lib/python3.9/site-packages (from shap) (1.4.4)\n",
      "Requirement already satisfied: tqdm>=4.27.0 in /Users/huaweimacpro/opt/anaconda3/lib/python3.9/site-packages (from shap) (4.64.1)\n",
      "Requirement already satisfied: slicer==0.0.7 in /Users/huaweimacpro/opt/anaconda3/lib/python3.9/site-packages (from shap) (0.0.7)\n",
      "Requirement already satisfied: scipy in /Users/huaweimacpro/opt/anaconda3/lib/python3.9/site-packages (from shap) (1.9.1)\n",
      "Requirement already satisfied: packaging>20.9 in /Users/huaweimacpro/opt/anaconda3/lib/python3.9/site-packages (from shap) (21.3)\n",
      "Requirement already satisfied: scikit-learn in /Users/huaweimacpro/opt/anaconda3/lib/python3.9/site-packages (from shap) (1.0.2)\n",
      "Requirement already satisfied: cloudpickle in /Users/huaweimacpro/opt/anaconda3/lib/python3.9/site-packages (from shap) (2.0.0)\n",
      "Requirement already satisfied: pyparsing!=3.0.5,>=2.0.2 in /Users/huaweimacpro/opt/anaconda3/lib/python3.9/site-packages (from packaging>20.9->shap) (3.0.9)\n",
      "Requirement already satisfied: setuptools in /Users/huaweimacpro/opt/anaconda3/lib/python3.9/site-packages (from numba->shap) (63.4.1)\n",
      "Requirement already satisfied: llvmlite<0.39,>=0.38.0rc1 in /Users/huaweimacpro/opt/anaconda3/lib/python3.9/site-packages (from numba->shap) (0.38.0)\n",
      "Requirement already satisfied: python-dateutil>=2.8.1 in /Users/huaweimacpro/opt/anaconda3/lib/python3.9/site-packages (from pandas->shap) (2.8.2)\n",
      "Requirement already satisfied: pytz>=2020.1 in /Users/huaweimacpro/opt/anaconda3/lib/python3.9/site-packages (from pandas->shap) (2022.1)\n",
      "Requirement already satisfied: threadpoolctl>=2.0.0 in /Users/huaweimacpro/opt/anaconda3/lib/python3.9/site-packages (from scikit-learn->shap) (2.2.0)\n",
      "Requirement already satisfied: joblib>=0.11 in /Users/huaweimacpro/opt/anaconda3/lib/python3.9/site-packages (from scikit-learn->shap) (1.1.0)\n",
      "Requirement already satisfied: six>=1.5 in /Users/huaweimacpro/opt/anaconda3/lib/python3.9/site-packages (from python-dateutil>=2.8.1->pandas->shap) (1.16.0)\n"
     ]
    }
   ],
   "source": [
    "!pip install xgboost\n",
    "!pip install shap"
   ]
  },
  {
   "cell_type": "code",
   "execution_count": 61,
   "metadata": {},
   "outputs": [
    {
     "name": "stdout",
     "output_type": "stream",
     "text": [
      "Requirement already satisfied: numpy==1.21 in /Users/huaweimacpro/opt/anaconda3/lib/python3.9/site-packages (1.21.0)\r\n"
     ]
    }
   ],
   "source": [
    "!pip install numpy==1.21\n"
   ]
  },
  {
   "cell_type": "markdown",
   "metadata": {},
   "source": [
    "## XGBoost"
   ]
  },
  {
   "cell_type": "code",
   "execution_count": 62,
   "metadata": {},
   "outputs": [
    {
     "name": "stdout",
     "output_type": "stream",
     "text": [
      "XGBoost Cross-validation accuracy scores: [0.8954523  0.89705882 0.89742956 0.89815845 0.89618094]\n",
      "XGBoost Mean accuracy: 0.8968560143200556\n",
      "XGBoost Train log loss scores: [0.27715194916502794, 0.2761401753400591, 0.27659126296301845, 0.27656558823590727, 0.27631041877774803]\n",
      "XGBoost Mean Train log loss: 0.2765518788963522\n",
      "XGBoost Test log loss scores: [0.2933311773740318, 0.2987024125916087, 0.2952302740235532, 0.2970033601749796, 0.29881259293642076]\n",
      "XGBoost Mean Test log loss: 0.29661596342011876\n"
     ]
    }
   ],
   "source": [
    "import pandas as pd\n",
    "from sklearn.model_selection import cross_val_predict, cross_val_score, StratifiedKFold\n",
    "from sklearn.preprocessing import OneHotEncoder\n",
    "from xgboost import XGBClassifier\n",
    "from sklearn.metrics import log_loss\n",
    "\n",
    "# 假设 Shots_model 是您的数据集\n",
    "\n",
    "# 准备数据和标签\n",
    "X = Shots_model[['Y_position_centred', 'X_position', 'distance', 'angle']]  # 特征\n",
    "y = Shots_model['is_Goal']  # 标签\n",
    "\n",
    "# 创建XGBoost模型\n",
    "model = XGBClassifier()\n",
    "\n",
    "# 使用交叉验证评估XGBoost模型\n",
    "cv_scores = cross_val_score(model, X, y, cv=5, scoring='accuracy')\n",
    "\n",
    "# 使用交叉验证预测概率\n",
    "y_pred_probabilities = cross_val_predict(model, X, y, cv=5, method='predict_proba')\n",
    "\n",
    "# 计算训练集和测试集的 log loss\n",
    "train_logloss_scores = []\n",
    "test_logloss_scores = []\n",
    "for train_idx, test_idx in StratifiedKFold(n_splits=5, shuffle=True, random_state=42).split(X, y):\n",
    "    X_train, X_test = X.iloc[train_idx], X.iloc[test_idx]\n",
    "    y_train, y_test = y.iloc[train_idx], y.iloc[test_idx]\n",
    "    model.fit(X_train, y_train)\n",
    "    y_train_pred_prob = model.predict_proba(X_train)\n",
    "    y_test_pred_prob = model.predict_proba(X_test)\n",
    "    \n",
    "    train_logloss = log_loss(y_train, y_train_pred_prob)\n",
    "    test_logloss = log_loss(y_test, y_test_pred_prob)\n",
    "    \n",
    "    train_logloss_scores.append(train_logloss)\n",
    "    test_logloss_scores.append(test_logloss)\n",
    "\n",
    "# 输出交叉验证的精确度和 log loss\n",
    "print(\"XGBoost Cross-validation accuracy scores:\", cv_scores)\n",
    "print(\"XGBoost Mean accuracy:\", cv_scores.mean())\n",
    "\n",
    "print(\"XGBoost Train log loss scores:\", train_logloss_scores)\n",
    "print(\"XGBoost Mean Train log loss:\", sum(train_logloss_scores) / len(train_logloss_scores))\n",
    "\n",
    "print(\"XGBoost Test log loss scores:\", test_logloss_scores)\n",
    "print(\"XGBoost Mean Test log loss:\", sum(test_logloss_scores) / len(test_logloss_scores))\n"
   ]
  },
  {
   "cell_type": "code",
   "execution_count": 63,
   "metadata": {},
   "outputs": [
    {
     "name": "stdout",
     "output_type": "stream",
     "text": [
      "XGBoost Cross-validation accuracy scores: [0.89730598 0.89569946 0.8971824  0.89902361 0.89729329]\n",
      "XGBoost Mean accuracy: 0.8973009470315205\n",
      "XGBoost Train log loss scores: [0.23913528861509814, 0.2416104701992876, 0.24324840584010224, 0.24125853706552144, 0.2422520036184069]\n",
      "XGBoost Mean Train log loss: 0.24150094106768324\n",
      "XGBoost Test log loss scores: [0.2902744271450807, 0.2942638380586288, 0.2915661825443518, 0.29365668863047567, 0.29351648862663926]\n",
      "XGBoost Mean Test log loss: 0.29265552500103525\n"
     ]
    }
   ],
   "source": [
    "import pandas as pd\n",
    "from sklearn.model_selection import cross_val_predict, cross_val_score, StratifiedKFold\n",
    "from sklearn.preprocessing import OneHotEncoder\n",
    "from xgboost import XGBClassifier\n",
    "from sklearn.metrics import log_loss\n",
    "\n",
    "\n",
    "categorical_features = [ 'Shot_Part', 'role']\n",
    "Shots_model[categorical_features] = Shots_model[categorical_features].astype('category')\n",
    "X = Shots_model[['Y_position_centred', 'X_position', 'distance', 'angle','Shot_Part', 'age', 'role']]  # 特征\n",
    "y = Shots_model['is_Goal']  # 标签\n",
    "encoder = OneHotEncoder(drop='first', sparse=False, handle_unknown='ignore')\n",
    "X_encoded = encoder.fit_transform(X[categorical_features])\n",
    "encoded_feature_names = encoder.get_feature_names_out(input_features=categorical_features)\n",
    "X_encoded_df = pd.DataFrame(X_encoded, columns=encoded_feature_names)\n",
    "X_final = pd.concat([X.drop(columns=categorical_features), X_encoded_df], axis=1)\n",
    "model = XGBClassifier()\n",
    "cv_scores = cross_val_score(model, X_final, y, cv=5, scoring='accuracy')\n",
    "y_pred_probabilities = cross_val_predict(model, X_final, y, cv=5, method='predict_proba')\n",
    "train_logloss_scores = []\n",
    "test_logloss_scores = []\n",
    "for train_idx, test_idx in StratifiedKFold(n_splits=5, shuffle=True, random_state=42).split(X_final, y):\n",
    "    X_train, X_test = X_final.iloc[train_idx], X_final.iloc[test_idx]\n",
    "    y_train, y_test = y.iloc[train_idx], y.iloc[test_idx]\n",
    "    model.fit(X_train, y_train)\n",
    "    y_train_pred_prob = model.predict_proba(X_train)\n",
    "    y_test_pred_prob = model.predict_proba(X_test)\n",
    "    \n",
    "    train_logloss = log_loss(y_train, y_train_pred_prob)\n",
    "    test_logloss = log_loss(y_test, y_test_pred_prob)\n",
    "    \n",
    "    train_logloss_scores.append(train_logloss)\n",
    "    test_logloss_scores.append(test_logloss)\n",
    "print(\"XGBoost Cross-validation accuracy scores:\", cv_scores)\n",
    "print(\"XGBoost Mean accuracy:\", cv_scores.mean())\n",
    "\n",
    "print(\"XGBoost Train log loss scores:\", train_logloss_scores)\n",
    "print(\"XGBoost Mean Train log loss:\", sum(train_logloss_scores) / len(train_logloss_scores))\n",
    "\n",
    "print(\"XGBoost Test log loss scores:\", test_logloss_scores)\n",
    "print(\"XGBoost Mean Test log loss:\", sum(test_logloss_scores) / len(test_logloss_scores))\n"
   ]
  },
  {
   "cell_type": "code",
   "execution_count": 79,
   "metadata": {},
   "outputs": [
    {
     "ename": "KeyboardInterrupt",
     "evalue": "",
     "output_type": "error",
     "traceback": [
      "\u001b[0;31m---------------------------------------------------------------------------\u001b[0m",
      "\u001b[0;31mKeyboardInterrupt\u001b[0m                         Traceback (most recent call last)",
      "\u001b[0;32m/var/folders/pr/kgbxztp54bqfjc18cw0q_wdc0000gn/T/ipykernel_59617/1668754430.py\u001b[0m in \u001b[0;36m<module>\u001b[0;34m\u001b[0m\n\u001b[1;32m     42\u001b[0m \u001b[0;31m# 使用网格搜索交叉验证评估XGBoost模型\u001b[0m\u001b[0;34m\u001b[0m\u001b[0;34m\u001b[0m\u001b[0m\n\u001b[1;32m     43\u001b[0m \u001b[0mgrid_search\u001b[0m \u001b[0;34m=\u001b[0m \u001b[0mGridSearchCV\u001b[0m\u001b[0;34m(\u001b[0m\u001b[0mmodel\u001b[0m\u001b[0;34m,\u001b[0m \u001b[0mparam_grid\u001b[0m\u001b[0;34m,\u001b[0m \u001b[0mcv\u001b[0m\u001b[0;34m=\u001b[0m\u001b[0;36m5\u001b[0m\u001b[0;34m,\u001b[0m \u001b[0mscoring\u001b[0m\u001b[0;34m=\u001b[0m\u001b[0;34m'neg_log_loss'\u001b[0m\u001b[0;34m)\u001b[0m\u001b[0;34m\u001b[0m\u001b[0;34m\u001b[0m\u001b[0m\n\u001b[0;32m---> 44\u001b[0;31m \u001b[0mgrid_search\u001b[0m\u001b[0;34m.\u001b[0m\u001b[0mfit\u001b[0m\u001b[0;34m(\u001b[0m\u001b[0mX_final\u001b[0m\u001b[0;34m,\u001b[0m \u001b[0my\u001b[0m\u001b[0;34m)\u001b[0m\u001b[0;34m\u001b[0m\u001b[0;34m\u001b[0m\u001b[0m\n\u001b[0m\u001b[1;32m     45\u001b[0m \u001b[0;34m\u001b[0m\u001b[0m\n\u001b[1;32m     46\u001b[0m \u001b[0;31m# 输出最佳参数和最佳交叉验证分数\u001b[0m\u001b[0;34m\u001b[0m\u001b[0;34m\u001b[0m\u001b[0m\n",
      "\u001b[0;32m~/opt/anaconda3/lib/python3.9/site-packages/sklearn/model_selection/_search.py\u001b[0m in \u001b[0;36mfit\u001b[0;34m(self, X, y, groups, **fit_params)\u001b[0m\n\u001b[1;32m    889\u001b[0m                 \u001b[0;32mreturn\u001b[0m \u001b[0mresults\u001b[0m\u001b[0;34m\u001b[0m\u001b[0;34m\u001b[0m\u001b[0m\n\u001b[1;32m    890\u001b[0m \u001b[0;34m\u001b[0m\u001b[0m\n\u001b[0;32m--> 891\u001b[0;31m             \u001b[0mself\u001b[0m\u001b[0;34m.\u001b[0m\u001b[0m_run_search\u001b[0m\u001b[0;34m(\u001b[0m\u001b[0mevaluate_candidates\u001b[0m\u001b[0;34m)\u001b[0m\u001b[0;34m\u001b[0m\u001b[0;34m\u001b[0m\u001b[0m\n\u001b[0m\u001b[1;32m    892\u001b[0m \u001b[0;34m\u001b[0m\u001b[0m\n\u001b[1;32m    893\u001b[0m             \u001b[0;31m# multimetric is determined here because in the case of a callable\u001b[0m\u001b[0;34m\u001b[0m\u001b[0;34m\u001b[0m\u001b[0m\n",
      "\u001b[0;32m~/opt/anaconda3/lib/python3.9/site-packages/sklearn/model_selection/_search.py\u001b[0m in \u001b[0;36m_run_search\u001b[0;34m(self, evaluate_candidates)\u001b[0m\n\u001b[1;32m   1390\u001b[0m     \u001b[0;32mdef\u001b[0m \u001b[0m_run_search\u001b[0m\u001b[0;34m(\u001b[0m\u001b[0mself\u001b[0m\u001b[0;34m,\u001b[0m \u001b[0mevaluate_candidates\u001b[0m\u001b[0;34m)\u001b[0m\u001b[0;34m:\u001b[0m\u001b[0;34m\u001b[0m\u001b[0;34m\u001b[0m\u001b[0m\n\u001b[1;32m   1391\u001b[0m         \u001b[0;34m\"\"\"Search all candidates in param_grid\"\"\"\u001b[0m\u001b[0;34m\u001b[0m\u001b[0;34m\u001b[0m\u001b[0m\n\u001b[0;32m-> 1392\u001b[0;31m         \u001b[0mevaluate_candidates\u001b[0m\u001b[0;34m(\u001b[0m\u001b[0mParameterGrid\u001b[0m\u001b[0;34m(\u001b[0m\u001b[0mself\u001b[0m\u001b[0;34m.\u001b[0m\u001b[0mparam_grid\u001b[0m\u001b[0;34m)\u001b[0m\u001b[0;34m)\u001b[0m\u001b[0;34m\u001b[0m\u001b[0;34m\u001b[0m\u001b[0m\n\u001b[0m\u001b[1;32m   1393\u001b[0m \u001b[0;34m\u001b[0m\u001b[0m\n\u001b[1;32m   1394\u001b[0m \u001b[0;34m\u001b[0m\u001b[0m\n",
      "\u001b[0;32m~/opt/anaconda3/lib/python3.9/site-packages/sklearn/model_selection/_search.py\u001b[0m in \u001b[0;36mevaluate_candidates\u001b[0;34m(candidate_params, cv, more_results)\u001b[0m\n\u001b[1;32m    836\u001b[0m                     )\n\u001b[1;32m    837\u001b[0m \u001b[0;34m\u001b[0m\u001b[0m\n\u001b[0;32m--> 838\u001b[0;31m                 out = parallel(\n\u001b[0m\u001b[1;32m    839\u001b[0m                     delayed(_fit_and_score)(\n\u001b[1;32m    840\u001b[0m                         \u001b[0mclone\u001b[0m\u001b[0;34m(\u001b[0m\u001b[0mbase_estimator\u001b[0m\u001b[0;34m)\u001b[0m\u001b[0;34m,\u001b[0m\u001b[0;34m\u001b[0m\u001b[0;34m\u001b[0m\u001b[0m\n",
      "\u001b[0;32m~/opt/anaconda3/lib/python3.9/site-packages/joblib/parallel.py\u001b[0m in \u001b[0;36m__call__\u001b[0;34m(self, iterable)\u001b[0m\n\u001b[1;32m   1044\u001b[0m                 \u001b[0mself\u001b[0m\u001b[0;34m.\u001b[0m\u001b[0m_iterating\u001b[0m \u001b[0;34m=\u001b[0m \u001b[0mself\u001b[0m\u001b[0;34m.\u001b[0m\u001b[0m_original_iterator\u001b[0m \u001b[0;32mis\u001b[0m \u001b[0;32mnot\u001b[0m \u001b[0;32mNone\u001b[0m\u001b[0;34m\u001b[0m\u001b[0;34m\u001b[0m\u001b[0m\n\u001b[1;32m   1045\u001b[0m \u001b[0;34m\u001b[0m\u001b[0m\n\u001b[0;32m-> 1046\u001b[0;31m             \u001b[0;32mwhile\u001b[0m \u001b[0mself\u001b[0m\u001b[0;34m.\u001b[0m\u001b[0mdispatch_one_batch\u001b[0m\u001b[0;34m(\u001b[0m\u001b[0miterator\u001b[0m\u001b[0;34m)\u001b[0m\u001b[0;34m:\u001b[0m\u001b[0;34m\u001b[0m\u001b[0;34m\u001b[0m\u001b[0m\n\u001b[0m\u001b[1;32m   1047\u001b[0m                 \u001b[0;32mpass\u001b[0m\u001b[0;34m\u001b[0m\u001b[0;34m\u001b[0m\u001b[0m\n\u001b[1;32m   1048\u001b[0m \u001b[0;34m\u001b[0m\u001b[0m\n",
      "\u001b[0;32m~/opt/anaconda3/lib/python3.9/site-packages/joblib/parallel.py\u001b[0m in \u001b[0;36mdispatch_one_batch\u001b[0;34m(self, iterator)\u001b[0m\n\u001b[1;32m    859\u001b[0m                 \u001b[0;32mreturn\u001b[0m \u001b[0;32mFalse\u001b[0m\u001b[0;34m\u001b[0m\u001b[0;34m\u001b[0m\u001b[0m\n\u001b[1;32m    860\u001b[0m             \u001b[0;32melse\u001b[0m\u001b[0;34m:\u001b[0m\u001b[0;34m\u001b[0m\u001b[0;34m\u001b[0m\u001b[0m\n\u001b[0;32m--> 861\u001b[0;31m                 \u001b[0mself\u001b[0m\u001b[0;34m.\u001b[0m\u001b[0m_dispatch\u001b[0m\u001b[0;34m(\u001b[0m\u001b[0mtasks\u001b[0m\u001b[0;34m)\u001b[0m\u001b[0;34m\u001b[0m\u001b[0;34m\u001b[0m\u001b[0m\n\u001b[0m\u001b[1;32m    862\u001b[0m                 \u001b[0;32mreturn\u001b[0m \u001b[0;32mTrue\u001b[0m\u001b[0;34m\u001b[0m\u001b[0;34m\u001b[0m\u001b[0m\n\u001b[1;32m    863\u001b[0m \u001b[0;34m\u001b[0m\u001b[0m\n",
      "\u001b[0;32m~/opt/anaconda3/lib/python3.9/site-packages/joblib/parallel.py\u001b[0m in \u001b[0;36m_dispatch\u001b[0;34m(self, batch)\u001b[0m\n\u001b[1;32m    777\u001b[0m         \u001b[0;32mwith\u001b[0m \u001b[0mself\u001b[0m\u001b[0;34m.\u001b[0m\u001b[0m_lock\u001b[0m\u001b[0;34m:\u001b[0m\u001b[0;34m\u001b[0m\u001b[0;34m\u001b[0m\u001b[0m\n\u001b[1;32m    778\u001b[0m             \u001b[0mjob_idx\u001b[0m \u001b[0;34m=\u001b[0m \u001b[0mlen\u001b[0m\u001b[0;34m(\u001b[0m\u001b[0mself\u001b[0m\u001b[0;34m.\u001b[0m\u001b[0m_jobs\u001b[0m\u001b[0;34m)\u001b[0m\u001b[0;34m\u001b[0m\u001b[0;34m\u001b[0m\u001b[0m\n\u001b[0;32m--> 779\u001b[0;31m             \u001b[0mjob\u001b[0m \u001b[0;34m=\u001b[0m \u001b[0mself\u001b[0m\u001b[0;34m.\u001b[0m\u001b[0m_backend\u001b[0m\u001b[0;34m.\u001b[0m\u001b[0mapply_async\u001b[0m\u001b[0;34m(\u001b[0m\u001b[0mbatch\u001b[0m\u001b[0;34m,\u001b[0m \u001b[0mcallback\u001b[0m\u001b[0;34m=\u001b[0m\u001b[0mcb\u001b[0m\u001b[0;34m)\u001b[0m\u001b[0;34m\u001b[0m\u001b[0;34m\u001b[0m\u001b[0m\n\u001b[0m\u001b[1;32m    780\u001b[0m             \u001b[0;31m# A job can complete so quickly than its callback is\u001b[0m\u001b[0;34m\u001b[0m\u001b[0;34m\u001b[0m\u001b[0m\n\u001b[1;32m    781\u001b[0m             \u001b[0;31m# called before we get here, causing self._jobs to\u001b[0m\u001b[0;34m\u001b[0m\u001b[0;34m\u001b[0m\u001b[0m\n",
      "\u001b[0;32m~/opt/anaconda3/lib/python3.9/site-packages/joblib/_parallel_backends.py\u001b[0m in \u001b[0;36mapply_async\u001b[0;34m(self, func, callback)\u001b[0m\n\u001b[1;32m    206\u001b[0m     \u001b[0;32mdef\u001b[0m \u001b[0mapply_async\u001b[0m\u001b[0;34m(\u001b[0m\u001b[0mself\u001b[0m\u001b[0;34m,\u001b[0m \u001b[0mfunc\u001b[0m\u001b[0;34m,\u001b[0m \u001b[0mcallback\u001b[0m\u001b[0;34m=\u001b[0m\u001b[0;32mNone\u001b[0m\u001b[0;34m)\u001b[0m\u001b[0;34m:\u001b[0m\u001b[0;34m\u001b[0m\u001b[0;34m\u001b[0m\u001b[0m\n\u001b[1;32m    207\u001b[0m         \u001b[0;34m\"\"\"Schedule a func to be run\"\"\"\u001b[0m\u001b[0;34m\u001b[0m\u001b[0;34m\u001b[0m\u001b[0m\n\u001b[0;32m--> 208\u001b[0;31m         \u001b[0mresult\u001b[0m \u001b[0;34m=\u001b[0m \u001b[0mImmediateResult\u001b[0m\u001b[0;34m(\u001b[0m\u001b[0mfunc\u001b[0m\u001b[0;34m)\u001b[0m\u001b[0;34m\u001b[0m\u001b[0;34m\u001b[0m\u001b[0m\n\u001b[0m\u001b[1;32m    209\u001b[0m         \u001b[0;32mif\u001b[0m \u001b[0mcallback\u001b[0m\u001b[0;34m:\u001b[0m\u001b[0;34m\u001b[0m\u001b[0;34m\u001b[0m\u001b[0m\n\u001b[1;32m    210\u001b[0m             \u001b[0mcallback\u001b[0m\u001b[0;34m(\u001b[0m\u001b[0mresult\u001b[0m\u001b[0;34m)\u001b[0m\u001b[0;34m\u001b[0m\u001b[0;34m\u001b[0m\u001b[0m\n",
      "\u001b[0;32m~/opt/anaconda3/lib/python3.9/site-packages/joblib/_parallel_backends.py\u001b[0m in \u001b[0;36m__init__\u001b[0;34m(self, batch)\u001b[0m\n\u001b[1;32m    570\u001b[0m         \u001b[0;31m# Don't delay the application, to avoid keeping the input\u001b[0m\u001b[0;34m\u001b[0m\u001b[0;34m\u001b[0m\u001b[0m\n\u001b[1;32m    571\u001b[0m         \u001b[0;31m# arguments in memory\u001b[0m\u001b[0;34m\u001b[0m\u001b[0;34m\u001b[0m\u001b[0m\n\u001b[0;32m--> 572\u001b[0;31m         \u001b[0mself\u001b[0m\u001b[0;34m.\u001b[0m\u001b[0mresults\u001b[0m \u001b[0;34m=\u001b[0m \u001b[0mbatch\u001b[0m\u001b[0;34m(\u001b[0m\u001b[0;34m)\u001b[0m\u001b[0;34m\u001b[0m\u001b[0;34m\u001b[0m\u001b[0m\n\u001b[0m\u001b[1;32m    573\u001b[0m \u001b[0;34m\u001b[0m\u001b[0m\n\u001b[1;32m    574\u001b[0m     \u001b[0;32mdef\u001b[0m \u001b[0mget\u001b[0m\u001b[0;34m(\u001b[0m\u001b[0mself\u001b[0m\u001b[0;34m)\u001b[0m\u001b[0;34m:\u001b[0m\u001b[0;34m\u001b[0m\u001b[0;34m\u001b[0m\u001b[0m\n",
      "\u001b[0;32m~/opt/anaconda3/lib/python3.9/site-packages/joblib/parallel.py\u001b[0m in \u001b[0;36m__call__\u001b[0;34m(self)\u001b[0m\n\u001b[1;32m    260\u001b[0m         \u001b[0;31m# change the default number of processes to -1\u001b[0m\u001b[0;34m\u001b[0m\u001b[0;34m\u001b[0m\u001b[0m\n\u001b[1;32m    261\u001b[0m         \u001b[0;32mwith\u001b[0m \u001b[0mparallel_backend\u001b[0m\u001b[0;34m(\u001b[0m\u001b[0mself\u001b[0m\u001b[0;34m.\u001b[0m\u001b[0m_backend\u001b[0m\u001b[0;34m,\u001b[0m \u001b[0mn_jobs\u001b[0m\u001b[0;34m=\u001b[0m\u001b[0mself\u001b[0m\u001b[0;34m.\u001b[0m\u001b[0m_n_jobs\u001b[0m\u001b[0;34m)\u001b[0m\u001b[0;34m:\u001b[0m\u001b[0;34m\u001b[0m\u001b[0;34m\u001b[0m\u001b[0m\n\u001b[0;32m--> 262\u001b[0;31m             return [func(*args, **kwargs)\n\u001b[0m\u001b[1;32m    263\u001b[0m                     for func, args, kwargs in self.items]\n\u001b[1;32m    264\u001b[0m \u001b[0;34m\u001b[0m\u001b[0m\n",
      "\u001b[0;32m~/opt/anaconda3/lib/python3.9/site-packages/joblib/parallel.py\u001b[0m in \u001b[0;36m<listcomp>\u001b[0;34m(.0)\u001b[0m\n\u001b[1;32m    260\u001b[0m         \u001b[0;31m# change the default number of processes to -1\u001b[0m\u001b[0;34m\u001b[0m\u001b[0;34m\u001b[0m\u001b[0m\n\u001b[1;32m    261\u001b[0m         \u001b[0;32mwith\u001b[0m \u001b[0mparallel_backend\u001b[0m\u001b[0;34m(\u001b[0m\u001b[0mself\u001b[0m\u001b[0;34m.\u001b[0m\u001b[0m_backend\u001b[0m\u001b[0;34m,\u001b[0m \u001b[0mn_jobs\u001b[0m\u001b[0;34m=\u001b[0m\u001b[0mself\u001b[0m\u001b[0;34m.\u001b[0m\u001b[0m_n_jobs\u001b[0m\u001b[0;34m)\u001b[0m\u001b[0;34m:\u001b[0m\u001b[0;34m\u001b[0m\u001b[0;34m\u001b[0m\u001b[0m\n\u001b[0;32m--> 262\u001b[0;31m             return [func(*args, **kwargs)\n\u001b[0m\u001b[1;32m    263\u001b[0m                     for func, args, kwargs in self.items]\n\u001b[1;32m    264\u001b[0m \u001b[0;34m\u001b[0m\u001b[0m\n",
      "\u001b[0;32m~/opt/anaconda3/lib/python3.9/site-packages/sklearn/utils/fixes.py\u001b[0m in \u001b[0;36m__call__\u001b[0;34m(self, *args, **kwargs)\u001b[0m\n\u001b[1;32m    214\u001b[0m     \u001b[0;32mdef\u001b[0m \u001b[0m__call__\u001b[0m\u001b[0;34m(\u001b[0m\u001b[0mself\u001b[0m\u001b[0;34m,\u001b[0m \u001b[0;34m*\u001b[0m\u001b[0margs\u001b[0m\u001b[0;34m,\u001b[0m \u001b[0;34m**\u001b[0m\u001b[0mkwargs\u001b[0m\u001b[0;34m)\u001b[0m\u001b[0;34m:\u001b[0m\u001b[0;34m\u001b[0m\u001b[0;34m\u001b[0m\u001b[0m\n\u001b[1;32m    215\u001b[0m         \u001b[0;32mwith\u001b[0m \u001b[0mconfig_context\u001b[0m\u001b[0;34m(\u001b[0m\u001b[0;34m**\u001b[0m\u001b[0mself\u001b[0m\u001b[0;34m.\u001b[0m\u001b[0mconfig\u001b[0m\u001b[0;34m)\u001b[0m\u001b[0;34m:\u001b[0m\u001b[0;34m\u001b[0m\u001b[0;34m\u001b[0m\u001b[0m\n\u001b[0;32m--> 216\u001b[0;31m             \u001b[0;32mreturn\u001b[0m \u001b[0mself\u001b[0m\u001b[0;34m.\u001b[0m\u001b[0mfunction\u001b[0m\u001b[0;34m(\u001b[0m\u001b[0;34m*\u001b[0m\u001b[0margs\u001b[0m\u001b[0;34m,\u001b[0m \u001b[0;34m**\u001b[0m\u001b[0mkwargs\u001b[0m\u001b[0;34m)\u001b[0m\u001b[0;34m\u001b[0m\u001b[0;34m\u001b[0m\u001b[0m\n\u001b[0m\u001b[1;32m    217\u001b[0m \u001b[0;34m\u001b[0m\u001b[0m\n\u001b[1;32m    218\u001b[0m \u001b[0;34m\u001b[0m\u001b[0m\n",
      "\u001b[0;32m~/opt/anaconda3/lib/python3.9/site-packages/sklearn/model_selection/_validation.py\u001b[0m in \u001b[0;36m_fit_and_score\u001b[0;34m(estimator, X, y, scorer, train, test, verbose, parameters, fit_params, return_train_score, return_parameters, return_n_test_samples, return_times, return_estimator, split_progress, candidate_progress, error_score)\u001b[0m\n\u001b[1;32m    678\u001b[0m             \u001b[0mestimator\u001b[0m\u001b[0;34m.\u001b[0m\u001b[0mfit\u001b[0m\u001b[0;34m(\u001b[0m\u001b[0mX_train\u001b[0m\u001b[0;34m,\u001b[0m \u001b[0;34m**\u001b[0m\u001b[0mfit_params\u001b[0m\u001b[0;34m)\u001b[0m\u001b[0;34m\u001b[0m\u001b[0;34m\u001b[0m\u001b[0m\n\u001b[1;32m    679\u001b[0m         \u001b[0;32melse\u001b[0m\u001b[0;34m:\u001b[0m\u001b[0;34m\u001b[0m\u001b[0;34m\u001b[0m\u001b[0m\n\u001b[0;32m--> 680\u001b[0;31m             \u001b[0mestimator\u001b[0m\u001b[0;34m.\u001b[0m\u001b[0mfit\u001b[0m\u001b[0;34m(\u001b[0m\u001b[0mX_train\u001b[0m\u001b[0;34m,\u001b[0m \u001b[0my_train\u001b[0m\u001b[0;34m,\u001b[0m \u001b[0;34m**\u001b[0m\u001b[0mfit_params\u001b[0m\u001b[0;34m)\u001b[0m\u001b[0;34m\u001b[0m\u001b[0;34m\u001b[0m\u001b[0m\n\u001b[0m\u001b[1;32m    681\u001b[0m \u001b[0;34m\u001b[0m\u001b[0m\n\u001b[1;32m    682\u001b[0m     \u001b[0;32mexcept\u001b[0m \u001b[0mException\u001b[0m\u001b[0;34m:\u001b[0m\u001b[0;34m\u001b[0m\u001b[0;34m\u001b[0m\u001b[0m\n",
      "\u001b[0;32m~/opt/anaconda3/lib/python3.9/site-packages/xgboost/core.py\u001b[0m in \u001b[0;36minner_f\u001b[0;34m(*args, **kwargs)\u001b[0m\n\u001b[1;32m    618\u001b[0m             \u001b[0;32mfor\u001b[0m \u001b[0mk\u001b[0m\u001b[0;34m,\u001b[0m \u001b[0marg\u001b[0m \u001b[0;32min\u001b[0m \u001b[0mzip\u001b[0m\u001b[0;34m(\u001b[0m\u001b[0msig\u001b[0m\u001b[0;34m.\u001b[0m\u001b[0mparameters\u001b[0m\u001b[0;34m,\u001b[0m \u001b[0margs\u001b[0m\u001b[0;34m)\u001b[0m\u001b[0;34m:\u001b[0m\u001b[0;34m\u001b[0m\u001b[0;34m\u001b[0m\u001b[0m\n\u001b[1;32m    619\u001b[0m                 \u001b[0mkwargs\u001b[0m\u001b[0;34m[\u001b[0m\u001b[0mk\u001b[0m\u001b[0;34m]\u001b[0m \u001b[0;34m=\u001b[0m \u001b[0marg\u001b[0m\u001b[0;34m\u001b[0m\u001b[0;34m\u001b[0m\u001b[0m\n\u001b[0;32m--> 620\u001b[0;31m             \u001b[0;32mreturn\u001b[0m \u001b[0mfunc\u001b[0m\u001b[0;34m(\u001b[0m\u001b[0;34m**\u001b[0m\u001b[0mkwargs\u001b[0m\u001b[0;34m)\u001b[0m\u001b[0;34m\u001b[0m\u001b[0;34m\u001b[0m\u001b[0m\n\u001b[0m\u001b[1;32m    621\u001b[0m \u001b[0;34m\u001b[0m\u001b[0m\n\u001b[1;32m    622\u001b[0m         \u001b[0;32mreturn\u001b[0m \u001b[0minner_f\u001b[0m\u001b[0;34m\u001b[0m\u001b[0;34m\u001b[0m\u001b[0m\n",
      "\u001b[0;32m~/opt/anaconda3/lib/python3.9/site-packages/xgboost/sklearn.py\u001b[0m in \u001b[0;36mfit\u001b[0;34m(self, X, y, sample_weight, base_margin, eval_set, eval_metric, early_stopping_rounds, verbose, xgb_model, sample_weight_eval_set, base_margin_eval_set, feature_weights, callbacks)\u001b[0m\n\u001b[1;32m   1488\u001b[0m             )\n\u001b[1;32m   1489\u001b[0m \u001b[0;34m\u001b[0m\u001b[0m\n\u001b[0;32m-> 1490\u001b[0;31m             self._Booster = train(\n\u001b[0m\u001b[1;32m   1491\u001b[0m                 \u001b[0mparams\u001b[0m\u001b[0;34m,\u001b[0m\u001b[0;34m\u001b[0m\u001b[0;34m\u001b[0m\u001b[0m\n\u001b[1;32m   1492\u001b[0m                 \u001b[0mtrain_dmatrix\u001b[0m\u001b[0;34m,\u001b[0m\u001b[0;34m\u001b[0m\u001b[0;34m\u001b[0m\u001b[0m\n",
      "\u001b[0;32m~/opt/anaconda3/lib/python3.9/site-packages/xgboost/core.py\u001b[0m in \u001b[0;36minner_f\u001b[0;34m(*args, **kwargs)\u001b[0m\n\u001b[1;32m    618\u001b[0m             \u001b[0;32mfor\u001b[0m \u001b[0mk\u001b[0m\u001b[0;34m,\u001b[0m \u001b[0marg\u001b[0m \u001b[0;32min\u001b[0m \u001b[0mzip\u001b[0m\u001b[0;34m(\u001b[0m\u001b[0msig\u001b[0m\u001b[0;34m.\u001b[0m\u001b[0mparameters\u001b[0m\u001b[0;34m,\u001b[0m \u001b[0margs\u001b[0m\u001b[0;34m)\u001b[0m\u001b[0;34m:\u001b[0m\u001b[0;34m\u001b[0m\u001b[0;34m\u001b[0m\u001b[0m\n\u001b[1;32m    619\u001b[0m                 \u001b[0mkwargs\u001b[0m\u001b[0;34m[\u001b[0m\u001b[0mk\u001b[0m\u001b[0;34m]\u001b[0m \u001b[0;34m=\u001b[0m \u001b[0marg\u001b[0m\u001b[0;34m\u001b[0m\u001b[0;34m\u001b[0m\u001b[0m\n\u001b[0;32m--> 620\u001b[0;31m             \u001b[0;32mreturn\u001b[0m \u001b[0mfunc\u001b[0m\u001b[0;34m(\u001b[0m\u001b[0;34m**\u001b[0m\u001b[0mkwargs\u001b[0m\u001b[0;34m)\u001b[0m\u001b[0;34m\u001b[0m\u001b[0;34m\u001b[0m\u001b[0m\n\u001b[0m\u001b[1;32m    621\u001b[0m \u001b[0;34m\u001b[0m\u001b[0m\n\u001b[1;32m    622\u001b[0m         \u001b[0;32mreturn\u001b[0m \u001b[0minner_f\u001b[0m\u001b[0;34m\u001b[0m\u001b[0;34m\u001b[0m\u001b[0m\n",
      "\u001b[0;32m~/opt/anaconda3/lib/python3.9/site-packages/xgboost/training.py\u001b[0m in \u001b[0;36mtrain\u001b[0;34m(params, dtrain, num_boost_round, evals, obj, feval, maximize, early_stopping_rounds, evals_result, verbose_eval, xgb_model, callbacks, custom_metric)\u001b[0m\n\u001b[1;32m    183\u001b[0m         \u001b[0;32mif\u001b[0m \u001b[0mcb_container\u001b[0m\u001b[0;34m.\u001b[0m\u001b[0mbefore_iteration\u001b[0m\u001b[0;34m(\u001b[0m\u001b[0mbst\u001b[0m\u001b[0;34m,\u001b[0m \u001b[0mi\u001b[0m\u001b[0;34m,\u001b[0m \u001b[0mdtrain\u001b[0m\u001b[0;34m,\u001b[0m \u001b[0mevals\u001b[0m\u001b[0;34m)\u001b[0m\u001b[0;34m:\u001b[0m\u001b[0;34m\u001b[0m\u001b[0;34m\u001b[0m\u001b[0m\n\u001b[1;32m    184\u001b[0m             \u001b[0;32mbreak\u001b[0m\u001b[0;34m\u001b[0m\u001b[0;34m\u001b[0m\u001b[0m\n\u001b[0;32m--> 185\u001b[0;31m         \u001b[0mbst\u001b[0m\u001b[0;34m.\u001b[0m\u001b[0mupdate\u001b[0m\u001b[0;34m(\u001b[0m\u001b[0mdtrain\u001b[0m\u001b[0;34m,\u001b[0m \u001b[0mi\u001b[0m\u001b[0;34m,\u001b[0m \u001b[0mobj\u001b[0m\u001b[0;34m)\u001b[0m\u001b[0;34m\u001b[0m\u001b[0;34m\u001b[0m\u001b[0m\n\u001b[0m\u001b[1;32m    186\u001b[0m         \u001b[0;32mif\u001b[0m \u001b[0mcb_container\u001b[0m\u001b[0;34m.\u001b[0m\u001b[0mafter_iteration\u001b[0m\u001b[0;34m(\u001b[0m\u001b[0mbst\u001b[0m\u001b[0;34m,\u001b[0m \u001b[0mi\u001b[0m\u001b[0;34m,\u001b[0m \u001b[0mdtrain\u001b[0m\u001b[0;34m,\u001b[0m \u001b[0mevals\u001b[0m\u001b[0;34m)\u001b[0m\u001b[0;34m:\u001b[0m\u001b[0;34m\u001b[0m\u001b[0;34m\u001b[0m\u001b[0m\n\u001b[1;32m    187\u001b[0m             \u001b[0;32mbreak\u001b[0m\u001b[0;34m\u001b[0m\u001b[0;34m\u001b[0m\u001b[0m\n",
      "\u001b[0;32m~/opt/anaconda3/lib/python3.9/site-packages/xgboost/core.py\u001b[0m in \u001b[0;36mupdate\u001b[0;34m(self, dtrain, iteration, fobj)\u001b[0m\n\u001b[1;32m   1916\u001b[0m \u001b[0;34m\u001b[0m\u001b[0m\n\u001b[1;32m   1917\u001b[0m         \u001b[0;32mif\u001b[0m \u001b[0mfobj\u001b[0m \u001b[0;32mis\u001b[0m \u001b[0;32mNone\u001b[0m\u001b[0;34m:\u001b[0m\u001b[0;34m\u001b[0m\u001b[0;34m\u001b[0m\u001b[0m\n\u001b[0;32m-> 1918\u001b[0;31m             _check_call(_LIB.XGBoosterUpdateOneIter(self.handle,\n\u001b[0m\u001b[1;32m   1919\u001b[0m                                                     \u001b[0mctypes\u001b[0m\u001b[0;34m.\u001b[0m\u001b[0mc_int\u001b[0m\u001b[0;34m(\u001b[0m\u001b[0miteration\u001b[0m\u001b[0;34m)\u001b[0m\u001b[0;34m,\u001b[0m\u001b[0;34m\u001b[0m\u001b[0;34m\u001b[0m\u001b[0m\n\u001b[1;32m   1920\u001b[0m                                                     dtrain.handle))\n",
      "\u001b[0;31mKeyboardInterrupt\u001b[0m: "
     ]
    }
   ],
   "source": [
    "import pandas as pd\n",
    "from sklearn.model_selection import cross_val_predict, cross_val_score, StratifiedKFold, GridSearchCV\n",
    "from sklearn.preprocessing import OneHotEncoder\n",
    "from xgboost import XGBClassifier\n",
    "from sklearn.metrics import log_loss\n",
    "\n",
    "categorical_features = ['Shot_Part', 'role']\n",
    "Shots_model[categorical_features] = Shots_model[categorical_features].astype('category')\n",
    "X = Shots_model[['Y_position_centred', 'X_position', 'distance', 'angle','Shot_Part', 'age', 'role']]  \n",
    "y = Shots_model['is_Goal']  \n",
    "encoder = OneHotEncoder(drop='first', sparse=False, handle_unknown='ignore')\n",
    "X_encoded = encoder.fit_transform(X[categorical_features])\n",
    "encoded_feature_names = encoder.get_feature_names_out(input_features=categorical_features)\n",
    "X_encoded_df = pd.DataFrame(X_encoded, columns=encoded_feature_names)\n",
    "X_final = pd.concat([X.drop(columns=categorical_features), X_encoded_df], axis=1)\n",
    "model = XGBClassifier()\n",
    "param_grid = {\n",
    "    'max_depth': [3, 4, 5],\n",
    "    'min_child_weight': [1, 2, 3],\n",
    "    'gamma': [0.1, 0.2, 0.3],\n",
    "    'subsample': [0.8, 0.9, 1.0],\n",
    "    'colsample_bytree': [0.8, 0.9, 1.0]\n",
    "}\n",
    "grid_search = GridSearchCV(model, param_grid, cv=5, scoring='neg_log_loss')\n",
    "grid_search.fit(X_final, y)\n",
    "print(\"Best Parameters:\", grid_search.best_params_)\n",
    "print(\"Best Cross-validation Log Loss:\", -grid_search.best_score_)\n"
   ]
  },
  {
   "cell_type": "code",
   "execution_count": null,
   "metadata": {},
   "outputs": [],
   "source": [
    "categorical_features = ['matchPeriod', 'Shot_Part', 'role', 'side']\n",
    "Shots_model[categorical_features] = Shots_model[categorical_features].astype('category')\n",
    "X = Shots_model.drop('is_Goal', axis=1) \n",
    "y = Shots_model['is_Goal'] \n",
    "encoder = OneHotEncoder(drop='first', sparse=False, handle_unknown='ignore')\n",
    "X_encoded = encoder.fit_transform(X[categorical_features])\n",
    "encoded_feature_names = encoder.get_feature_names_out(input_features=categorical_features)\n",
    "X_encoded_df = pd.DataFrame(X_encoded, columns=encoded_feature_names)\n",
    "X_final = pd.concat([X.drop(columns=categorical_features), X_encoded_df], axis=1)\n",
    "model = XGBClassifier()\n",
    "cv_scores = cross_val_score(model, X_final, y, cv=5, scoring='accuracy')\n",
    "train_logloss_scores = []\n",
    "test_logloss_scores = []\n",
    "for train_idx, test_idx in StratifiedKFold(n_splits=5, shuffle=True, random_state=42).split(X_final, y):\n",
    "    X_train, X_test = X_final.iloc[train_idx], X_final.iloc[test_idx]\n",
    "    y_train, y_test = y.iloc[train_idx], y.iloc[test_idx]\n",
    "    model.fit(X_train, y_train)\n",
    "    y_train_pred_prob = model.predict_proba(X_train)\n",
    "    y_test_pred_prob = model.predict_proba(X_test)\n",
    "    \n",
    "    train_logloss = log_loss(y_train, y_train_pred_prob)\n",
    "    test_logloss = log_loss(y_test, y_test_pred_prob)\n",
    "    \n",
    "    train_logloss_scores.append(train_logloss)\n",
    "    test_logloss_scores.append(test_logloss)\n",
    "\n",
    "print(\"XGBoost Cross-validation accuracy scores:\", cv_scores)\n",
    "print(\"XGBoost Mean accuracy:\", cv_scores.mean())\n",
    "\n",
    "print(\"XGBoost Train log loss scores:\", train_logloss_scores)\n",
    "print(\"XGBoost Mean Train log loss:\", sum(train_logloss_scores) / len(train_logloss_scores))\n",
    "\n",
    "print(\"XGBoost Test log loss scores:\", test_logloss_scores)\n",
    "print(\"XGBoost Mean Test log loss:\", sum(test_logloss_scores) / len(test_logloss_scores))\n"
   ]
  },
  {
   "cell_type": "code",
   "execution_count": null,
   "metadata": {},
   "outputs": [],
   "source": [
    "import pandas as pd\n",
    "from sklearn.model_selection import cross_val_score, StratifiedKFold\n",
    "from sklearn.preprocessing import OneHotEncoder\n",
    "from xgboost import XGBClassifier\n",
    "from sklearn.metrics import log_loss\n",
    "\n",
    "# 假设 Shots_model 是您的数据集\n",
    "\n",
    "# 将 object 类型的特征转换为 category\n",
    "categorical_features = ['matchPeriod', 'Shot_Part', 'role', 'side']\n",
    "Shots_model[categorical_features] = Shots_model[categorical_features].astype('category')\n",
    "\n",
    "# 准备数据和标签\n",
    "X = Shots_model.drop('is_Goal', axis=1)  # 特征\n",
    "y = Shots_model['is_Goal']  # 标签\n",
    "\n",
    "# 对分类特征进行独热编码\n",
    "encoder = OneHotEncoder(drop='first', sparse=False, handle_unknown='ignore')\n",
    "X_encoded = encoder.fit_transform(X[categorical_features])\n",
    "\n",
    "# 获取编码后的特征名称\n",
    "encoded_feature_names = encoder.get_feature_names_out(input_features=categorical_features)\n",
    "\n",
    "# 将编码后的特征名称添加到 X_encoded 的 DataFrame 中\n",
    "X_encoded_df = pd.DataFrame(X_encoded, columns=encoded_feature_names)\n",
    "\n",
    "# 合并编码后的特征和其他特征\n",
    "X_final = pd.concat([X.drop(columns=categorical_features), X_encoded_df], axis=1)\n",
    "\n",
    "# 创建XGBoost模型\n",
    "model = XGBClassifier()\n",
    "\n",
    "# 定义超参数搜索空间\n",
    "param_grid = {\n",
    "    'max_depth': [3, 4, 5],\n",
    "    'min_child_weight': [1, 2, 3],\n",
    "    'gamma': [0.1, 0.2, 0.3],\n",
    "    'subsample': [0.8, 0.9, 1.0],\n",
    "    'colsample_bytree': [0.8, 0.9, 1.0]\n",
    "}\n",
    "\n",
    "# 使用网格搜索交叉验证评估XGBoost模型\n",
    "grid_search = GridSearchCV(model, param_grid, cv=5, scoring='neg_log_loss')\n",
    "grid_search.fit(X_final, y)\n",
    "\n",
    "# 输出最佳参数和最佳交叉验证分数\n",
    "print(\"Best Parameters:\", grid_search.best_params_)\n",
    "print(\"Best Cross-validation Log Loss:\", -grid_search.best_score_)\n",
    "\n"
   ]
  },
  {
   "cell_type": "code",
   "execution_count": 82,
   "metadata": {},
   "outputs": [
    {
     "name": "stdout",
     "output_type": "stream",
     "text": [
      "      matchPeriod     eventSec   distance       angle    Shot_Part   age  \\\n",
      "0              1H    94.595788  14.007655   33.383357  Strong Foot  26.0   \n",
      "1              1H   179.854785  15.808608   38.911535  Strong Foot  26.0   \n",
      "2              1H   254.745027   4.414703  101.767186    Head/body  31.0   \n",
      "3              1H   425.824035  23.057235   18.228723    Weak Foot  23.0   \n",
      "4              1H   815.462015  29.563872   15.119733  Strong Foot  23.0   \n",
      "...           ...          ...        ...         ...          ...   ...   \n",
      "40453          2H  2369.402969  21.275923   11.058511  Strong Foot  17.0   \n",
      "40454          2H  2411.702771  11.550000   52.145452  Strong Foot  24.0   \n",
      "40455          2H  2506.631437  11.258637   36.064839    Weak Foot  31.0   \n",
      "40456          2H  2508.341627   5.250000   94.218179  Strong Foot  21.0   \n",
      "40457          2H  2821.203869  17.040026   20.975259    Weak Foot  18.0   \n",
      "\n",
      "             role  gameweek  side  Y_position_centred  X_position  \n",
      "0         Forward         1  Home                6.12       92.40  \n",
      "1      Midfielder         1  Away                1.36       89.25  \n",
      "2         Forward         1  Away                1.36      100.80  \n",
      "3      Midfielder         1  Home               11.56       85.05  \n",
      "4      Midfielder         1  Home               13.60       78.75  \n",
      "...           ...       ...   ...                 ...         ...  \n",
      "40453     Forward        38  Home               16.32       91.35  \n",
      "40454     Forward        38  Home                0.00       93.45  \n",
      "40455     Forward        38  Away                6.12       95.55  \n",
      "40456  Midfielder        38  Away                0.00       99.75  \n",
      "40457     Forward        38  Away               10.20       91.35  \n",
      "\n",
      "[40458 rows x 11 columns]\n",
      "[[1. 0. 0. ... 0. 0. 1.]\n",
      " [1. 0. 0. ... 1. 1. 0.]\n",
      " [1. 0. 1. ... 0. 1. 0.]\n",
      " ...\n",
      " [0. 1. 0. ... 0. 1. 0.]\n",
      " [0. 1. 0. ... 1. 1. 0.]\n",
      " [0. 1. 0. ... 0. 1. 0.]]\n",
      "          eventSec   distance       angle   age  gameweek  Y_position_centred  \\\n",
      "0        94.595788  14.007655   33.383357  26.0         1                6.12   \n",
      "1       179.854785  15.808608   38.911535  26.0         1                1.36   \n",
      "2       254.745027   4.414703  101.767186  31.0         1                1.36   \n",
      "3       425.824035  23.057235   18.228723  23.0         1               11.56   \n",
      "4       815.462015  29.563872   15.119733  23.0         1               13.60   \n",
      "...            ...        ...         ...   ...       ...                 ...   \n",
      "40453  2369.402969  21.275923   11.058511  17.0        38               16.32   \n",
      "40454  2411.702771  11.550000   52.145452  24.0        38                0.00   \n",
      "40455  2506.631437  11.258637   36.064839  31.0        38                6.12   \n",
      "40456  2508.341627   5.250000   94.218179  21.0        38                0.00   \n",
      "40457  2821.203869  17.040026   20.975259  18.0        38               10.20   \n",
      "\n",
      "       X_position  matchPeriod_1H  matchPeriod_2H  Shot_Part_Head/body  \\\n",
      "0           92.40             1.0             0.0                  0.0   \n",
      "1           89.25             1.0             0.0                  0.0   \n",
      "2          100.80             1.0             0.0                  1.0   \n",
      "3           85.05             1.0             0.0                  0.0   \n",
      "4           78.75             1.0             0.0                  0.0   \n",
      "...           ...             ...             ...                  ...   \n",
      "40453       91.35             0.0             1.0                  0.0   \n",
      "40454       93.45             0.0             1.0                  0.0   \n",
      "40455       95.55             0.0             1.0                  0.0   \n",
      "40456       99.75             0.0             1.0                  0.0   \n",
      "40457       91.35             0.0             1.0                  0.0   \n",
      "\n",
      "       Shot_Part_Strong Foot  Shot_Part_Weak Foot  role_Defender  \\\n",
      "0                        1.0                  0.0            0.0   \n",
      "1                        1.0                  0.0            0.0   \n",
      "2                        0.0                  0.0            0.0   \n",
      "3                        0.0                  1.0            0.0   \n",
      "4                        1.0                  0.0            0.0   \n",
      "...                      ...                  ...            ...   \n",
      "40453                    1.0                  0.0            0.0   \n",
      "40454                    1.0                  0.0            0.0   \n",
      "40455                    0.0                  1.0            0.0   \n",
      "40456                    1.0                  0.0            0.0   \n",
      "40457                    0.0                  1.0            0.0   \n",
      "\n",
      "       role_Forward  role_Goalkeeper  role_Midfielder  side_Away  side_Home  \n",
      "0               1.0              0.0              0.0        0.0        1.0  \n",
      "1               0.0              0.0              1.0        1.0        0.0  \n",
      "2               1.0              0.0              0.0        1.0        0.0  \n",
      "3               0.0              0.0              1.0        0.0        1.0  \n",
      "4               0.0              0.0              1.0        0.0        1.0  \n",
      "...             ...              ...              ...        ...        ...  \n",
      "40453           1.0              0.0              0.0        0.0        1.0  \n",
      "40454           1.0              0.0              0.0        0.0        1.0  \n",
      "40455           1.0              0.0              0.0        1.0        0.0  \n",
      "40456           0.0              0.0              1.0        1.0        0.0  \n",
      "40457           1.0              0.0              0.0        1.0        0.0  \n",
      "\n",
      "[40458 rows x 18 columns]\n"
     ]
    }
   ],
   "source": [
    "\n",
    "categorical_features = ['matchPeriod', 'Shot_Part', 'role', 'side']\n",
    "encoder = OneHotEncoder(sparse=False)\n",
    "X_encoded = encoder.fit_transform(X[categorical_features])\n",
    "encoded_feature_names = encoder.get_feature_names_out(categorical_features)\n",
    "X_encoded_df = pd.DataFrame(X_encoded, columns=encoded_feature_names)\n",
    "X_final = pd.concat([X.drop(columns=categorical_features), X_encoded_df], axis=1)\n",
    "print(X)\n",
    "print(X_encoded)\n",
    "print(X_final)"
   ]
  },
  {
   "cell_type": "code",
   "execution_count": 83,
   "metadata": {},
   "outputs": [
    {
     "name": "stderr",
     "output_type": "stream",
     "text": [
      "Using `tqdm.autonotebook.tqdm` in notebook mode. Use `tqdm.tqdm` instead to force console mode (e.g. in jupyter console)\n"
     ]
    },
    {
     "data": {
      "image/png": "[encoded data removed]",
      "text/plain": [
       "<Figure size 800x870 with 2 Axes>"
      ]
     },
     "metadata": {},
     "output_type": "display_data"
    }
   ],
   "source": []
  },
  {
   "cell_type": "code",
   "execution_count": 86,
   "metadata": {},
   "outputs": [
    {
     "ename": "NameError",
     "evalue": "name 'xgboost' is not defined",
     "output_type": "error",
     "traceback": [
      "\u001b[0;31m---------------------------------------------------------------------------\u001b[0m",
      "\u001b[0;31mNameError\u001b[0m                                 Traceback (most recent call last)",
      "\u001b[0;32m/var/folders/pr/kgbxztp54bqfjc18cw0q_wdc0000gn/T/ipykernel_59617/1380462270.py\u001b[0m in \u001b[0;36m<module>\u001b[0;34m\u001b[0m\n\u001b[0;32m----> 1\u001b[0;31m \u001b[0mdtrain\u001b[0m \u001b[0;34m=\u001b[0m \u001b[0mxgboost\u001b[0m\u001b[0;34m.\u001b[0m\u001b[0mDMatrix\u001b[0m\u001b[0;34m(\u001b[0m\u001b[0mX_final\u001b[0m\u001b[0;34m,\u001b[0m \u001b[0mlabel\u001b[0m\u001b[0;34m=\u001b[0m\u001b[0my\u001b[0m\u001b[0;34m)\u001b[0m\u001b[0;34m\u001b[0m\u001b[0;34m\u001b[0m\u001b[0m\n\u001b[0m\u001b[1;32m      2\u001b[0m \u001b[0mparams\u001b[0m \u001b[0;34m=\u001b[0m \u001b[0;34m{\u001b[0m\u001b[0;34m\"objective\"\u001b[0m\u001b[0;34m:\u001b[0m \u001b[0;34m\"binary:logistic\"\u001b[0m\u001b[0;34m}\u001b[0m\u001b[0;34m\u001b[0m\u001b[0;34m\u001b[0m\u001b[0m\n\u001b[1;32m      3\u001b[0m \u001b[0mmodel\u001b[0m \u001b[0;34m=\u001b[0m \u001b[0mxgboost\u001b[0m\u001b[0;34m.\u001b[0m\u001b[0mtrain\u001b[0m\u001b[0;34m(\u001b[0m\u001b[0mparams\u001b[0m\u001b[0;34m,\u001b[0m \u001b[0mdtrain\u001b[0m\u001b[0;34m)\u001b[0m\u001b[0;34m\u001b[0m\u001b[0;34m\u001b[0m\u001b[0m\n\u001b[1;32m      4\u001b[0m \u001b[0mexplainer\u001b[0m \u001b[0;34m=\u001b[0m \u001b[0mshap\u001b[0m\u001b[0;34m.\u001b[0m\u001b[0mExplainer\u001b[0m\u001b[0;34m(\u001b[0m\u001b[0mmodel\u001b[0m\u001b[0;34m,\u001b[0m \u001b[0mfeature_names\u001b[0m\u001b[0;34m=\u001b[0m\u001b[0mX_final\u001b[0m\u001b[0;34m.\u001b[0m\u001b[0mcolumns\u001b[0m\u001b[0;34m)\u001b[0m\u001b[0;34m\u001b[0m\u001b[0;34m\u001b[0m\u001b[0m\n\u001b[1;32m      5\u001b[0m \u001b[0mshap_values\u001b[0m \u001b[0;34m=\u001b[0m \u001b[0mexplainer\u001b[0m\u001b[0;34m.\u001b[0m\u001b[0mshap_values\u001b[0m\u001b[0;34m(\u001b[0m\u001b[0mX_final\u001b[0m\u001b[0;34m)\u001b[0m\u001b[0;34m\u001b[0m\u001b[0;34m\u001b[0m\u001b[0m\n",
      "\u001b[0;31mNameError\u001b[0m: name 'xgboost' is not defined"
     ]
    }
   ],
   "source": [
    "dtrain = xgboost.DMatrix(X_final, label=y)\n",
    "params = {\"objective\": \"binary:logistic\"}\n",
    "model = xgboost.train(params, dtrain)\n",
    "explainer = shap.Explainer(model, feature_names=X_final.columns)\n",
    "shap_values = explainer.shap_values(X_final)\n",
    "shap.summary_plot(shap_values, X_final)"
   ]
  },
  {
   "cell_type": "code",
   "execution_count": 85,
   "metadata": {},
   "outputs": [],
   "source": [
    "import xgboost as xgb"
   ]
  },
  {
   "cell_type": "code",
   "execution_count": null,
   "metadata": {},
   "outputs": [],
   "source": [
    "import matplotlib.pyplot as plt\n",
    "import xgboost as xgb\n",
    "\n",
    "# 创建XGBoost模型\n",
    "model = xgb.XGBClassifier()\n",
    "model.fit(X_final, y)\n",
    "\n",
    "# 获取特征重要性分数\n",
    "feature_importance = model.feature_importances_\n",
    "\n",
    "# 获取特征名称\n",
    "feature_names = X_final.columns\n",
    "\n",
    "# 将特征名称和重要性分数组合在一起，以便排序\n",
    "feature_importance_data = list(zip(feature_names, feature_importance))\n",
    "\n",
    "# 按照重要性分数降序排序\n",
    "feature_importance_data.sort(key=lambda x: x[1], reverse=True)\n",
    "\n",
    "# 提取排序后的特征名称和重要性分数\n",
    "sorted_feature_names = [x[0] for x in feature_importance_data]\n",
    "sorted_feature_importance = [x[1] for x in feature_importance_data]\n",
    "\n",
    "# 绘制条形图\n",
    "plt.figure(figsize=(10, 6))\n",
    "plt.barh(sorted_feature_names, sorted_feature_importance)\n",
    "plt.xlabel('Feature Importance')\n",
    "plt.ylabel('Feature')\n",
    "plt.title('Simplified Feature Importance')\n",
    "plt.show()\n"
   ]
  },
  {
   "cell_type": "markdown",
   "metadata": {},
   "source": [
    "## Support Vector Machine"
   ]
  },
  {
   "cell_type": "code",
   "execution_count": null,
   "metadata": {},
   "outputs": [],
   "source": [
    "import pandas as pd\n",
    "from sklearn.model_selection import cross_val_score, StratifiedKFold\n",
    "from sklearn.preprocessing import StandardScaler\n",
    "from sklearn.svm import SVC\n",
    "from sklearn.metrics import log_loss\n",
    "\n",
    "X = Shots_model[['Y_position_centred', 'X_position', 'distance', 'angle']] \n",
    "y = Shots_model['is_Goal'] \n",
    "scaler = StandardScaler()\n",
    "X_scaled = scaler.fit_transform(X)\n",
    "model = SVC(probability=True)  \n",
    "cv_scores = cross_val_score(model, X_scaled, y, cv=5, scoring='accuracy')\n",
    "y_pred_probabilities = cross_val_predict(model, X_scaled, y, cv=5, method='predict_proba')\n",
    "train_logloss_scores = []\n",
    "test_logloss_scores = []\n",
    "for train_idx, test_idx in StratifiedKFold(n_splits=5, shuffle=True, random_state=42).split(X_scaled, y):\n",
    "    X_train, X_test = X_scaled[train_idx], X_scaled[test_idx]\n",
    "    y_train, y_test = y[train_idx], y[test_idx]\n",
    "    model.fit(X_train, y_train)\n",
    "    y_train_pred_prob = model.predict_proba(X_train)\n",
    "    y_test_pred_prob = model.predict_proba(X_test)\n",
    "    \n",
    "    train_logloss = log_loss(y_train, y_train_pred_prob)\n",
    "    test_logloss = log_loss(y_test, y_test_pred_prob)\n",
    "    \n",
    "    train_logloss_scores.append(train_logloss)\n",
    "    test_logloss_scores.append(test_logloss)\n",
    "print(\"SVM Cross-validation accuracy scores:\", cv_scores)\n",
    "print(\"SVM Mean accuracy:\", cv_scores.mean())\n",
    "\n",
    "print(\"SVM Train log loss scores:\", train_logloss_scores)\n",
    "print(\"SVM Mean Train log loss:\", sum(train_logloss_scores) / len(train_logloss_scores))\n",
    "\n",
    "print(\"SVM Test log loss scores:\", test_logloss_scores)\n",
    "print(\"SVM Mean Test log loss:\", sum(test_logloss_scores) / len(test_logloss_scores))\n"
   ]
  },
  {
   "cell_type": "code",
   "execution_count": null,
   "metadata": {},
   "outputs": [],
   "source": [
    "categorical_features = ['Shot_Part', 'role']\n",
    "Shots_model[categorical_features] = Shots_model[categorical_features].astype('category')\n",
    "X = Shots_model[['Y_position_centred', 'X_position', 'distance', 'angle', 'Shot_Part', 'age', 'role']] \n",
    "y = Shots_model['is_Goal']\n",
    "encoder = OneHotEncoder(drop='first', sparse=False, handle_unknown='ignore')\n",
    "X_encoded = encoder.fit_transform(X[categorical_features])\n",
    "encoded_feature_names = encoder.get_feature_names_out(input_features=categorical_features)\n",
    "X_encoded_df = pd.DataFrame(X_encoded, columns=encoded_feature_names)\n",
    "X_final = pd.concat([X.drop(columns=categorical_features), X_encoded_df], axis=1)\n",
    "model = SVC(probability=True)\n",
    "cv_scores = cross_val_score(model, X_final, y, cv=5, scoring='accuracy')\n",
    "y_pred_probabilities = cross_val_predict(model, X_final, y, cv=5, method='predict_proba')\n",
    "train_logloss_scores = []\n",
    "test_logloss_scores = []\n",
    "for train_idx, test_idx in StratifiedKFold(n_splits=5, shuffle=True, random_state=42).split(X_final, y):\n",
    "    X_train, X_test = X_final.iloc[train_idx], X_final.iloc[test_idx]\n",
    "    y_train, y_test = y.iloc[train_idx], y.iloc[test_idx]\n",
    "    model.fit(X_train, y_train)\n",
    "    y_train_pred_prob = model.predict_proba(X_train)\n",
    "    y_test_pred_prob = model.predict_proba(X_test)\n",
    "    \n",
    "    train_logloss = log_loss(y_train, y_train_pred_prob)\n",
    "    test_logloss = log_loss(y_test, y_test_pred_prob)\n",
    "    \n",
    "    train_logloss_scores.append(train_logloss)\n",
    "    test_logloss_scores.append(test_logloss)\n",
    "\n",
    "print(\"SVM Cross-validation accuracy scores:\", cv_scores)\n",
    "print(\"SVM Mean accuracy:\", cv_scores.mean())\n",
    "\n",
    "print(\"SVM Train log loss scores:\", train_logloss_scores)\n",
    "print(\"SVM Mean Train log loss:\", sum(train_logloss_scores) / len(train_logloss_scores))\n",
    "\n",
    "print(\"SVM Test log loss scores:\", test_logloss_scores)\n",
    "print(\"SVM Mean Test log loss:\", sum(test_logloss_scores) / len(test_logloss_scores))\n"
   ]
  },
  {
   "cell_type": "code",
   "execution_count": null,
   "metadata": {},
   "outputs": [],
   "source": [
    "categorical_features = ['matchPeriod', 'Shot_Part', 'role', 'side']\n",
    "Shots_model[categorical_features] = Shots_model[categorical_features].astype('category')\n",
    "X = Shots_model.drop('is_Goal', axis=1)\n",
    "y = Shots_model['is_Goal']\n",
    "encoder = OneHotEncoder(drop='first', sparse=False, handle_unknown='ignore')\n",
    "X_encoded = encoder.fit_transform(X[categorical_features])\n",
    "encoded_feature_names = encoder.get_feature_names_out(input_features=categorical_features)\n",
    "X_encoded_df = pd.DataFrame(X_encoded, columns=encoded_feature_names)\n",
    "X_final = pd.concat([X.drop(columns=categorical_features), X_encoded_df], axis=1)\n",
    "model = SVC(probability=True)\n",
    "cv_scores = cross_val_score(model, X_final, y, cv=5, scoring='accuracy')\n",
    "train_logloss_scores = []\n",
    "test_logloss_scores = []\n",
    "for train_idx, test_idx in StratifiedKFold(n_splits=5, shuffle=True, random_state=42).split(X_final, y):\n",
    "    X_train, X_test = X_final.iloc[train_idx], X_final.iloc[test_idx]\n",
    "    y_train, y_test = y.iloc[train_idx], y.iloc[test_idx]\n",
    "    model.fit(X_train, y_train)\n",
    "    y_train_pred_prob = model.predict_proba(X_train)\n",
    "    y_test_pred_prob = model.predict_proba(X_test)\n",
    "    \n",
    "    train_logloss = log_loss(y_train, y_train_pred_prob)\n",
    "    test_logloss = log_loss(y_test, y_test_pred_prob)\n",
    "    \n",
    "    train_logloss_scores.append(train_logloss)\n",
    "    test_logloss_scores.append(test_logloss)\n",
    "print(\"SVM Cross-validation accuracy scores:\", cv_scores)\n",
    "print(\"SVM Mean accuracy:\", cv_scores.mean())\n",
    "\n",
    "print(\"SVM Train log loss scores:\", train_logloss_scores)\n",
    "print(\"SVM Mean Train log loss:\", sum(train_logloss_scores) / len(train_logloss_scores))\n",
    "\n",
    "print(\"SVM Test log loss scores:\", test_logloss_scores)\n",
    "print(\"SVM Mean Test log loss:\", sum(test_logloss_scores) / len(test_logloss_scores))\n"
   ]
  },
  {
   "cell_type": "markdown",
   "metadata": {},
   "source": [
    "## Random Forest"
   ]
  },
  {
   "cell_type": "code",
   "execution_count": null,
   "metadata": {},
   "outputs": [],
   "source": [
    "from sklearn.preprocessing import StandardScaler\n",
    "from sklearn.ensemble import RandomForestClassifier\n",
    "X = Shots_model[['Y_position_centred', 'X_position', 'distance', 'angle']] \n",
    "y = Shots_model['is_Goal']  \n",
    "scaler = StandardScaler()\n",
    "X_scaled = scaler.fit_transform(X)\n",
    "model = RandomForestClassifier(n_estimators=500, max_depth=10, min_samples_split=5, random_state=42)\n",
    "cv_scores = cross_val_score(model, X_scaled, y, cv=5, scoring='accuracy')\n",
    "y_pred_probabilities = cross_val_predict(model, X_scaled, y, cv=5, method='predict_proba')\n",
    "train_logloss_scores = []\n",
    "test_logloss_scores = []\n",
    "for train_idx, test_idx in StratifiedKFold(n_splits=5, shuffle=True, random_state=42).split(X_scaled, y):\n",
    "    X_train, X_test = X_scaled[train_idx], X_scaled[test_idx]\n",
    "    y_train, y_test = y[train_idx], y[test_idx]\n",
    "    model.fit(X_train, y_train)\n",
    "    y_train_pred_prob = model.predict_proba(X_train)\n",
    "    y_test_pred_prob = model.predict_proba(X_test)\n",
    "    \n",
    "    train_logloss = log_loss(y_train, y_train_pred_prob)\n",
    "    test_logloss = log_loss(y_test, y_test_pred_prob)\n",
    "    \n",
    "    train_logloss_scores.append(train_logloss)\n",
    "    test_logloss_scores.append(test_logloss)\n",
    "print(\"Random Forest Cross-validation accuracy scores:\", cv_scores)\n",
    "print(\"Random Forest Mean accuracy:\", cv_scores.mean())\n",
    "\n",
    "print(\"Random Forest Train log loss scores:\", train_logloss_scores)\n",
    "print(\"Random Forest Mean Train log loss:\", sum(train_logloss_scores) / len(train_logloss_scores))\n",
    "\n",
    "print(\"Random Forest Test log loss scores:\", test_logloss_scores)\n",
    "print(\"Random Forest Mean Test log loss:\", sum(test_logloss_scores) / len(test_logloss_scores))\n"
   ]
  },
  {
   "cell_type": "code",
   "execution_count": null,
   "metadata": {},
   "outputs": [],
   "source": [
    "categorical_features = ['Shot_Part', 'role']\n",
    "Shots_model[categorical_features] = Shots_model[categorical_features].astype('category')\n",
    "X = Shots_model[['Y_position_centred', 'X_position', 'distance', 'angle', 'Shot_Part', 'age', 'role']]\n",
    "y = Shots_model['is_Goal']\n",
    "encoder = OneHotEncoder(drop='first', sparse=False, handle_unknown='ignore')\n",
    "X_encoded = encoder.fit_transform(X[categorical_features])\n",
    "encoded_feature_names = encoder.get_feature_names_out(input_features=categorical_features)\n",
    "X_encoded_df = pd.DataFrame(X_encoded, columns=encoded_feature_names)\n",
    "X_final = pd.concat([X.drop(columns=categorical_features), X_encoded_df], axis=1)\n",
    "model = RandomForestClassifier(n_estimators=500, max_depth=10, min_samples_split=5, random_state=42)\n",
    "cv_scores = cross_val_score(model, X_final, y, cv=5, scoring='accuracy')\n",
    "y_pred_probabilities = cross_val_predict(model, X_final, y, cv=5, method='predict_proba')\n",
    "train_logloss_scores = []\n",
    "test_logloss_scores = []\n",
    "for train_idx, test_idx in StratifiedKFold(n_splits=5, shuffle=True, random_state=42).split(X_final, y):\n",
    "    X_train, X_test = X_final.iloc[train_idx], X_final.iloc[test_idx]\n",
    "    y_train, y_test = y.iloc[train_idx], y.iloc[test_idx]\n",
    "    model.fit(X_train, y_train)\n",
    "    y_train_pred_prob = model.predict_proba(X_train)\n",
    "    y_test_pred_prob = model.predict_proba(X_test)\n",
    "    \n",
    "    train_logloss = log_loss(y_train, y_train_pred_prob)\n",
    "    test_logloss = log_loss(y_test, y_test_pred_prob)\n",
    "    \n",
    "    train_logloss_scores.append(train_logloss)\n",
    "    test_logloss_scores.append(test_logloss)\n",
    "print(\"Random Forest Cross-validation accuracy scores:\", cv_scores)\n",
    "print(\"Random Forest Mean accuracy:\", cv_scores.mean())\n",
    "\n",
    "print(\"Random Forest Train log loss scores:\", train_logloss_scores)\n",
    "print(\"Random Forest Mean Train log loss:\", sum(train_logloss_scores) / len(train_logloss_scores))\n",
    "\n",
    "print(\"Random Forest Test log loss scores:\", test_logloss_scores)\n",
    "print(\"Random Forest Mean Test log loss:\", sum(test_logloss_scores) / len(test_logloss_scores))\n"
   ]
  },
  {
   "cell_type": "code",
   "execution_count": null,
   "metadata": {},
   "outputs": [],
   "source": [
    "categorical_features = ['matchPeriod', 'Shot_Part', 'role', 'side']\n",
    "Shots_model[categorical_features] = Shots_model[categorical_features].astype('category')\n",
    "X = Shots_model.drop('is_Goal', axis=1) \n",
    "y = Shots_model['is_Goal'] \n",
    "encoder = OneHotEncoder(drop='first', sparse=False, handle_unknown='ignore')\n",
    "X_encoded = encoder.fit_transform(X[categorical_features])\n",
    "encoded_feature_names = encoder.get_feature_names_out(input_features=categorical_features)\n",
    "X_encoded_df = pd.DataFrame(X_encoded, columns=encoded_feature_names)\n",
    "X_final = pd.concat([X.drop(columns=categorical_features), X_encoded_df], axis=1)\n",
    "model = RandomForestClassifier(n_estimators=100) \n",
    "cv_scores = cross_val_score(model, X_final, y, cv=5, scoring='accuracy')\n",
    "y_pred_probabilities = cross_val_predict(model, X_final, y, cv=5, method='predict_proba')\n",
    "train_logloss_scores = []\n",
    "test_logloss_scores = []\n",
    "for train_idx, test_idx in StratifiedKFold(n_splits=5, shuffle=True, random_state=42).split(X_final, y):\n",
    "    X_train, X_test = X_final.iloc[train_idx], X_final.iloc[test_idx]\n",
    "    y_train, y_test = y.iloc[train_idx], y.iloc[test_idx]\n",
    "    model.fit(X_train, y_train)\n",
    "    y_train_pred_prob = model.predict_proba(X_train)\n",
    "    y_test_pred_prob = model.predict_proba(X_test)\n",
    "    \n",
    "    train_logloss = log_loss(y_train, y_train_pred_prob)\n",
    "    test_logloss = log_loss(y_test, y_test_pred_prob)\n",
    "    \n",
    "    train_logloss_scores.append(train_logloss)\n",
    "    test_logloss_scores.append(test_logloss)\n",
    "print(\"Random Forest Cross-validation accuracy scores:\", cv_scores)\n",
    "print(\"Random Forest Mean accuracy:\", cv_scores.mean())\n",
    "\n",
    "print(\"Random Forest Train log loss scores:\", train_logloss_scores)\n",
    "print(\"Random Forest Mean Train log loss:\", sum(train_logloss_scores) / len(train_logloss_scores))\n",
    "\n",
    "print(\"Random Forest Test log loss scores:\", test_logloss_scores)\n",
    "print(\"Random Forest Mean Test log loss:\", sum(test_logloss_scores) / len(test_logloss_scores))\n"
   ]
  },
  {
   "cell_type": "code",
   "execution_count": null,
   "metadata": {},
   "outputs": [],
   "source": [
    "categorical_features = ['matchPeriod', 'Shot_Part', 'role', 'side']\n",
    "Shots_model[categorical_features] = Shots_model[categorical_features].astype('category')\n",
    "X = Shots_model.drop('is_Goal', axis=1) \n",
    "y = Shots_model['is_Goal'] \n",
    "encoder = OneHotEncoder(drop='first', sparse=False, handle_unknown='ignore')\n",
    "X_encoded = encoder.fit_transform(X[categorical_features])\n",
    "encoded_feature_names = encoder.get_feature_names_out(input_features=categorical_features)\n",
    "X_encoded_df = pd.DataFrame(X_encoded, columns=encoded_feature_names)\n",
    "X_final = pd.concat([X.drop(columns=categorical_features), X_encoded_df], axis=1)\n",
    "model = RandomForestClassifier(n_estimators=500, max_depth=10, min_samples_split=5, random_state=42)\n",
    "cv_scores = cross_val_score(model, X_final, y, cv=5, scoring='accuracy')\n",
    "y_pred_probabilities = cross_val_predict(model, X_final, y, cv=5, method='predict_proba')\n",
    "train_logloss_scores = []\n",
    "test_logloss_scores = []\n",
    "for train_idx, test_idx in StratifiedKFold(n_splits=5, shuffle=True, random_state=42).split(X_final, y):\n",
    "    X_train, X_test = X_final.iloc[train_idx], X_final.iloc[test_idx]\n",
    "    y_train, y_test = y.iloc[train_idx], y.iloc[test_idx]\n",
    "    model.fit(X_train, y_train)\n",
    "    y_train_pred_prob = model.predict_proba(X_train)\n",
    "    y_test_pred_prob = model.predict_proba(X_test)\n",
    "    \n",
    "    train_logloss = log_loss(y_train, y_train_pred_prob)\n",
    "    test_logloss = log_loss(y_test, y_test_pred_prob)\n",
    "    \n",
    "    train_logloss_scores.append(train_logloss)\n",
    "    test_logloss_scores.append(test_logloss)\n",
    "print(\"Random Forest Cross-validation accuracy scores:\", cv_scores)\n",
    "print(\"Random Forest Mean accuracy:\", cv_scores.mean())\n",
    "\n",
    "print(\"Random Forest Train log loss scores:\", train_logloss_scores)\n",
    "print(\"Random Forest Mean Train log loss:\", sum(train_logloss_scores) / len(train_logloss_scores))\n",
    "\n",
    "print(\"Random Forest Test log loss scores:\", test_logloss_scores)\n",
    "print(\"Random Forest Mean Test log loss:\", sum(test_logloss_scores) / len(test_logloss_scores))\n"
   ]
  },
  {
   "cell_type": "code",
   "execution_count": null,
   "metadata": {},
   "outputs": [],
   "source": [
    "import pandas as pd\n",
    "from sklearn.model_selection import cross_val_predict, cross_val_score\n",
    "from sklearn.preprocessing import OneHotEncoder\n",
    "from sklearn.neural_network import MLPClassifier\n",
    "from sklearn.metrics import log_loss\n",
    "\n",
    "categorical_features = ['matchPeriod', 'Shot_Part', 'role', 'side']\n",
    "Shots_model[categorical_features] = Shots_model[categorical_features].astype('category')\n",
    "\n",
    "# 准备数据和标签\n",
    "X = Shots_model.drop('is_Goal', axis=1)  # 特征\n",
    "y = Shots_model['is_Goal']  # 标签\n",
    "\n",
    "# 对分类特征进行独热编码\n",
    "encoder = OneHotEncoder(drop='first', sparse=False, handle_unknown='ignore')\n",
    "X_encoded = encoder.fit_transform(X[categorical_features])\n",
    "\n",
    "# 获取编码后的特征名称\n",
    "encoded_feature_names = encoder.get_feature_names_out(input_features=categorical_features)\n",
    "\n",
    "# 将编码后的特征名称添加到 X_encoded 的 DataFrame 中\n",
    "X_encoded_df = pd.DataFrame(X_encoded, columns=encoded_feature_names)\n",
    "\n",
    "# 合并编码后的特征和其他特征\n",
    "X_final = pd.concat([X.drop(columns=categorical_features), X_encoded_df], axis=1)\n",
    "\n",
    "# 使用交叉验证评估神经网络模型\n",
    "model = MLPClassifier(hidden_layer_sizes=(100, 50), max_iter=1000)  # 可以根据需要调整隐藏层大小和迭代次数\n",
    "\n",
    "# 使用交叉验证预测概率\n",
    "y_pred_probabilities = cross_val_predict(model, X_final, y, cv=5, method='predict_proba')\n",
    "\n",
    "# 计算训练集和测试集的 log loss\n",
    "train_logloss_scores = []\n",
    "test_logloss_scores = []\n",
    "for train_idx, test_idx in StratifiedKFold(n_splits=5, shuffle=True, random_state=42).split(X_final, y):\n",
    "    X_train, X_test = X_final.iloc[train_idx], X_final.iloc[test_idx]\n",
    "    y_train, y_test = y.iloc[train_idx], y.iloc[test_idx]\n",
    "    model.fit(X_train, y_train)\n",
    "    y_train_pred_prob = model.predict_proba(X_train)\n",
    "    y_test_pred_prob = model.predict_proba(X_test)\n",
    "    \n",
    "    train_logloss = log_loss(y_train, y_train_pred_prob)\n",
    "    test_logloss = log_loss(y_test, y_test_pred_prob)\n",
    "    \n",
    "    train_logloss_scores.append(train_logloss)\n",
    "    test_logloss_scores.append(test_logloss)\n",
    "print(\"Neural Network Cross-validation accuracy scores:\", cv_scores)\n",
    "print(\"Neural Network Mean accuracy:\", cv_scores.mean())\n",
    "\n",
    "print(\"Neural Network Train log loss scores:\", train_logloss_scores)\n",
    "print(\"Neural Network Mean Train log loss:\", sum(train_logloss_scores) / len(train_logloss_scores))\n",
    "\n",
    "print(\"Neural Network Test log loss scores:\", test_logloss_scores)\n",
    "print(\"Neural Network Mean Test log loss:\", sum(test_logloss_scores) / len(test_logloss_scores))\n"
   ]
  },
  {
   "cell_type": "code",
   "execution_count": null,
   "metadata": {},
   "outputs": [],
   "source": []
  },
  {
   "cell_type": "code",
   "execution_count": null,
   "metadata": {},
   "outputs": [],
   "source": []
  },
  {
   "cell_type": "code",
   "execution_count": null,
   "metadata": {},
   "outputs": [],
   "source": []
  }
 ],
 "metadata": {
  "kernelspec": {
   "display_name": "Python 3 (ipykernel)",
   "language": "python",
   "name": "python3"
  },
  "language_info": {
   "codemirror_mode": {
    "name": "ipython",
    "version": 3
   },
   "file_extension": ".py",
   "mimetype": "text/x-python",
   "name": "python",
   "nbconvert_exporter": "python",
   "pygments_lexer": "ipython3",
   "version": "3.9.13"
  }
 },
 "nbformat": 4,
 "nbformat_minor": 1
}
